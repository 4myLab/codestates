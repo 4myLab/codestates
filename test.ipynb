{
  "nbformat": 4,
  "nbformat_minor": 0,
  "metadata": {
    "colab": {
      "name": "test.ipynb",
      "provenance": [],
      "authorship_tag": "ABX9TyN3eMtzBESAX9UC0/6mI/GA",
      "include_colab_link": true
    },
    "kernelspec": {
      "name": "python3",
      "display_name": "Python 3"
    },
    "language_info": {
      "name": "python"
    }
  },
  "cells": [
    {
      "cell_type": "markdown",
      "metadata": {
        "id": "view-in-github",
        "colab_type": "text"
      },
      "source": [
        "<a href=\"https://colab.research.google.com/github/4myLab/codestates/blob/main/test.ipynb\" target=\"_parent\"><img src=\"https://colab.research.google.com/assets/colab-badge.svg\" alt=\"Open In Colab\"/></a>"
      ]
    },
    {
      "cell_type": "code",
      "execution_count": 16,
      "metadata": {
        "id": "ZphQbNSXL41Q",
        "outputId": "db73b8cc-4161-4f37-df4b-2f06407786d8",
        "colab": {
          "base_uri": "https://localhost:8080/"
        }
      },
      "outputs": [
        {
          "output_type": "stream",
          "name": "stdout",
          "text": [
            "True\n",
            "False\n"
          ]
        }
      ],
      "source": [
        "a1 = [1,2,3,4,5]\n",
        "a2 = [1,3,5]\n",
        "a3 = [3,1,1]\n",
        "print(a1 < a2)\n",
        "print(a2 > a3) \n",
        "#why?\n",
        "\n"
      ]
    },
    {
      "cell_type": "code",
      "source": [
        "b = [1,2,3,4,5]\n",
        "c = [element*2 for element in b]\n",
        "d = 2*b\n",
        "print(c)\n",
        "print(d)"
      ],
      "metadata": {
        "id": "NrUpUC_oWut4",
        "outputId": "54d0e6be-46dd-4768-8826-c8b5ca13a8c0",
        "colab": {
          "base_uri": "https://localhost:8080/"
        }
      },
      "execution_count": 21,
      "outputs": [
        {
          "output_type": "stream",
          "name": "stdout",
          "text": [
            "[2, 4, 6, 8, 10]\n",
            "[1, 2, 3, 4, 5, 1, 2, 3, 4, 5]\n"
          ]
        }
      ]
    },
    {
      "cell_type": "code",
      "source": [
        "def one_to_sum(a):\n",
        "  if a == 0:\n",
        "    return 0\n",
        "  res = a + one_to_sum(a-1)\n",
        "  return res\n",
        "\n",
        "one_to_sum(10)"
      ],
      "metadata": {
        "id": "0hdpcTBlnSUh",
        "outputId": "ddebc3d9-89ff-46ed-eeb9-620471913924",
        "colab": {
          "base_uri": "https://localhost:8080/"
        }
      },
      "execution_count": 20,
      "outputs": [
        {
          "output_type": "execute_result",
          "data": {
            "text/plain": [
              "55"
            ]
          },
          "metadata": {},
          "execution_count": 20
        }
      ]
    },
    {
      "cell_type": "code",
      "source": [
        ""
      ],
      "metadata": {
        "id": "_d84GQLmob63"
      },
      "execution_count": null,
      "outputs": []
    }
  ]
}