{
 "cells": [
  {
   "cell_type": "markdown",
   "metadata": {},
   "source": [
    "회귀 / 분류\n",
    "\n",
    "분류\n",
    "- 조건 : target이 categorical data로 도출을 해내야 하는 상황\n",
    "         ex) 질병 진단 etc\n",
    "- 종류\n",
    "        1. Logistic Regression \n",
    "        2. Tree\n",
    "        3. Perceptron\n",
    "        4. Naive Bayes - 조건부확률\n",
    "        ...."
   ]
  },
  {
   "cell_type": "markdown",
   "metadata": {},
   "source": [
    "회귀\n",
    "- 조건 : target이 continuous data로 도출 해내야 하는 상황\n",
    "         ex) 집값, 주가 [추정] etc\n",
    "- 종류\n",
    "        1. Simple linear regression\n",
    "        2. Polynomial regression\n",
    "        3. Non - linear regression \n",
    "        ...."
   ]
  },
  {
   "cell_type": "markdown",
   "metadata": {},
   "source": [
    "1. Simple linear regression (from sklearn.linear_model import LinearRegression)\n",
    "\n",
    "Machine Learning - Input / Output 의 Type\n",
    "기본적으로 Vector!!\n",
    "\n",
    "f(x_i) = w1x1 + w2x2 + w3x3 + ... + wixi + B의 꼴을 지니는데,\n",
    "Simple linear regression의 경우에는 1차 이기 때문에, y = ax 로 표현(기본타입) -> y = ax + b (ML)\n",
    "\n",
    "f(x_i) = w1x1 + w2x2 + w3x3 + ... + wixi + B \n",
    "\n",
    "W = [w1, w2, w3, ... , wi] (1,i)\n",
    "X = [x1, x2, x3, ... , xi] (1,i)\n",
    " \n",
    "\n"
   ]
  },
  {
   "cell_type": "markdown",
   "metadata": {},
   "source": [
    "2. Polynomial (from sklearn.preprocessing import PolynomialFeatures)\n"
   ]
  },
  {
   "cell_type": "markdown",
   "metadata": {},
   "source": [
    "Norm : 크기\n",
    "\n",
    "1차 Norm : sigma(|yi|)\n",
    "2차 Norm : sqrt(sigma(yi^2)) = sqrt(y1^2 + y2^2+ ....) = sqrt(y1*y1 + y2*y2+ ...) = sqrt(Yi_T * Yi)\n",
    "\n",
    "\n",
    "(from sklearn.metrics import *)\n",
    "\n",
    "MAE(Mean Absolute Error) : sigma( | y_결과값 - y_추정값(모델값) | ) / N\n",
    "MSE(Mean Square Error) : sigma( (y_결과값 - y_추정값(모델값))^2 ) / N\n",
    "RMSE(Root Mean Square Error) : sqrt( sigma( (y_결과값 - y_추정값(모델값))^2 ) / N ) = sqrt( sigma( (y_결과값 - y_추정값(모델값))^2 ) / sqrt(N)\n",
    "\n",
    "MAE vs MSE\n",
    "- MSE는 MAE보다 Outlier에 영향을 많이 받는다. \n",
    "- 제곱을 하기 때문에 = 큰 값에 대해 더 크게 반응하기 때문에 Outlier에 영향을 더 많이 받는다. \n",
    "- MAE - 직관적이다(해석가능하다 - 단위가 같음)\n",
    "- MSE - Outlier가 많거나 크면(Outlier에 영향을 더 많이 받는다), 저항성이 높다\n",
    "\n",
    "MAE vs RMSE\n",
    "- RMSE Outlier가 많거나 크면(Outlier에 영향을 더 많이 받는다), 저항성이 높다. = scale 같아짐\n",
    "- MAE보다 Outlier에 저항성이 크다.\n",
    "\n",
    "\n",
    "                MSE     RMSE        MAE\n",
    "[0,4,9] [3,5,7]  14/3   sqrt(42)/3  2\n",
    "[2,4,2]          9      3           7/3\n",
    "[3,5,6]          1/3    sqrt(3)/3   1/3"
   ]
  },
  {
   "cell_type": "markdown",
   "metadata": {},
   "source": [
    "R squared ( from sklearn.metrics import r2_score )\n",
    "R^2 = SSE / SST = 1 - (SSR/SST)\n",
    "\n",
    "평균값 - y_\n",
    "관측값(target) - y = [y_train, y_val, y_test]\n",
    "예측치(모델값) - y_hat = [y_pred]\n",
    "\n",
    "SST(Sum of Squares Total) \n",
    "SSE(Sum of Squares Error)\n",
    "SSR(Sum of Squares Regression)\n",
    "RSS(Residual Sum of Squares)"
   ]
  },
  {
   "cell_type": "markdown",
   "metadata": {},
   "source": [
    "Log scales"
   ]
  },
  {
   "cell_type": "code",
   "execution_count": 1,
   "metadata": {},
   "outputs": [
    {
     "data": {
      "text/plain": [
       "0.5712336263666508"
      ]
     },
     "execution_count": 1,
     "metadata": {},
     "output_type": "execute_result"
    }
   ],
   "source": [
    "import numpy as np\n",
    "\n",
    "np.exp(-0.559957)"
   ]
  },
  {
   "cell_type": "code",
   "execution_count": null,
   "metadata": {},
   "outputs": [],
   "source": []
  }
 ],
 "metadata": {
  "kernelspec": {
   "display_name": "Python 3.9.7 ('base')",
   "language": "python",
   "name": "python3"
  },
  "language_info": {
   "codemirror_mode": {
    "name": "ipython",
    "version": 3
   },
   "file_extension": ".py",
   "mimetype": "text/x-python",
   "name": "python",
   "nbconvert_exporter": "python",
   "pygments_lexer": "ipython3",
   "version": "3.9.7"
  },
  "orig_nbformat": 4,
  "vscode": {
   "interpreter": {
    "hash": "3cccf3c0b3c2a2050357b1b8a17562ab47367858b3436cecb27352aff36d702f"
   }
  }
 },
 "nbformat": 4,
 "nbformat_minor": 2
}
