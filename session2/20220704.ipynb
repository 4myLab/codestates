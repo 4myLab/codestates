{
 "cells": [
  {
   "cell_type": "code",
   "execution_count": 3,
   "metadata": {},
   "outputs": [],
   "source": [
    "import pandas as pd\n",
    "df = pd.read_csv('https://ds-lecture-data.s3.ap-northeast-2.amazonaws.com/house-prices/house_prices_train.csv')"
   ]
  },
  {
   "cell_type": "code",
   "execution_count": 4,
   "metadata": {},
   "outputs": [
    {
     "data": {
      "text/plain": [
       "Index(['Id', 'MSSubClass', 'MSZoning', 'LotFrontage', 'LotArea', 'Street',\n",
       "       'Alley', 'LotShape', 'LandContour', 'Utilities', 'LotConfig',\n",
       "       'LandSlope', 'Neighborhood', 'Condition1', 'Condition2', 'BldgType',\n",
       "       'HouseStyle', 'OverallQual', 'OverallCond', 'YearBuilt', 'YearRemodAdd',\n",
       "       'RoofStyle', 'RoofMatl', 'Exterior1st', 'Exterior2nd', 'MasVnrType',\n",
       "       'MasVnrArea', 'ExterQual', 'ExterCond', 'Foundation', 'BsmtQual',\n",
       "       'BsmtCond', 'BsmtExposure', 'BsmtFinType1', 'BsmtFinSF1',\n",
       "       'BsmtFinType2', 'BsmtFinSF2', 'BsmtUnfSF', 'TotalBsmtSF', 'Heating',\n",
       "       'HeatingQC', 'CentralAir', 'Electrical', '1stFlrSF', '2ndFlrSF',\n",
       "       'LowQualFinSF', 'GrLivArea', 'BsmtFullBath', 'BsmtHalfBath', 'FullBath',\n",
       "       'HalfBath', 'BedroomAbvGr', 'KitchenAbvGr', 'KitchenQual',\n",
       "       'TotRmsAbvGrd', 'Functional', 'Fireplaces', 'FireplaceQu', 'GarageType',\n",
       "       'GarageYrBlt', 'GarageFinish', 'GarageCars', 'GarageArea', 'GarageQual',\n",
       "       'GarageCond', 'PavedDrive', 'WoodDeckSF', 'OpenPorchSF',\n",
       "       'EnclosedPorch', '3SsnPorch', 'ScreenPorch', 'PoolArea', 'PoolQC',\n",
       "       'Fence', 'MiscFeature', 'MiscVal', 'MoSold', 'YrSold', 'SaleType',\n",
       "       'SaleCondition', 'SalePrice'],\n",
       "      dtype='object')"
      ]
     },
     "execution_count": 4,
     "metadata": {},
     "output_type": "execute_result"
    }
   ],
   "source": [
    "df.columns"
   ]
  },
  {
   "cell_type": "code",
   "execution_count": 5,
   "metadata": {},
   "outputs": [
    {
     "data": {
      "text/plain": [
       "1095.0"
      ]
     },
     "execution_count": 5,
     "metadata": {},
     "output_type": "execute_result"
    }
   ],
   "source": [
    "len(df)*0.75"
   ]
  },
  {
   "cell_type": "code",
   "execution_count": 6,
   "metadata": {},
   "outputs": [],
   "source": [
    "train = df.sample(frac=0.75, random_state=1)\n",
    "test = df.drop(train.index)"
   ]
  },
  {
   "cell_type": "code",
   "execution_count": 7,
   "metadata": {},
   "outputs": [
    {
     "data": {
      "text/html": [
       "<div>\n",
       "<style scoped>\n",
       "    .dataframe tbody tr th:only-of-type {\n",
       "        vertical-align: middle;\n",
       "    }\n",
       "\n",
       "    .dataframe tbody tr th {\n",
       "        vertical-align: top;\n",
       "    }\n",
       "\n",
       "    .dataframe thead th {\n",
       "        text-align: right;\n",
       "    }\n",
       "</style>\n",
       "<table border=\"1\" class=\"dataframe\">\n",
       "  <thead>\n",
       "    <tr style=\"text-align: right;\">\n",
       "      <th></th>\n",
       "      <th>Id</th>\n",
       "      <th>MSSubClass</th>\n",
       "      <th>MSZoning</th>\n",
       "      <th>LotFrontage</th>\n",
       "      <th>LotArea</th>\n",
       "      <th>Street</th>\n",
       "      <th>Alley</th>\n",
       "      <th>LotShape</th>\n",
       "      <th>LandContour</th>\n",
       "      <th>Utilities</th>\n",
       "      <th>...</th>\n",
       "      <th>PoolArea</th>\n",
       "      <th>PoolQC</th>\n",
       "      <th>Fence</th>\n",
       "      <th>MiscFeature</th>\n",
       "      <th>MiscVal</th>\n",
       "      <th>MoSold</th>\n",
       "      <th>YrSold</th>\n",
       "      <th>SaleType</th>\n",
       "      <th>SaleCondition</th>\n",
       "      <th>SalePrice</th>\n",
       "    </tr>\n",
       "  </thead>\n",
       "  <tbody>\n",
       "    <tr>\n",
       "      <th>258</th>\n",
       "      <td>259</td>\n",
       "      <td>60</td>\n",
       "      <td>RL</td>\n",
       "      <td>80.0</td>\n",
       "      <td>12435</td>\n",
       "      <td>Pave</td>\n",
       "      <td>NaN</td>\n",
       "      <td>Reg</td>\n",
       "      <td>Lvl</td>\n",
       "      <td>AllPub</td>\n",
       "      <td>...</td>\n",
       "      <td>0</td>\n",
       "      <td>NaN</td>\n",
       "      <td>NaN</td>\n",
       "      <td>NaN</td>\n",
       "      <td>0</td>\n",
       "      <td>5</td>\n",
       "      <td>2008</td>\n",
       "      <td>WD</td>\n",
       "      <td>Normal</td>\n",
       "      <td>231500</td>\n",
       "    </tr>\n",
       "    <tr>\n",
       "      <th>267</th>\n",
       "      <td>268</td>\n",
       "      <td>75</td>\n",
       "      <td>RL</td>\n",
       "      <td>60.0</td>\n",
       "      <td>8400</td>\n",
       "      <td>Pave</td>\n",
       "      <td>NaN</td>\n",
       "      <td>Reg</td>\n",
       "      <td>Bnk</td>\n",
       "      <td>AllPub</td>\n",
       "      <td>...</td>\n",
       "      <td>0</td>\n",
       "      <td>NaN</td>\n",
       "      <td>NaN</td>\n",
       "      <td>NaN</td>\n",
       "      <td>0</td>\n",
       "      <td>7</td>\n",
       "      <td>2008</td>\n",
       "      <td>WD</td>\n",
       "      <td>Normal</td>\n",
       "      <td>179500</td>\n",
       "    </tr>\n",
       "    <tr>\n",
       "      <th>288</th>\n",
       "      <td>289</td>\n",
       "      <td>20</td>\n",
       "      <td>RL</td>\n",
       "      <td>NaN</td>\n",
       "      <td>9819</td>\n",
       "      <td>Pave</td>\n",
       "      <td>NaN</td>\n",
       "      <td>IR1</td>\n",
       "      <td>Lvl</td>\n",
       "      <td>AllPub</td>\n",
       "      <td>...</td>\n",
       "      <td>0</td>\n",
       "      <td>NaN</td>\n",
       "      <td>MnPrv</td>\n",
       "      <td>NaN</td>\n",
       "      <td>0</td>\n",
       "      <td>2</td>\n",
       "      <td>2010</td>\n",
       "      <td>WD</td>\n",
       "      <td>Normal</td>\n",
       "      <td>122000</td>\n",
       "    </tr>\n",
       "    <tr>\n",
       "      <th>649</th>\n",
       "      <td>650</td>\n",
       "      <td>180</td>\n",
       "      <td>RM</td>\n",
       "      <td>21.0</td>\n",
       "      <td>1936</td>\n",
       "      <td>Pave</td>\n",
       "      <td>NaN</td>\n",
       "      <td>Reg</td>\n",
       "      <td>Lvl</td>\n",
       "      <td>AllPub</td>\n",
       "      <td>...</td>\n",
       "      <td>0</td>\n",
       "      <td>NaN</td>\n",
       "      <td>MnPrv</td>\n",
       "      <td>NaN</td>\n",
       "      <td>0</td>\n",
       "      <td>12</td>\n",
       "      <td>2007</td>\n",
       "      <td>WD</td>\n",
       "      <td>Normal</td>\n",
       "      <td>84500</td>\n",
       "    </tr>\n",
       "    <tr>\n",
       "      <th>1233</th>\n",
       "      <td>1234</td>\n",
       "      <td>20</td>\n",
       "      <td>RL</td>\n",
       "      <td>NaN</td>\n",
       "      <td>12160</td>\n",
       "      <td>Pave</td>\n",
       "      <td>NaN</td>\n",
       "      <td>IR1</td>\n",
       "      <td>Lvl</td>\n",
       "      <td>AllPub</td>\n",
       "      <td>...</td>\n",
       "      <td>0</td>\n",
       "      <td>NaN</td>\n",
       "      <td>MnPrv</td>\n",
       "      <td>NaN</td>\n",
       "      <td>0</td>\n",
       "      <td>5</td>\n",
       "      <td>2010</td>\n",
       "      <td>COD</td>\n",
       "      <td>Abnorml</td>\n",
       "      <td>142000</td>\n",
       "    </tr>\n",
       "  </tbody>\n",
       "</table>\n",
       "<p>5 rows × 81 columns</p>\n",
       "</div>"
      ],
      "text/plain": [
       "        Id  MSSubClass MSZoning  LotFrontage  LotArea Street Alley LotShape  \\\n",
       "258    259          60       RL         80.0    12435   Pave   NaN      Reg   \n",
       "267    268          75       RL         60.0     8400   Pave   NaN      Reg   \n",
       "288    289          20       RL          NaN     9819   Pave   NaN      IR1   \n",
       "649    650         180       RM         21.0     1936   Pave   NaN      Reg   \n",
       "1233  1234          20       RL          NaN    12160   Pave   NaN      IR1   \n",
       "\n",
       "     LandContour Utilities  ... PoolArea PoolQC  Fence MiscFeature MiscVal  \\\n",
       "258          Lvl    AllPub  ...        0    NaN    NaN         NaN       0   \n",
       "267          Bnk    AllPub  ...        0    NaN    NaN         NaN       0   \n",
       "288          Lvl    AllPub  ...        0    NaN  MnPrv         NaN       0   \n",
       "649          Lvl    AllPub  ...        0    NaN  MnPrv         NaN       0   \n",
       "1233         Lvl    AllPub  ...        0    NaN  MnPrv         NaN       0   \n",
       "\n",
       "     MoSold YrSold  SaleType  SaleCondition  SalePrice  \n",
       "258       5   2008        WD         Normal     231500  \n",
       "267       7   2008        WD         Normal     179500  \n",
       "288       2   2010        WD         Normal     122000  \n",
       "649      12   2007        WD         Normal      84500  \n",
       "1233      5   2010       COD        Abnorml     142000  \n",
       "\n",
       "[5 rows x 81 columns]"
      ]
     },
     "execution_count": 7,
     "metadata": {},
     "output_type": "execute_result"
    }
   ],
   "source": [
    "train.head()"
   ]
  },
  {
   "cell_type": "code",
   "execution_count": 8,
   "metadata": {},
   "outputs": [
    {
     "data": {
      "text/plain": [
       "(1095, 365)"
      ]
     },
     "execution_count": 8,
     "metadata": {},
     "output_type": "execute_result"
    }
   ],
   "source": [
    "len(train), len(test)"
   ]
  },
  {
   "cell_type": "code",
   "execution_count": 9,
   "metadata": {},
   "outputs": [
    {
     "data": {
      "text/plain": [
       "180327.24200913243"
      ]
     },
     "execution_count": 9,
     "metadata": {},
     "output_type": "execute_result"
    }
   ],
   "source": [
    "train['SalePrice'].mean()"
   ]
  },
  {
   "cell_type": "code",
   "execution_count": 10,
   "metadata": {},
   "outputs": [],
   "source": [
    "target = 'SalePrice'\n",
    "y_train = train[target]\n",
    "y_test = test[target]"
   ]
  },
  {
   "cell_type": "code",
   "execution_count": 11,
   "metadata": {},
   "outputs": [],
   "source": [
    "predict = y_train.mean()"
   ]
  },
  {
   "cell_type": "code",
   "execution_count": 12,
   "metadata": {},
   "outputs": [
    {
     "data": {
      "text/plain": [
       "180327.24200913243"
      ]
     },
     "execution_count": 12,
     "metadata": {},
     "output_type": "execute_result"
    }
   ],
   "source": [
    "predict"
   ]
  },
  {
   "cell_type": "code",
   "execution_count": 13,
   "metadata": {},
   "outputs": [
    {
     "name": "stdout",
     "output_type": "stream",
     "text": [
      "훈련 에러 : 57775.57\n"
     ]
    }
   ],
   "source": [
    "from sklearn.metrics import mean_absolute_error\n",
    "y_pred = [predict] * len(y_train) # 리스트 * 숫자 하면 리스트 n개\n",
    "mae = mean_absolute_error(y_train, y_pred)\n",
    "\n",
    "print(f'훈련 에러 : {mae:.2f}')"
   ]
  },
  {
   "cell_type": "code",
   "execution_count": 14,
   "metadata": {},
   "outputs": [
    {
     "name": "stdout",
     "output_type": "stream",
     "text": [
      "훈련 에러 : 55862.90\n"
     ]
    }
   ],
   "source": [
    "y_pred = [predict] * len(y_test)\n",
    "mae = mean_absolute_error(y_test, y_pred)\n",
    "print(f'훈련 에러 : {mae:.2f}')"
   ]
  },
  {
   "cell_type": "code",
   "execution_count": 15,
   "metadata": {},
   "outputs": [
    {
     "data": {
      "image/png": "[encoded data removed]",
      "text/plain": [
       "<Figure size 432x288 with 1 Axes>"
      ]
     },
     "metadata": {
      "needs_background": "light"
     },
     "output_type": "display_data"
    }
   ],
   "source": [
    "import seaborn as sns\n",
    "sns.regplot(x=train['GrLivArea'], y=train['SalePrice']).set_title('Housing Prices');"
   ]
  },
  {
   "cell_type": "code",
   "execution_count": 16,
   "metadata": {},
   "outputs": [
    {
     "name": "stdout",
     "output_type": "stream",
     "text": [
      "훈련 에러 : 38327.78\n"
     ]
    }
   ],
   "source": [
    "from sklearn.linear_model import LinearRegression\n",
    "\n",
    "model = LinearRegression()\n",
    "\n",
    "features = ['GrLivArea']\n",
    "X_train = train[features]\n",
    "X_test = test[features]\n",
    "\n",
    "model.fit(X_train, y_train)\n",
    "y_pred = model.predict(X_train)\n",
    "mae = mean_absolute_error(y_train, y_pred)\n",
    "print(f'훈련 에러 : {mae:.2f}')"
   ]
  },
  {
   "cell_type": "code",
   "execution_count": 17,
   "metadata": {},
   "outputs": [
    {
     "name": "stderr",
     "output_type": "stream",
     "text": [
      "C:\\Users\\jsm88\\AppData\\Local\\Temp/ipykernel_8496/1831837556.py:7: MatplotlibDeprecationWarning: Calling gca() with keyword arguments was deprecated in Matplotlib 3.4. Starting two minor releases later, gca() will take no keyword arguments. The gca() function should only be used to get the current axes, or if no axes exist, create new axes with default keyword arguments. To create a new axes with non-default arguments, use plt.axes() or plt.subplot().\n",
      "  ax = fig.gca(projection='3d')\n"
     ]
    },
    {
     "data": {
      "image/png": "[encoded data removed]",
      "text/plain": [
       "<Figure size 748.8x514.8 with 1 Axes>"
      ]
     },
     "metadata": {
      "needs_background": "light"
     },
     "output_type": "display_data"
    }
   ],
   "source": [
    "import matplotlib.pyplot as plt\n",
    "import numpy as np\n",
    "from matplotlib import style\n",
    "\n",
    "style.use('seaborn-talk')\n",
    "fig = plt.figure()\n",
    "ax = fig.gca(projection='3d')\n",
    "\n",
    "ax.scatter(train['GrLivArea'], train['OverallQual'], train['SalePrice'])\n",
    "ax.set_xlabel('GrLivArea', labelpad=12)\n",
    "ax.set_ylabel('OverallQual', labelpad=10)\n",
    "ax.set_zlabel('SalePrice', labelpad=20)\n",
    "\n",
    "plt.suptitle('Housing Prices', fontsize=15)\n",
    "plt.show()"
   ]
  },
  {
   "cell_type": "code",
   "execution_count": 18,
   "metadata": {},
   "outputs": [
    {
     "name": "stdout",
     "output_type": "stream",
     "text": [
      "Requirement already satisfied: plotly in c:\\users\\jsm88\\anaconda3\\lib\\site-packages (5.9.0)Note: you may need to restart the kernel to use updated packages.\n",
      "Requirement already satisfied: tenacity>=6.2.0 in c:\\users\\jsm88\\anaconda3\\lib\\site-packages (from plotly) (8.0.1)\n",
      "\n"
     ]
    }
   ],
   "source": [
    "pip install plotly --upgrade"
   ]
  },
  {
   "cell_type": "code",
   "execution_count": 19,
   "metadata": {},
   "outputs": [],
   "source": [
    "# import plotly.plotly as px\n",
    "# px.scatter_3d(\n",
    "#     train,\n",
    "#     x='GrLivArea',\n",
    "#     y='OverallQual',\n",
    "#     z='SalePrice',\n",
    "#     title='House Prices'\n",
    "# )"
   ]
  },
  {
   "cell_type": "code",
   "execution_count": 20,
   "metadata": {},
   "outputs": [],
   "source": [
    "features = ['GrLivArea', 'OverallQual']\n",
    "X_train = train[features]\n",
    "X_test = test[features]"
   ]
  },
  {
   "cell_type": "code",
   "execution_count": 21,
   "metadata": {},
   "outputs": [
    {
     "name": "stdout",
     "output_type": "stream",
     "text": [
      "훈련 에러 : 29129.58\n"
     ]
    }
   ],
   "source": [
    "model.fit(X_train, y_train)\n",
    "y_pred = model.predict(X_train)\n",
    "mae = mean_absolute_error(y_train, y_pred)\n",
    "print(f'훈련 에러 : {mae:.2f}')"
   ]
  },
  {
   "cell_type": "code",
   "execution_count": 22,
   "metadata": {},
   "outputs": [
    {
     "name": "stdout",
     "output_type": "stream",
     "text": [
      "테스트 에러 : 27598.31\n"
     ]
    }
   ],
   "source": [
    "y_pred = model.predict(X_test)\n",
    "mae = mean_absolute_error(y_test, y_pred)\n",
    "print(f'테스트 에러 : {mae:.2f}')"
   ]
  },
  {
   "cell_type": "code",
   "execution_count": 41,
   "metadata": {},
   "outputs": [],
   "source": [
    "import numpy as np\n",
    "import plotly.express as px\n",
    "import plotly.graph_objs as go\n",
    "import itertools\n",
    "\n",
    "def surface_3d(df, f1, f2, target, length=20, **kwargs):\n",
    "    plot = px.scatter_3d(df, x=f1, y=f2, z=target, opacity=0.5, **kwargs)\n",
    "    model = LinearRegression()\n",
    "    model.fit(df[[f1, f2]], df[target])\n",
    "    \n",
    "    x_axis = np.linspace(df[f1].min(), df[f1].max(), length)\n",
    "    y_axis = np.linspace(df[f2].min(), df[f2].max(), length)\n",
    "    coords = list(itertools.product(x_axis, y_axis))\n",
    "    \n",
    "    pred = model.predict(coords)\n",
    "    z_axis = pred.reshape(length, length).T\n",
    "    \n",
    "    plot.add_trace(go.Surface(x=x_axis, y=y_axis, z=z_axis, colorscale='Viridis'))\n",
    "    \n",
    "    return plot"
   ]
  },
  {
   "cell_type": "code",
   "execution_count": 42,
   "metadata": {},
   "outputs": [
    {
     "data": {
      "application/vnd.plotly.v1+json": {
       "config": {
        "plotlyServerURL": "https://plot.ly"
       },
       "data": [
        {
         "hovertemplate": "GrLivArea=%{x}<br>OverallQual=%{y}<br>SalePrice=%{z}<extra></extra>",
         "legendgroup": "",
         "marker": {
          "color": "#636efa",
          "opacity": 0.5,
          "symbol": "circle"
         },
         "mode": "markers",
         "name": "",
         "scene": "scene",
         "showlegend": false,
         "type": "scatter3d",
         "x": [
          1792,
          2192,
          900,
          630,
          1188,
          2161,
          2374,
          1200,
          1948,
          1644,
          1484,
          904,
          1555,
          1842,
          1654,
          1248,
          894,
          1235,
          1524,
          923,
          1040,
          2290,
          1616,
          1718,
          784,
          1851,
          1362,
          1349,
          3140,
          1365,
          2138,
          1218,
          864,
          924,
          1297,
          1944,
          972,
          869,
          2329,
          1346,
          1716,
          1196,
          803,
          893,
          1690,
          1657,
          1111,
          1266,
          1468,
          2167,
          882,
          3493,
          778,
          2020,
          1240,
          789,
          950,
          1430,
          1128,
          1732,
          1516,
          2452,
          841,
          768,
          1486,
          999,
          1469,
          1850,
          1126,
          1526,
          3086,
          1452,
          2468,
          1646,
          1466,
          1358,
          1482,
          1308,
          2633,
          1258,
          2142,
          1573,
          860,
          1264,
          1714,
          1200,
          1426,
          1158,
          1845,
          1683,
          1402,
          1309,
          864,
          1224,
          1301,
          1250,
          912,
          1339,
          1026,
          1159,
          1968,
          816,
          1363,
          872,
          1008,
          1768,
          1316,
          1717,
          1482,
          2622,
          1539,
          2008,
          1117,
          1414,
          1801,
          1456,
          1466,
          955,
          1920,
          1707,
          1604,
          1489,
          2794,
          1818,
          2521,
          1298,
          1766,
          1044,
          2090,
          1692,
          2172,
          944,
          1008,
          1200,
          764,
          1494,
          3627,
          1702,
          2291,
          912,
          1517,
          2872,
          1414,
          1557,
          1317,
          1797,
          1134,
          1430,
          1861,
          925,
          1253,
          1481,
          864,
          1600,
          1626,
          2576,
          1526,
          1211,
          1140,
          1475,
          800,
          1073,
          1556,
          1004,
          918,
          1144,
          1573,
          1524,
          1728,
          1347,
          1947,
          1824,
          2236,
          1689,
          1675,
          936,
          2119,
          1786,
          1271,
          1342,
          988,
          1456,
          1632,
          912,
          1836,
          1795,
          2042,
          2473,
          1635,
          864,
          858,
          1507,
          987,
          1739,
          1385,
          2263,
          1630,
          1244,
          1152,
          708,
          1661,
          2127,
          1445,
          1571,
          1709,
          1284,
          1221,
          2462,
          2727,
          1786,
          1668,
          833,
          1458,
          864,
          1718,
          1939,
          874,
          1040,
          1572,
          988,
          4476,
          864,
          1471,
          1920,
          1367,
          864,
          1590,
          1291,
          1224,
          1430,
          1360,
          1640,
          1208,
          1539,
          1620,
          1535,
          2531,
          948,
          1738,
          2392,
          1792,
          1802,
          1040,
          1788,
          1039,
          2229,
          1190,
          1578,
          1389,
          988,
          899,
          752,
          1553,
          1279,
          1664,
          1176,
          1217,
          605,
          1698,
          1040,
          1296,
          2136,
          1768,
          1337,
          1304,
          1686,
          988,
          999,
          1136,
          987,
          1725,
          1498,
          1184,
          974,
          1868,
          1124,
          1302,
          912,
          1991,
          1086,
          1652,
          1057,
          1576,
          1074,
          1935,
          1541,
          1412,
          882,
          1656,
          968,
          835,
          2078,
          2200,
          1294,
          1310,
          1982,
          1593,
          2054,
          1086,
          988,
          1251,
          1120,
          1236,
          1682,
          1056,
          1888,
          1116,
          1743,
          1656,
          1266,
          1350,
          1824,
          1178,
          1614,
          1456,
          796,
          1970,
          1442,
          1440,
          1647,
          1660,
          1556,
          1869,
          2097,
          1164,
          2945,
          1145,
          2127,
          1487,
          1369,
          923,
          1742,
          1958,
          1704,
          1572,
          1680,
          958,
          1056,
          2418,
          1456,
          1661,
          1801,
          747,
          1518,
          1040,
          1126,
          1392,
          1212,
          1506,
          935,
          1550,
          1080,
          1922,
          1268,
          1092,
          1768,
          1665,
          1090,
          936,
          2452,
          1360,
          1414,
          1365,
          1668,
          2080,
          1694,
          1576,
          1958,
          1803,
          1164,
          894,
          1337,
          1436,
          1314,
          1869,
          2634,
          1092,
          1310,
          1472,
          2713,
          1501,
          480,
          1932,
          1774,
          866,
          2290,
          1512,
          2018,
          1912,
          886,
          1973,
          1442,
          1146,
          1372,
          1548,
          958,
          796,
          2263,
          1620,
          2097,
          1800,
          1370,
          2784,
          1567,
          1432,
          1721,
          1128,
          1269,
          1552,
          1258,
          1573,
          2715,
          1446,
          1200,
          864,
          996,
          2337,
          1192,
          1224,
          1593,
          720,
          894,
          1440,
          864,
          2196,
          1588,
          1746,
          1453,
          1328,
          968,
          1509,
          1225,
          3228,
          1496,
          1554,
          1250,
          1671,
          2515,
          1411,
          2062,
          1065,
          2345,
          1306,
          1796,
          952,
          912,
          1850,
          1320,
          1771,
          1724,
          1981,
          864,
          894,
          1068,
          1188,
          2256,
          1196,
          1056,
          960,
          1530,
          2090,
          1163,
          1344,
          1294,
          971,
          1915,
          1710,
          1236,
          2113,
          1121,
          2728,
          2110,
          1489,
          913,
          1509,
          960,
          1247,
          1734,
          2084,
          1971,
          2526,
          1494,
          1200,
          768,
          1664,
          1756,
          2372,
          1212,
          1525,
          1694,
          1144,
          2110,
          1220,
          816,
          1442,
          804,
          1734,
          882,
          1339,
          1498,
          1050,
          1208,
          1561,
          2417,
          1960,
          1040,
          1056,
          2126,
          1324,
          980,
          1641,
          1288,
          987,
          1708,
          1220,
          790,
          2002,
          1041,
          1479,
          5642,
          1246,
          1530,
          1368,
          1969,
          2519,
          788,
          816,
          2654,
          1478,
          1258,
          1192,
          1721,
          1040,
          1077,
          1489,
          1040,
          1221,
          1844,
          910,
          1181,
          1575,
          864,
          1664,
          1216,
          1635,
          754,
          1680,
          1567,
          1141,
          1126,
          2285,
          1764,
          1382,
          1976,
          1355,
          2520,
          1482,
          1479,
          2243,
          1872,
          894,
          1374,
          1826,
          1224,
          2320,
          2340,
          2596,
          1258,
          2112,
          1296,
          848,
          987,
          848,
          1500,
          1582,
          1230,
          1082,
          1100,
          1744,
          2358,
          1577,
          1646,
          2365,
          1908,
          2898,
          1663,
          2158,
          2094,
          1336,
          1203,
          1668,
          630,
          1987,
          1779,
          1792,
          2108,
          1324,
          1935,
          1660,
          2448,
          1719,
          1173,
          1812,
          1154,
          1660,
          780,
          1494,
          1578,
          1478,
          1728,
          816,
          1687,
          1241,
          1742,
          2730,
          1720,
          1440,
          1844,
          1148,
          2046,
          1728,
          1392,
          1180,
          1441,
          1103,
          1718,
          1604,
          2060,
          1786,
          1795,
          986,
          1094,
          1431,
          438,
          1144,
          1131,
          1218,
          1442,
          2028,
          1125,
          902,
          1362,
          1865,
          1978,
          1005,
          1484,
          1154,
          1689,
          1214,
          2324,
          1376,
          1629,
          1494,
          2132,
          1370,
          894,
          1904,
          1360,
          784,
          894,
          1474,
          1929,
          1959,
          2034,
          1804,
          1656,
          1750,
          1710,
          960,
          1140,
          1479,
          1959,
          1767,
          1509,
          894,
          1242,
          2828,
          924,
          1121,
          1701,
          1928,
          1294,
          1092,
          1232,
          1470,
          698,
          845,
          1476,
          1234,
          1694,
          1652,
          1595,
          1616,
          1073,
          1386,
          1200,
          1699,
          1003,
          1416,
          1652,
          1416,
          1072,
          2514,
          1811,
          904,
          1148,
          960,
          2524,
          1477,
          924,
          1962,
          1069,
          861,
          2087,
          2020,
          1208,
          2224,
          1604,
          816,
          2201,
          1344,
          1357,
          1006,
          1504,
          864,
          1535,
          2262,
          1265,
          1456,
          1269,
          1262,
          1352,
          1216,
          1314,
          904,
          1601,
          825,
          1768,
          1072,
          1836,
          990,
          1383,
          1839,
          1525,
          1761,
          1138,
          1513,
          1123,
          1580,
          1391,
          1062,
          1004,
          848,
          1196,
          1494,
          1940,
          1426,
          2263,
          1775,
          1504,
          1047,
          1680,
          1060,
          729,
          2287,
          965,
          1389,
          1700,
          1040,
          1226,
          1048,
          2076,
          1459,
          2260,
          1790,
          1605,
          1218,
          1630,
          1954,
          1069,
          2482,
          1422,
          1717,
          1502,
          630,
          1855,
          1363,
          1324,
          985,
          1560,
          1215,
          630,
          1636,
          3608,
          2184,
          1337,
          1152,
          816,
          1776,
          1111,
          1120,
          1392,
          773,
          1092,
          2447,
          1125,
          840,
          1902,
          1625,
          1656,
          1548,
          1406,
          1709,
          1048,
          1214,
          1700,
          1252,
          1688,
          1646,
          1720,
          1092,
          1352,
          1752,
          1876,
          1394,
          1434,
          747,
          2646,
          1716,
          2149,
          864,
          1114,
          1950,
          2392,
          1405,
          1523,
          1316,
          1574,
          907,
          1394,
          1710,
          912,
          1165,
          1646,
          2207,
          864,
          1228,
          1456,
          1040,
          1600,
          1644,
          1382,
          2259,
          1872,
          1340,
          3279,
          2668,
          2046,
          1056,
          952,
          1057,
          990,
          1176,
          1262,
          1375,
          1334,
          1936,
          1762,
          1953,
          954,
          964,
          1301,
          2320,
          1338,
          1314,
          1412,
          1473,
          2234,
          1118,
          848,
          2332,
          1327,
          1733,
          1200,
          1728,
          1396,
          1928,
          2217,
          1204,
          1717,
          990,
          1431,
          1050,
          1537,
          1212,
          1118,
          768,
          2364,
          1510,
          1419,
          875,
          3222,
          864,
          1608,
          334,
          1097,
          1456,
          1095,
          1632,
          1440,
          2240,
          900,
          1774,
          1253,
          1218,
          1393,
          1563,
          720,
          1490,
          1661,
          1502,
          1904,
          2610,
          1632,
          1015,
          1839,
          1040,
          1277,
          1040,
          935,
          1392,
          1886,
          1588,
          1336,
          1779,
          1928,
          1363,
          1986,
          1183,
          1517,
          4676,
          1392,
          1112,
          1099,
          3447,
          2035,
          1122,
          1134,
          1470,
          1478,
          1419,
          2526,
          1110,
          1040,
          1629,
          2640,
          1362,
          1522,
          2466,
          1504,
          1200,
          2000,
          767,
          1632,
          1665,
          1114,
          1250,
          2267,
          1132,
          1795,
          1820,
          1092,
          1734,
          1639,
          1505,
          1470,
          1863,
          2574,
          1690,
          1261,
          3194,
          968,
          1535,
          1109,
          2554,
          1022,
          1674,
          1252,
          1644,
          1691,
          1670,
          1200,
          845,
          2620,
          894,
          1131,
          1989,
          1617,
          958,
          1694,
          1787,
          520,
          1283,
          1285,
          1152,
          1322,
          1968,
          1905,
          1458,
          1144,
          3395,
          1328,
          1088,
          1571,
          1034,
          816,
          2030,
          894,
          1924,
          2520,
          672,
          1576,
          1602,
          1376,
          792,
          1733,
          1800,
          1067,
          1752,
          2403,
          4316,
          1343,
          1638,
          1268,
          1428,
          2090,
          2344,
          3112,
          1558,
          1048,
          1128,
          1080,
          1856,
          1395,
          1902,
          1541,
          1586,
          928,
          2198,
          1092,
          1337,
          1868,
          1032,
          858,
          1229,
          1072,
          1194,
          902,
          1911,
          1167,
          1111,
          1416,
          1559,
          1144,
          1679,
          1712,
          1218,
          1358,
          1252,
          2084,
          1768,
          848,
          1319,
          1582,
          1118,
          884,
          2210,
          981,
          1689,
          1626,
          1920,
          1664,
          1130,
          1547,
          1452,
          936,
          1484,
          1456,
          1416,
          1344,
          1720,
          912,
          1472,
          2555,
          1464
         ],
         "y": [
          7,
          5,
          5,
          4,
          5,
          8,
          8,
          7,
          7,
          7,
          5,
          1,
          7,
          9,
          7,
          5,
          5,
          5,
          7,
          6,
          5,
          4,
          8,
          10,
          6,
          6,
          6,
          7,
          9,
          5,
          5,
          6,
          5,
          4,
          5,
          9,
          6,
          4,
          7,
          4,
          5,
          6,
          5,
          5,
          6,
          6,
          7,
          7,
          8,
          7,
          5,
          7,
          5,
          8,
          7,
          5,
          5,
          7,
          5,
          6,
          6,
          8,
          4,
          5,
          5,
          5,
          6,
          7,
          5,
          5,
          5,
          4,
          8,
          7,
          5,
          7,
          7,
          5,
          10,
          7,
          6,
          4,
          5,
          5,
          7,
          5,
          6,
          6,
          6,
          6,
          7,
          6,
          4,
          4,
          5,
          5,
          5,
          5,
          6,
          5,
          5,
          5,
          4,
          4,
          5,
          7,
          6,
          7,
          6,
          8,
          5,
          5,
          6,
          7,
          8,
          6,
          8,
          5,
          5,
          8,
          5,
          8,
          8,
          7,
          6,
          6,
          9,
          5,
          7,
          7,
          7,
          3,
          5,
          5,
          5,
          6,
          10,
          9,
          7,
          6,
          5,
          6,
          6,
          7,
          4,
          7,
          5,
          7,
          7,
          5,
          7,
          6,
          4,
          6,
          7,
          8,
          3,
          5,
          4,
          5,
          2,
          5,
          6,
          6,
          6,
          5,
          6,
          5,
          5,
          5,
          7,
          6,
          7,
          8,
          6,
          5,
          6,
          6,
          5,
          6,
          5,
          7,
          5,
          5,
          8,
          5,
          8,
          8,
          6,
          6,
          4,
          5,
          6,
          8,
          5,
          8,
          7,
          6,
          6,
          4,
          7,
          7,
          6,
          6,
          9,
          5,
          7,
          7,
          8,
          5,
          7,
          5,
          6,
          4,
          8,
          8,
          5,
          3,
          5,
          4,
          10,
          5,
          6,
          7,
          5,
          5,
          8,
          6,
          6,
          7,
          5,
          7,
          4,
          5,
          9,
          5,
          8,
          4,
          4,
          8,
          9,
          7,
          4,
          4,
          5,
          6,
          5,
          6,
          5,
          6,
          5,
          6,
          7,
          6,
          5,
          6,
          7,
          4,
          9,
          5,
          8,
          5,
          7,
          6,
          5,
          6,
          5,
          7,
          6,
          6,
          7,
          6,
          5,
          5,
          5,
          5,
          5,
          5,
          6,
          5,
          5,
          5,
          5,
          5,
          8,
          7,
          6,
          4,
          8,
          4,
          5,
          8,
          5,
          4,
          7,
          7,
          6,
          6,
          5,
          5,
          6,
          5,
          5,
          7,
          6,
          6,
          6,
          6,
          5,
          7,
          6,
          6,
          4,
          7,
          6,
          4,
          8,
          7,
          6,
          5,
          7,
          6,
          5,
          7,
          5,
          10,
          7,
          7,
          6,
          6,
          5,
          8,
          7,
          8,
          6,
          5,
          6,
          4,
          7,
          6,
          7,
          7,
          4,
          8,
          4,
          5,
          6,
          6,
          9,
          5,
          7,
          7,
          9,
          5,
          5,
          4,
          7,
          5,
          4,
          8,
          8,
          8,
          5,
          8,
          5,
          8,
          5,
          6,
          5,
          7,
          5,
          6,
          7,
          7,
          9,
          5,
          4,
          6,
          5,
          9,
          6,
          2,
          8,
          7,
          5,
          8,
          6,
          9,
          6,
          5,
          8,
          6,
          7,
          7,
          7,
          6,
          5,
          8,
          5,
          8,
          8,
          8,
          7,
          8,
          7,
          6,
          4,
          5,
          7,
          6,
          5,
          8,
          7,
          6,
          3,
          6,
          5,
          4,
          5,
          8,
          4,
          4,
          5,
          5,
          7,
          8,
          9,
          7,
          5,
          3,
          6,
          4,
          8,
          8,
          8,
          7,
          6,
          6,
          7,
          7,
          5,
          6,
          3,
          6,
          4,
          5,
          9,
          5,
          5,
          7,
          4,
          5,
          5,
          6,
          5,
          7,
          6,
          5,
          4,
          7,
          8,
          3,
          5,
          6,
          5,
          8,
          7,
          5,
          8,
          4,
          9,
          7,
          6,
          6,
          7,
          4,
          8,
          8,
          10,
          7,
          6,
          8,
          6,
          5,
          7,
          6,
          5,
          6,
          6,
          8,
          5,
          7,
          4,
          5,
          7,
          5,
          6,
          5,
          7,
          7,
          5,
          7,
          9,
          8,
          6,
          5,
          5,
          5,
          8,
          5,
          7,
          8,
          6,
          7,
          7,
          6,
          5,
          5,
          7,
          10,
          5,
          7,
          6,
          7,
          7,
          4,
          5,
          6,
          6,
          6,
          5,
          5,
          5,
          5,
          6,
          5,
          5,
          6,
          5,
          4,
          6,
          5,
          6,
          5,
          6,
          6,
          6,
          6,
          6,
          4,
          8,
          6,
          6,
          8,
          5,
          7,
          7,
          7,
          7,
          8,
          5,
          4,
          7,
          6,
          5,
          7,
          9,
          4,
          6,
          4,
          6,
          6,
          6,
          6,
          5,
          4,
          6,
          4,
          7,
          8,
          6,
          8,
          8,
          8,
          8,
          4,
          6,
          7,
          5,
          5,
          9,
          4,
          8,
          7,
          5,
          6,
          4,
          7,
          6,
          8,
          8,
          7,
          5,
          4,
          8,
          5,
          7,
          8,
          6,
          6,
          6,
          5,
          7,
          8,
          7,
          7,
          4,
          8,
          5,
          7,
          6,
          5,
          4,
          6,
          6,
          7,
          7,
          7,
          7,
          8,
          6,
          6,
          6,
          2,
          5,
          4,
          6,
          6,
          8,
          5,
          5,
          5,
          7,
          7,
          4,
          6,
          5,
          6,
          5,
          9,
          5,
          8,
          7,
          8,
          7,
          5,
          5,
          5,
          5,
          5,
          7,
          7,
          7,
          7,
          7,
          5,
          6,
          8,
          4,
          5,
          7,
          7,
          7,
          6,
          5,
          7,
          8,
          5,
          5,
          5,
          7,
          7,
          4,
          6,
          6,
          5,
          4,
          6,
          8,
          8,
          8,
          6,
          6,
          5,
          6,
          7,
          3,
          6,
          7,
          8,
          6,
          6,
          7,
          6,
          5,
          5,
          4,
          8,
          7,
          5,
          7,
          6,
          4,
          6,
          5,
          6,
          9,
          6,
          6,
          6,
          4,
          6,
          5,
          7,
          4,
          7,
          8,
          5,
          6,
          8,
          6,
          6,
          6,
          7,
          6,
          5,
          5,
          5,
          6,
          7,
          5,
          5,
          6,
          7,
          7,
          6,
          5,
          4,
          8,
          7,
          6,
          6,
          6,
          4,
          6,
          9,
          7,
          7,
          7,
          7,
          4,
          6,
          5,
          3,
          7,
          5,
          7,
          6,
          5,
          7,
          5,
          10,
          7,
          7,
          7,
          3,
          6,
          8,
          7,
          6,
          8,
          6,
          7,
          6,
          4,
          6,
          5,
          6,
          5,
          7,
          6,
          5,
          8,
          10,
          9,
          8,
          5,
          5,
          7,
          5,
          4,
          7,
          5,
          6,
          6,
          6,
          5,
          7,
          8,
          7,
          6,
          6,
          7,
          5,
          5,
          5,
          7,
          6,
          8,
          7,
          4,
          5,
          9,
          6,
          5,
          7,
          4,
          7,
          5,
          7,
          4,
          6,
          7,
          10,
          7,
          6,
          7,
          6,
          4,
          6,
          7,
          5,
          6,
          8,
          7,
          4,
          5,
          8,
          5,
          5,
          6,
          4,
          6,
          7,
          7,
          8,
          9,
          8,
          5,
          5,
          5,
          5,
          6,
          6,
          6,
          6,
          8,
          7,
          8,
          5,
          5,
          7,
          6,
          8,
          5,
          6,
          5,
          9,
          6,
          6,
          10,
          5,
          3,
          7,
          5,
          6,
          6,
          8,
          6,
          8,
          4,
          7,
          5,
          6,
          7,
          6,
          5,
          9,
          4,
          8,
          5,
          7,
          5,
          6,
          1,
          6,
          7,
          6,
          7,
          4,
          5,
          5,
          4,
          6,
          6,
          5,
          8,
          6,
          7,
          6,
          7,
          8,
          8,
          6,
          5,
          7,
          3,
          7,
          4,
          5,
          6,
          7,
          4,
          4,
          5,
          5,
          7,
          7,
          3,
          8,
          10,
          6,
          5,
          5,
          8,
          7,
          5,
          5,
          4,
          7,
          8,
          8,
          5,
          3,
          8,
          7,
          6,
          5,
          8,
          7,
          5,
          8,
          7,
          6,
          8,
          5,
          7,
          6,
          4,
          8,
          7,
          5,
          5,
          6,
          5,
          6,
          7,
          8,
          7,
          6,
          8,
          5,
          5,
          5,
          7,
          5,
          6,
          5,
          5,
          5,
          7,
          7,
          4,
          5,
          5,
          5,
          8,
          6,
          6,
          6,
          8,
          4,
          5,
          6,
          4,
          6,
          8,
          9,
          6,
          5,
          6,
          6,
          8,
          8,
          5,
          5,
          6,
          5,
          8,
          8,
          5,
          7,
          6,
          6,
          5,
          7,
          9,
          4,
          8,
          7,
          10,
          5,
          6,
          5,
          7,
          7,
          7,
          8,
          5,
          5,
          5,
          6,
          9,
          6,
          6,
          7,
          6,
          5,
          8,
          4,
          7,
          6,
          6,
          4,
          6,
          5,
          6,
          5,
          8,
          6,
          5,
          5,
          5,
          5,
          6,
          5,
          6,
          7,
          6,
          7,
          7,
          6,
          5,
          7,
          5,
          5,
          6,
          6,
          7,
          7,
          5,
          6,
          5,
          7,
          7,
          5,
          7,
          7,
          5,
          6,
          7,
          6,
          7,
          6,
          5
         ],
         "z": [
          231500,
          179500,
          122000,
          84500,
          142000,
          325624,
          285000,
          151000,
          195000,
          275000,
          175000,
          61000,
          174000,
          385000,
          230000,
          87000,
          125000,
          98600,
          260000,
          143000,
          124000,
          122500,
          236500,
          337500,
          76000,
          187000,
          128000,
          179000,
          485000,
          122500,
          106000,
          118000,
          127000,
          80000,
          153000,
          360000,
          132000,
          85500,
          262280,
          112000,
          131000,
          139000,
          87000,
          135000,
          181000,
          163500,
          116900,
          159895,
          244600,
          294000,
          97000,
          295000,
          120500,
          239500,
          194000,
          115000,
          119500,
          180000,
          118000,
          178000,
          167000,
          267000,
          82000,
          133900,
          167000,
          132500,
          135000,
          248000,
          160000,
          144500,
          200500,
          113000,
          354000,
          164000,
          170000,
          224000,
          163900,
          160000,
          466500,
          172500,
          193500,
          133000,
          137000,
          167500,
          196500,
          146000,
          159500,
          158000,
          189000,
          172500,
          194201,
          181000,
          115000,
          101800,
          100000,
          139000,
          115000,
          139000,
          156000,
          158000,
          172000,
          138000,
          125500,
          123000,
          134500,
          163000,
          169990,
          140000,
          140000,
          325000,
          157500,
          225000,
          107000,
          185500,
          239900,
          163990,
          201000,
          127000,
          172500,
          228000,
          117000,
          232600,
          403000,
          169500,
          151400,
          180000,
          370878,
          55993,
          207500,
          224500,
          280000,
          82000,
          137000,
          130500,
          73000,
          217000,
          625000,
          367294,
          230000,
          142000,
          115000,
          272000,
          176500,
          234000,
          40000,
          213500,
          126000,
          187100,
          200000,
          117500,
          176000,
          174000,
          97000,
          169000,
          154000,
          361919,
          85000,
          134000,
          96500,
          127000,
          60000,
          108480,
          151000,
          135000,
          99500,
          124000,
          177500,
          144000,
          119000,
          107500,
          254900,
          180500,
          222000,
          271000,
          181000,
          140000,
          158000,
          204750,
          135000,
          161500,
          128500,
          179540,
          143000,
          147000,
          280000,
          131500,
          253293,
          317000,
          210000,
          120000,
          110000,
          127000,
          106000,
          172500,
          166000,
          258000,
          213000,
          150000,
          158500,
          82500,
          212000,
          238000,
          158000,
          178000,
          328900,
          110000,
          185000,
          320000,
          315000,
          228950,
          180000,
          117000,
          176000,
          111250,
          297000,
          266000,
          130000,
          93500,
          186700,
          91000,
          745000,
          62383,
          172500,
          170000,
          119000,
          129900,
          210000,
          173000,
          164500,
          170000,
          125500,
          183000,
          103000,
          141500,
          315500,
          118858,
          290000,
          119000,
          104900,
          348000,
          374000,
          200100,
          132250,
          161500,
          131500,
          104000,
          132500,
          133000,
          170000,
          180000,
          130000,
          125000,
          186500,
          171500,
          100000,
          114500,
          173000,
          86000,
          320000,
          133000,
          220000,
          137900,
          224900,
          153500,
          115000,
          207500,
          113000,
          178400,
          140000,
          83000,
          197000,
          187500,
          81000,
          93500,
          197500,
          93000,
          106000,
          144000,
          220000,
          144900,
          139000,
          132000,
          149000,
          153500,
          263435,
          205000,
          132500,
          103200,
          249700,
          64500,
          83000,
          339750,
          145900,
          106250,
          164990,
          228500,
          193000,
          244000,
          159950,
          119000,
          160000,
          147000,
          134450,
          174000,
          144000,
          190000,
          160000,
          175000,
          135000,
          176000,
          168500,
          139000,
          102776,
          221500,
          148500,
          55000,
          281000,
          179900,
          182900,
          217500,
          195000,
          154000,
          124900,
          228000,
          125000,
          438780,
          160200,
          271000,
          113000,
          103600,
          119500,
          275000,
          250000,
          306000,
          168000,
          136905,
          128000,
          107000,
          341000,
          176000,
          224900,
          289000,
          79900,
          274000,
          109900,
          175000,
          166000,
          151000,
          264132,
          79500,
          241000,
          141000,
          377426,
          132000,
          141000,
          136500,
          205950,
          157000,
          93000,
          309000,
          187500,
          178000,
          125000,
          232000,
          135000,
          307000,
          223500,
          145000,
          155000,
          140000,
          149900,
          181000,
          210000,
          230000,
          318061,
          200000,
          83500,
          112000,
          125000,
          446261,
          165600,
          35311,
          394617,
          129900,
          110500,
          255900,
          168500,
          378500,
          163000,
          91300,
          395000,
          185000,
          187500,
          250580,
          205000,
          143750,
          85000,
          287000,
          152000,
          423000,
          312500,
          202500,
          250000,
          264561,
          188500,
          201000,
          68400,
          155000,
          212900,
          145000,
          162900,
          299800,
          175000,
          125000,
          67000,
          147000,
          90000,
          135000,
          153337,
          286000,
          34900,
          110000,
          79000,
          115000,
          271900,
          227000,
          377500,
          190000,
          170000,
          37900,
          183200,
          128950,
          430000,
          225000,
          209500,
          171900,
          173000,
          200624,
          82500,
          277000,
          126500,
          239000,
          76500,
          140000,
          135750,
          125000,
          326000,
          164500,
          115000,
          188000,
          135000,
          128500,
          109500,
          154500,
          157900,
          236000,
          110000,
          142000,
          129000,
          259000,
          240000,
          126175,
          144000,
          179200,
          128500,
          220000,
          240000,
          135000,
          350000,
          140000,
          437154,
          244000,
          139500,
          129000,
          180000,
          145000,
          197000,
          318000,
          385000,
          253000,
          136000,
          270000,
          177500,
          129500,
          162900,
          204000,
          107500,
          186000,
          177000,
          245350,
          129000,
          205000,
          102000,
          124500,
          180500,
          119000,
          159000,
          106500,
          180000,
          204900,
          128900,
          195400,
          277500,
          260000,
          216500,
          109500,
          139000,
          185000,
          254000,
          135000,
          178000,
          245500,
          118000,
          130000,
          194000,
          91000,
          145000,
          124500,
          226000,
          160000,
          154000,
          260000,
          114504,
          190000,
          335000,
          100000,
          130500,
          250000,
          157500,
          105000,
          78000,
          180000,
          127000,
          118000,
          185750,
          129500,
          104900,
          223000,
          116000,
          137500,
          179200,
          99900,
          172400,
          118500,
          117000,
          84500,
          177000,
          196000,
          142500,
          108000,
          248000,
          231500,
          176000,
          440000,
          127500,
          290000,
          143000,
          184000,
          225000,
          261500,
          130000,
          105000,
          155000,
          115000,
          169000,
          266500,
          342643,
          108959,
          206900,
          90000,
          140000,
          85400,
          136500,
          173900,
          190000,
          121600,
          119200,
          141000,
          194500,
          122000,
          140200,
          275000,
          337000,
          202900,
          287000,
          256000,
          243000,
          263000,
          157000,
          110000,
          285000,
          75500,
          301500,
          197900,
          136000,
          235000,
          128000,
          197900,
          188700,
          402000,
          324000,
          170000,
          140000,
          125500,
          290000,
          124900,
          279500,
          287090,
          156500,
          150900,
          120500,
          160000,
          199900,
          168000,
          301000,
          260400,
          118000,
          257000,
          123500,
          284000,
          207500,
          121500,
          137500,
          148500,
          110500,
          185000,
          220000,
          214000,
          223500,
          147000,
          102000,
          155000,
          165000,
          60000,
          139950,
          89471,
          131000,
          157900,
          369900,
          155000,
          125500,
          143000,
          235000,
          176000,
          115000,
          174000,
          154000,
          127500,
          143000,
          345000,
          105000,
          284000,
          221000,
          316600,
          152000,
          138500,
          138000,
          130000,
          109500,
          128200,
          168500,
          226000,
          215000,
          219500,
          189000,
          135000,
          160000,
          372402,
          112000,
          84500,
          191000,
          171000,
          239000,
          175000,
          142500,
          175500,
          424870,
          110000,
          139000,
          171000,
          219500,
          193879,
          55000,
          162500,
          177000,
          118000,
          84000,
          173500,
          179900,
          318000,
          392500,
          140000,
          152000,
          156000,
          158900,
          184900,
          95000,
          142500,
          155000,
          251000,
          179900,
          148000,
          250000,
          230000,
          109900,
          132500,
          94750,
          278000,
          145000,
          122900,
          239799,
          140000,
          82500,
          187500,
          144000,
          165000,
          350000,
          181000,
          118500,
          274970,
          97000,
          177000,
          80000,
          191000,
          120500,
          214000,
          305000,
          179900,
          172785,
          192000,
          185000,
          158000,
          164000,
          207500,
          119000,
          140000,
          125000,
          175000,
          140000,
          216837,
          145000,
          165000,
          257500,
          235000,
          227875,
          145000,
          137500,
          100000,
          235128,
          196000,
          146800,
          149000,
          149300,
          109900,
          177500,
          395192,
          189950,
          235000,
          213000,
          181000,
          100000,
          222000,
          129900,
          52000,
          225000,
          119900,
          135000,
          200000,
          150500,
          198900,
          113000,
          465000,
          192000,
          328000,
          193000,
          107400,
          208300,
          295493,
          311500,
          127500,
          281213,
          175500,
          187500,
          165000,
          81000,
          136900,
          164900,
          160000,
          149900,
          201000,
          155000,
          92000,
          255000,
          475000,
          335000,
          180000,
          180500,
          129900,
          192500,
          101000,
          129000,
          146000,
          110000,
          88000,
          169000,
          125000,
          87000,
          335000,
          235000,
          165400,
          155000,
          89500,
          130000,
          98300,
          140000,
          165500,
          160000,
          200000,
          248900,
          196500,
          88000,
          130000,
          319900,
          185000,
          167500,
          189000,
          80000,
          260000,
          135900,
          239686,
          141000,
          155000,
          239000,
          386250,
          171750,
          180000,
          200141,
          190000,
          109008,
          159000,
          208500,
          114500,
          174900,
          293077,
          180000,
          116050,
          149350,
          215000,
          133700,
          207500,
          167000,
          148000,
          217000,
          241500,
          181134,
          538000,
          412500,
          372500,
          145000,
          139000,
          109000,
          126000,
          134900,
          181500,
          140000,
          167900,
          230500,
          157000,
          252000,
          132500,
          163500,
          187750,
          259500,
          213500,
          145000,
          175000,
          143000,
          501837,
          171000,
          155900,
          426000,
          150750,
          139600,
          144152,
          142600,
          153575,
          137000,
          268000,
          162000,
          255500,
          123600,
          192000,
          136500,
          174000,
          178000,
          116000,
          133000,
          611657,
          108000,
          184100,
          105000,
          320000,
          129000,
          137450,
          39300,
          152000,
          189000,
          140000,
          176500,
          150000,
          142953,
          134800,
          87000,
          157000,
          113000,
          135500,
          245000,
          105900,
          184000,
          165500,
          233170,
          275000,
          303477,
          139000,
          88000,
          221000,
          92900,
          167000,
          90000,
          137000,
          110000,
          199900,
          134432,
          108000,
          170000,
          160000,
          241500,
          205000,
          120000,
          230000,
          184750,
          161750,
          85000,
          144000,
          381000,
          222500,
          147000,
          135000,
          135000,
          222000,
          392000,
          290000,
          165500,
          87500,
          270000,
          265979,
          163000,
          102000,
          340000,
          203000,
          179000,
          305900,
          133000,
          173000,
          227000,
          159000,
          164700,
          200000,
          176000,
          230000,
          201800,
          139000,
          126000,
          115000,
          145000,
          185000,
          219210,
          276000,
          144000,
          163000,
          359100,
          100000,
          118964,
          139000,
          159500,
          85000,
          185000,
          127000,
          146500,
          127000,
          240000,
          151000,
          129500,
          190000,
          123000,
          66500,
          255000,
          193000,
          151500,
          136500,
          275000,
          68500,
          140000,
          143500,
          82000,
          147000,
          269500,
          320000,
          97500,
          131400,
          200000,
          143000,
          170000,
          239000,
          109000,
          110000,
          195000,
          129000,
          280000,
          310000,
          108000,
          197000,
          215000,
          119500,
          109500,
          225000,
          239000,
          128000,
          164000,
          244400,
          755000,
          154900,
          192000,
          133000,
          227680,
          200000,
          265000,
          235000,
          152000,
          135000,
          155000,
          136000,
          394432,
          162000,
          112000,
          220000,
          181000,
          112500,
          250000,
          75000,
          185000,
          178000,
          148000,
          88000,
          124000,
          145000,
          159500,
          131000,
          215000,
          173000,
          95000,
          153900,
          153500,
          143000,
          193500,
          145000,
          91500,
          207000,
          235000,
          233000,
          226700,
          143000,
          123000,
          185900,
          119900,
          144000,
          117500,
          143250,
          248328,
          173000,
          137000,
          159000,
          120000,
          215200,
          183900,
          129000,
          213000,
          155835,
          112000,
          137500,
          183500,
          156000,
          160000,
          191000,
          175000
         ]
        },
        {
         "colorscale": [
          [
           0,
           "#440154"
          ],
          [
           0.1111111111111111,
           "#482878"
          ],
          [
           0.2222222222222222,
           "#3e4989"
          ],
          [
           0.3333333333333333,
           "#31688e"
          ],
          [
           0.4444444444444444,
           "#26828e"
          ],
          [
           0.5555555555555556,
           "#1f9e89"
          ],
          [
           0.6666666666666666,
           "#35b779"
          ],
          [
           0.7777777777777778,
           "#6ece58"
          ],
          [
           0.8888888888888888,
           "#b5de2b"
          ],
          [
           1,
           "#fde725"
          ]
         ],
         "type": "surface",
         "x": [
          334,
          613.3684210526316,
          892.7368421052631,
          1172.1052631578946,
          1451.4736842105262,
          1730.842105263158,
          2010.2105263157894,
          2289.578947368421,
          2568.9473684210525,
          2848.315789473684,
          3127.684210526316,
          3407.052631578947,
          3686.4210526315787,
          3965.7894736842104,
          4245.157894736842,
          4524.526315789473,
          4803.894736842105,
          5083.263157894737,
          5362.631578947368,
          5642
         ],
         "y": [
          1,
          1.4736842105263157,
          1.9473684210526314,
          2.4210526315789473,
          2.894736842105263,
          3.3684210526315788,
          3.8421052631578947,
          4.315789473684211,
          4.789473684210526,
          5.263157894736842,
          5.7368421052631575,
          6.2105263157894735,
          6.684210526315789,
          7.157894736842105,
          7.63157894736842,
          8.105263157894736,
          8.578947368421051,
          9.052631578947368,
          9.526315789473683,
          10
         ],
         "z": [
          [
           -51513.495351659294,
           -36315.44667668798,
           -21117.398001716647,
           -5919.3493267453305,
           9278.699348226,
           24476.74802319733,
           39674.79669816865,
           54872.84537313998,
           70070.89404811131,
           85268.94272308264,
           100466.99139805397,
           115665.04007302524,
           130863.08874799657,
           146061.1374229679,
           161259.18609793924,
           176457.23477291057,
           191655.2834478819,
           206853.33212285323,
           222051.38079782456,
           237249.4294727959
          ],
          [
           -35853.75966979093,
           -20655.710994819616,
           -5457.662319848285,
           9740.386355123032,
           24938.435030094362,
           40136.48370506571,
           55334.53238003701,
           70532.58105500831,
           85730.62972997964,
           100928.67840495097,
           116126.7270799223,
           131324.77575489364,
           146522.82442986497,
           161720.8731048363,
           176918.92177980757,
           192116.9704547789,
           207315.01912975023,
           222513.06780472162,
           237711.11647969295,
           252909.16515466428
          ],
          [
           -20194.023987922585,
           -4995.975312951254,
           10202.073362020077,
           25400.12203699138,
           40598.17071196271,
           55796.21938693404,
           70994.26806190537,
           86192.31673687667,
           101390.365411848,
           116588.41408681934,
           131786.46276179067,
           146984.51143676197,
           162182.5601117333,
           177380.60878670463,
           192578.65746167596,
           207776.7061366473,
           222974.75481161862,
           238172.80348658995,
           253370.85216156128,
           268568.9008365326
          ],
          [
           -4534.288306054208,
           10663.760368917108,
           25861.80904388844,
           41059.85771885977,
           56257.9063938311,
           71455.95506880243,
           86654.00374377373,
           101852.05241874504,
           117050.10109371637,
           132248.1497686877,
           147446.19844365903,
           162644.24711863036,
           177842.2957936017,
           193040.34446857302,
           208238.3931435443,
           223436.44181851562,
           238634.49049348696,
           253832.53916845834,
           269030.58784342965,
           284228.636518401
          ],
          [
           11125.44737581414,
           26323.49605078547,
           41521.54472575677,
           56719.5934007281,
           71917.64207569943,
           87115.69075067076,
           102313.7394256421,
           117511.7881006134,
           132709.83677558473,
           147907.88545055606,
           163105.93412552742,
           178303.9828004987,
           193502.03147547002,
           208700.08015044135,
           223898.12882541263,
           239096.17750038396,
           254294.2261753553,
           269492.2748503267,
           284690.32352529804,
           299888.37220026937
          ],
          [
           26785.1830576825,
           41983.23173265383,
           57181.28040762516,
           72379.32908259647,
           87577.3777575678,
           102775.42643253913,
           117973.47510751043,
           133171.52378248176,
           148369.5724574531,
           163567.62113242442,
           178765.66980739575,
           193963.71848236702,
           209161.76715733836,
           224359.8158323097,
           239557.86450728102,
           254755.91318225235,
           269953.96185722365,
           285152.010532195,
           300350.0592071663,
           315548.10788213764
          ],
          [
           42444.91873955089,
           57642.967414522194,
           72841.01608949353,
           88039.06476446483,
           103237.11343943616,
           118435.16211440749,
           133633.21078937882,
           148831.25946435015,
           164029.30813932148,
           179227.3568142928,
           194425.40548926414,
           209623.45416423542,
           224821.50283920675,
           240019.55151417808,
           255217.6001891494,
           270415.6488641207,
           285613.69753909204,
           300811.7462140634,
           316009.7948890347,
           331207.84356400603
          ],
          [
           58104.654421419225,
           73302.70309639056,
           88500.75177136189,
           103698.80044633319,
           118896.84912130452,
           134094.89779627585,
           149292.94647124715,
           164490.99514621848,
           179689.0438211898,
           194887.09249616115,
           210085.14117113248,
           225283.1898461038,
           240481.23852107514,
           255679.28719604647,
           270877.33587101777,
           286075.3845459891,
           301273.43322096043,
           316471.48189593176,
           331669.5305709031,
           346867.5792458744
          ],
          [
           73764.39010328759,
           88962.43877825892,
           104160.48745323022,
           119358.53612820155,
           134556.58480317288,
           149754.6334781442,
           164952.68215311554,
           180150.73082808687,
           195348.7795030582,
           210546.82817802954,
           225744.87685300087,
           240942.92552797214,
           256140.97420294347,
           271339.02287791483,
           286537.07155288605,
           301735.1202278574,
           316933.1689028287,
           332131.21757780015,
           347329.2662527715,
           362527.3149277428
          ],
          [
           89424.12578515595,
           104622.17446012728,
           119820.22313509861,
           135018.2718100699,
           150216.32048504124,
           165414.3691600126,
           180612.41783498388,
           195810.4665099552,
           211008.51518492654,
           226206.56385989787,
           241404.6125348692,
           256602.66120984047,
           271800.7098848118,
           286998.7585597831,
           302196.80723475444,
           317394.85590972577,
           332592.9045846971,
           347790.95325966843,
           362989.00193463976,
           378187.0506096111
          ],
          [
           105083.86146702431,
           120281.91014199564,
           135479.95881696694,
           150678.00749193828,
           165876.0561669096,
           181074.10484188094,
           196272.15351685227,
           211470.20219182354,
           226668.25086679487,
           241866.2995417662,
           257064.34821673753,
           272262.39689170884,
           287460.44556668017,
           302658.4942416515,
           317856.5429166228,
           333054.59159159416,
           348252.6402665655,
           363450.6889415368,
           378648.73761650815,
           393846.7862914795
          ],
          [
           120743.59714889267,
           135941.645823864,
           151139.69449883534,
           166337.7431738066,
           181535.79184877794,
           196733.84052374927,
           211931.8891987206,
           227129.93787369193,
           242327.98654866326,
           257526.0352236346,
           272724.0838986059,
           287922.1325735772,
           303120.18124854856,
           318318.2299235199,
           333516.2785984912,
           348714.32727346255,
           363912.3759484339,
           379110.4246234052,
           394308.47329837654,
           409506.5219733479
          ],
          [
           136403.33283076104,
           151601.38150573237,
           166799.43018070367,
           181997.478855675,
           197195.52753064633,
           212393.57620561766,
           227591.624880589,
           242789.67355556032,
           257987.72223053165,
           273185.77090550296,
           288383.8195804743,
           303581.8682554456,
           318779.91693041695,
           333977.9656053883,
           349176.0142803595,
           364374.0629553308,
           379572.11163030216,
           394770.1603052736,
           409968.20898024493,
           425166.25765521626
          ],
          [
           152063.0685126294,
           167261.11718760073,
           182459.16586257206,
           197657.2145375434,
           212855.26321251472,
           228053.31188748605,
           243251.36056245732,
           258449.40923742866,
           273647.4579124,
           288845.50658737135,
           304043.5552623427,
           319241.6039373139,
           334439.6526122852,
           349637.70128725655,
           364835.7499622279,
           380033.7986371992,
           395231.84731217055,
           410429.8959871419,
           425627.9446621132,
           440825.99333708454
          ],
          [
           167722.80419449773,
           182920.85286946906,
           198118.9015444404,
           213316.95021941166,
           228514.998894383,
           243713.04756935433,
           258911.09624432566,
           274109.14491929696,
           289307.1935942683,
           304505.2422692396,
           319703.29094421095,
           334901.3396191823,
           350099.3882941536,
           365297.43696912494,
           380495.4856440963,
           395693.5343190676,
           410891.58299403894,
           426089.63166901027,
           441287.6803439816,
           456485.72901895293
          ],
          [
           183382.53987636606,
           198580.5885513374,
           213778.63722630873,
           228976.68590128006,
           244174.7345762514,
           259372.78325122272,
           274570.831926194,
           289768.88060116535,
           304966.9292761367,
           320164.977951108,
           335363.02662607934,
           350561.0753010507,
           365759.123976022,
           380957.17265099334,
           396155.22132596455,
           411353.2700009359,
           426551.3186759072,
           441749.36735087854,
           456947.4160258499,
           472145.4647008212
          ],
          [
           199042.27555823445,
           214240.32423320573,
           229438.37290817706,
           244636.4215831484,
           259834.47025811972,
           275032.5189330911,
           290230.5676080624,
           305428.6162830336,
           320626.66495800496,
           335824.7136329763,
           351022.7623079476,
           366220.81098291895,
           381418.8596578903,
           396616.9083328616,
           411814.95700783294,
           427013.0056828043,
           442211.0543577756,
           457409.10303274693,
           472607.15170771827,
           487805.2003826896
          ],
          [
           214702.01124010285,
           229900.05991507412,
           245098.10859004545,
           260296.15726501678,
           275494.20593998814,
           290692.2546149595,
           305890.3032899308,
           321088.351964902,
           336286.40063987335,
           351484.4493148447,
           366682.497989816,
           381880.54666478734,
           397078.59533975867,
           412276.64401473,
           427474.69268970133,
           442672.74136467266,
           457870.790039644,
           473068.8387146153,
           488266.88738958666,
           503464.936064558
          ],
          [
           230361.74692197112,
           245559.79559694245,
           260757.84427191378,
           275955.8929468851,
           291153.9416218564,
           306351.99029682775,
           321550.0389717991,
           336748.0876467704,
           351946.13632174174,
           367144.18499671307,
           382342.2336716844,
           397540.28234665573,
           412738.33102162706,
           427936.3796965984,
           443134.4283715696,
           458332.47704654094,
           473530.52572151227,
           488728.5743964837,
           503926.62307145505,
           519124.6717464264
          ],
          [
           246021.4826038395,
           261219.53127881084,
           276417.57995378214,
           291615.6286287535,
           306813.6773037248,
           322011.72597869614,
           337209.77465366747,
           352407.8233286388,
           367605.87200361013,
           382803.92067858146,
           398001.9693535528,
           413200.0180285241,
           428398.06670349545,
           443596.1153784668,
           458794.164053438,
           473992.21272840933,
           489190.26140338066,
           504388.3100783521,
           519586.35875332344,
           534784.4074282948
          ]
         ]
        }
       ],
       "layout": {
        "legend": {
         "tracegroupgap": 0
        },
        "scene": {
         "domain": {
          "x": [
           0,
           1
          ],
          "y": [
           0,
           1
          ]
         },
         "xaxis": {
          "title": {
           "text": "GrLivArea"
          }
         },
         "yaxis": {
          "title": {
           "text": "OverallQual"
          }
         },
         "zaxis": {
          "title": {
           "text": "SalePrice"
          }
         }
        },
        "template": {
         "data": {
          "bar": [
           {
            "error_x": {
             "color": "#2a3f5f"
            },
            "error_y": {
             "color": "#2a3f5f"
            },
            "marker": {
             "line": {
              "color": "#E5ECF6",
              "width": 0.5
             },
             "pattern": {
              "fillmode": "overlay",
              "size": 10,
              "solidity": 0.2
             }
            },
            "type": "bar"
           }
          ],
          "barpolar": [
           {
            "marker": {
             "line": {
              "color": "#E5ECF6",
              "width": 0.5
             },
             "pattern": {
              "fillmode": "overlay",
              "size": 10,
              "solidity": 0.2
             }
            },
            "type": "barpolar"
           }
          ],
          "carpet": [
           {
            "aaxis": {
             "endlinecolor": "#2a3f5f",
             "gridcolor": "white",
             "linecolor": "white",
             "minorgridcolor": "white",
             "startlinecolor": "#2a3f5f"
            },
            "baxis": {
             "endlinecolor": "#2a3f5f",
             "gridcolor": "white",
             "linecolor": "white",
             "minorgridcolor": "white",
             "startlinecolor": "#2a3f5f"
            },
            "type": "carpet"
           }
          ],
          "choropleth": [
           {
            "colorbar": {
             "outlinewidth": 0,
             "ticks": ""
            },
            "type": "choropleth"
           }
          ],
          "contour": [
           {
            "colorbar": {
             "outlinewidth": 0,
             "ticks": ""
            },
            "colorscale": [
             [
              0,
              "#0d0887"
             ],
             [
              0.1111111111111111,
              "#46039f"
             ],
             [
              0.2222222222222222,
              "#7201a8"
             ],
             [
              0.3333333333333333,
              "#9c179e"
             ],
             [
              0.4444444444444444,
              "#bd3786"
             ],
             [
              0.5555555555555556,
              "#d8576b"
             ],
             [
              0.6666666666666666,
              "#ed7953"
             ],
             [
              0.7777777777777778,
              "#fb9f3a"
             ],
             [
              0.8888888888888888,
              "#fdca26"
             ],
             [
              1,
              "#f0f921"
             ]
            ],
            "type": "contour"
           }
          ],
          "contourcarpet": [
           {
            "colorbar": {
             "outlinewidth": 0,
             "ticks": ""
            },
            "type": "contourcarpet"
           }
          ],
          "heatmap": [
           {
            "colorbar": {
             "outlinewidth": 0,
             "ticks": ""
            },
            "colorscale": [
             [
              0,
              "#0d0887"
             ],
             [
              0.1111111111111111,
              "#46039f"
             ],
             [
              0.2222222222222222,
              "#7201a8"
             ],
             [
              0.3333333333333333,
              "#9c179e"
             ],
             [
              0.4444444444444444,
              "#bd3786"
             ],
             [
              0.5555555555555556,
              "#d8576b"
             ],
             [
              0.6666666666666666,
              "#ed7953"
             ],
             [
              0.7777777777777778,
              "#fb9f3a"
             ],
             [
              0.8888888888888888,
              "#fdca26"
             ],
             [
              1,
              "#f0f921"
             ]
            ],
            "type": "heatmap"
           }
          ],
          "heatmapgl": [
           {
            "colorbar": {
             "outlinewidth": 0,
             "ticks": ""
            },
            "colorscale": [
             [
              0,
              "#0d0887"
             ],
             [
              0.1111111111111111,
              "#46039f"
             ],
             [
              0.2222222222222222,
              "#7201a8"
             ],
             [
              0.3333333333333333,
              "#9c179e"
             ],
             [
              0.4444444444444444,
              "#bd3786"
             ],
             [
              0.5555555555555556,
              "#d8576b"
             ],
             [
              0.6666666666666666,
              "#ed7953"
             ],
             [
              0.7777777777777778,
              "#fb9f3a"
             ],
             [
              0.8888888888888888,
              "#fdca26"
             ],
             [
              1,
              "#f0f921"
             ]
            ],
            "type": "heatmapgl"
           }
          ],
          "histogram": [
           {
            "marker": {
             "pattern": {
              "fillmode": "overlay",
              "size": 10,
              "solidity": 0.2
             }
            },
            "type": "histogram"
           }
          ],
          "histogram2d": [
           {
            "colorbar": {
             "outlinewidth": 0,
             "ticks": ""
            },
            "colorscale": [
             [
              0,
              "#0d0887"
             ],
             [
              0.1111111111111111,
              "#46039f"
             ],
             [
              0.2222222222222222,
              "#7201a8"
             ],
             [
              0.3333333333333333,
              "#9c179e"
             ],
             [
              0.4444444444444444,
              "#bd3786"
             ],
             [
              0.5555555555555556,
              "#d8576b"
             ],
             [
              0.6666666666666666,
              "#ed7953"
             ],
             [
              0.7777777777777778,
              "#fb9f3a"
             ],
             [
              0.8888888888888888,
              "#fdca26"
             ],
             [
              1,
              "#f0f921"
             ]
            ],
            "type": "histogram2d"
           }
          ],
          "histogram2dcontour": [
           {
            "colorbar": {
             "outlinewidth": 0,
             "ticks": ""
            },
            "colorscale": [
             [
              0,
              "#0d0887"
             ],
             [
              0.1111111111111111,
              "#46039f"
             ],
             [
              0.2222222222222222,
              "#7201a8"
             ],
             [
              0.3333333333333333,
              "#9c179e"
             ],
             [
              0.4444444444444444,
              "#bd3786"
             ],
             [
              0.5555555555555556,
              "#d8576b"
             ],
             [
              0.6666666666666666,
              "#ed7953"
             ],
             [
              0.7777777777777778,
              "#fb9f3a"
             ],
             [
              0.8888888888888888,
              "#fdca26"
             ],
             [
              1,
              "#f0f921"
             ]
            ],
            "type": "histogram2dcontour"
           }
          ],
          "mesh3d": [
           {
            "colorbar": {
             "outlinewidth": 0,
             "ticks": ""
            },
            "type": "mesh3d"
           }
          ],
          "parcoords": [
           {
            "line": {
             "colorbar": {
              "outlinewidth": 0,
              "ticks": ""
             }
            },
            "type": "parcoords"
           }
          ],
          "pie": [
           {
            "automargin": true,
            "type": "pie"
           }
          ],
          "scatter": [
           {
            "fillpattern": {
             "fillmode": "overlay",
             "size": 10,
             "solidity": 0.2
            },
            "type": "scatter"
           }
          ],
          "scatter3d": [
           {
            "line": {
             "colorbar": {
              "outlinewidth": 0,
              "ticks": ""
             }
            },
            "marker": {
             "colorbar": {
              "outlinewidth": 0,
              "ticks": ""
             }
            },
            "type": "scatter3d"
           }
          ],
          "scattercarpet": [
           {
            "marker": {
             "colorbar": {
              "outlinewidth": 0,
              "ticks": ""
             }
            },
            "type": "scattercarpet"
           }
          ],
          "scattergeo": [
           {
            "marker": {
             "colorbar": {
              "outlinewidth": 0,
              "ticks": ""
             }
            },
            "type": "scattergeo"
           }
          ],
          "scattergl": [
           {
            "marker": {
             "colorbar": {
              "outlinewidth": 0,
              "ticks": ""
             }
            },
            "type": "scattergl"
           }
          ],
          "scattermapbox": [
           {
            "marker": {
             "colorbar": {
              "outlinewidth": 0,
              "ticks": ""
             }
            },
            "type": "scattermapbox"
           }
          ],
          "scatterpolar": [
           {
            "marker": {
             "colorbar": {
              "outlinewidth": 0,
              "ticks": ""
             }
            },
            "type": "scatterpolar"
           }
          ],
          "scatterpolargl": [
           {
            "marker": {
             "colorbar": {
              "outlinewidth": 0,
              "ticks": ""
             }
            },
            "type": "scatterpolargl"
           }
          ],
          "scatterternary": [
           {
            "marker": {
             "colorbar": {
              "outlinewidth": 0,
              "ticks": ""
             }
            },
            "type": "scatterternary"
           }
          ],
          "surface": [
           {
            "colorbar": {
             "outlinewidth": 0,
             "ticks": ""
            },
            "colorscale": [
             [
              0,
              "#0d0887"
             ],
             [
              0.1111111111111111,
              "#46039f"
             ],
             [
              0.2222222222222222,
              "#7201a8"
             ],
             [
              0.3333333333333333,
              "#9c179e"
             ],
             [
              0.4444444444444444,
              "#bd3786"
             ],
             [
              0.5555555555555556,
              "#d8576b"
             ],
             [
              0.6666666666666666,
              "#ed7953"
             ],
             [
              0.7777777777777778,
              "#fb9f3a"
             ],
             [
              0.8888888888888888,
              "#fdca26"
             ],
             [
              1,
              "#f0f921"
             ]
            ],
            "type": "surface"
           }
          ],
          "table": [
           {
            "cells": {
             "fill": {
              "color": "#EBF0F8"
             },
             "line": {
              "color": "white"
             }
            },
            "header": {
             "fill": {
              "color": "#C8D4E3"
             },
             "line": {
              "color": "white"
             }
            },
            "type": "table"
           }
          ]
         },
         "layout": {
          "annotationdefaults": {
           "arrowcolor": "#2a3f5f",
           "arrowhead": 0,
           "arrowwidth": 1
          },
          "autotypenumbers": "strict",
          "coloraxis": {
           "colorbar": {
            "outlinewidth": 0,
            "ticks": ""
           }
          },
          "colorscale": {
           "diverging": [
            [
             0,
             "#8e0152"
            ],
            [
             0.1,
             "#c51b7d"
            ],
            [
             0.2,
             "#de77ae"
            ],
            [
             0.3,
             "#f1b6da"
            ],
            [
             0.4,
             "#fde0ef"
            ],
            [
             0.5,
             "#f7f7f7"
            ],
            [
             0.6,
             "#e6f5d0"
            ],
            [
             0.7,
             "#b8e186"
            ],
            [
             0.8,
             "#7fbc41"
            ],
            [
             0.9,
             "#4d9221"
            ],
            [
             1,
             "#276419"
            ]
           ],
           "sequential": [
            [
             0,
             "#0d0887"
            ],
            [
             0.1111111111111111,
             "#46039f"
            ],
            [
             0.2222222222222222,
             "#7201a8"
            ],
            [
             0.3333333333333333,
             "#9c179e"
            ],
            [
             0.4444444444444444,
             "#bd3786"
            ],
            [
             0.5555555555555556,
             "#d8576b"
            ],
            [
             0.6666666666666666,
             "#ed7953"
            ],
            [
             0.7777777777777778,
             "#fb9f3a"
            ],
            [
             0.8888888888888888,
             "#fdca26"
            ],
            [
             1,
             "#f0f921"
            ]
           ],
           "sequentialminus": [
            [
             0,
             "#0d0887"
            ],
            [
             0.1111111111111111,
             "#46039f"
            ],
            [
             0.2222222222222222,
             "#7201a8"
            ],
            [
             0.3333333333333333,
             "#9c179e"
            ],
            [
             0.4444444444444444,
             "#bd3786"
            ],
            [
             0.5555555555555556,
             "#d8576b"
            ],
            [
             0.6666666666666666,
             "#ed7953"
            ],
            [
             0.7777777777777778,
             "#fb9f3a"
            ],
            [
             0.8888888888888888,
             "#fdca26"
            ],
            [
             1,
             "#f0f921"
            ]
           ]
          },
          "colorway": [
           "#636efa",
           "#EF553B",
           "#00cc96",
           "#ab63fa",
           "#FFA15A",
           "#19d3f3",
           "#FF6692",
           "#B6E880",
           "#FF97FF",
           "#FECB52"
          ],
          "font": {
           "color": "#2a3f5f"
          },
          "geo": {
           "bgcolor": "white",
           "lakecolor": "white",
           "landcolor": "#E5ECF6",
           "showlakes": true,
           "showland": true,
           "subunitcolor": "white"
          },
          "hoverlabel": {
           "align": "left"
          },
          "hovermode": "closest",
          "mapbox": {
           "style": "light"
          },
          "paper_bgcolor": "white",
          "plot_bgcolor": "#E5ECF6",
          "polar": {
           "angularaxis": {
            "gridcolor": "white",
            "linecolor": "white",
            "ticks": ""
           },
           "bgcolor": "#E5ECF6",
           "radialaxis": {
            "gridcolor": "white",
            "linecolor": "white",
            "ticks": ""
           }
          },
          "scene": {
           "xaxis": {
            "backgroundcolor": "#E5ECF6",
            "gridcolor": "white",
            "gridwidth": 2,
            "linecolor": "white",
            "showbackground": true,
            "ticks": "",
            "zerolinecolor": "white"
           },
           "yaxis": {
            "backgroundcolor": "#E5ECF6",
            "gridcolor": "white",
            "gridwidth": 2,
            "linecolor": "white",
            "showbackground": true,
            "ticks": "",
            "zerolinecolor": "white"
           },
           "zaxis": {
            "backgroundcolor": "#E5ECF6",
            "gridcolor": "white",
            "gridwidth": 2,
            "linecolor": "white",
            "showbackground": true,
            "ticks": "",
            "zerolinecolor": "white"
           }
          },
          "shapedefaults": {
           "line": {
            "color": "#2a3f5f"
           }
          },
          "ternary": {
           "aaxis": {
            "gridcolor": "white",
            "linecolor": "white",
            "ticks": ""
           },
           "baxis": {
            "gridcolor": "white",
            "linecolor": "white",
            "ticks": ""
           },
           "bgcolor": "#E5ECF6",
           "caxis": {
            "gridcolor": "white",
            "linecolor": "white",
            "ticks": ""
           }
          },
          "title": {
           "x": 0.05
          },
          "xaxis": {
           "automargin": true,
           "gridcolor": "white",
           "linecolor": "white",
           "ticks": "",
           "title": {
            "standoff": 15
           },
           "zerolinecolor": "white",
           "zerolinewidth": 2
          },
          "yaxis": {
           "automargin": true,
           "gridcolor": "white",
           "linecolor": "white",
           "ticks": "",
           "title": {
            "standoff": 15
           },
           "zerolinecolor": "white",
           "zerolinewidth": 2
          }
         }
        },
        "title": {
         "text": "House Prices"
        }
       }
      }
     },
     "metadata": {},
     "output_type": "display_data"
    }
   ],
   "source": [
    "surface_3d(\n",
    "    train,\n",
    "    f1='GrLivArea',\n",
    "    f2='OverallQual',\n",
    "    target='SalePrice',\n",
    "    title='House Prices'\n",
    ")"
   ]
  },
  {
   "cell_type": "code",
   "execution_count": 25,
   "metadata": {},
   "outputs": [
    {
     "data": {
      "text/plain": [
       "(-102743.02342270719, array([   54.40145532, 33059.44199506]))"
      ]
     },
     "execution_count": 25,
     "metadata": {},
     "output_type": "execute_result"
    }
   ],
   "source": [
    "model.intercept_, model.coef_"
   ]
  },
  {
   "cell_type": "code",
   "execution_count": 26,
   "metadata": {},
   "outputs": [
    {
     "name": "stdout",
     "output_type": "stream",
     "text": [
      "y = -102743 + 54x₁ + 33059x₂\n"
     ]
    }
   ],
   "source": [
    "b0 = model.intercept_\n",
    "b1, b2 = model.coef_\n",
    "\n",
    "print(f'y = {b0:.0f} + {b1:.0f}x\\u2081 + {b2:.0f}x\\u2082')"
   ]
  },
  {
   "cell_type": "code",
   "execution_count": 27,
   "metadata": {},
   "outputs": [
    {
     "data": {
      "text/plain": [
       "array([336654.30716253])"
      ]
     },
     "execution_count": 27,
     "metadata": {},
     "output_type": "execute_result"
    }
   ],
   "source": [
    "model.predict([[2000,10]])"
   ]
  },
  {
   "cell_type": "code",
   "execution_count": 28,
   "metadata": {},
   "outputs": [
    {
     "data": {
      "text/plain": [
       "array([105238.21319714])"
      ]
     },
     "execution_count": 28,
     "metadata": {},
     "output_type": "execute_result"
    }
   ],
   "source": [
    "model.predict([[2000,3]])"
   ]
  },
  {
   "cell_type": "code",
   "execution_count": 29,
   "metadata": {},
   "outputs": [],
   "source": [
    "from sklearn.metrics import mean_squared_error, mean_absolute_error, r2_score\n",
    "df_study = pd.DataFrame([[1,2,3],[2,1,3],[3,3,6],[4,5,9],[4,4,8],[5,5,10],[7,7,14],[9,8,17],[10,9,19],[10,10,20]])\n",
    "df_study.columns = ['Q1','Q2','Total']"
   ]
  },
  {
   "cell_type": "code",
   "execution_count": 30,
   "metadata": {},
   "outputs": [
    {
     "data": {
      "text/html": [
       "<div>\n",
       "<style scoped>\n",
       "    .dataframe tbody tr th:only-of-type {\n",
       "        vertical-align: middle;\n",
       "    }\n",
       "\n",
       "    .dataframe tbody tr th {\n",
       "        vertical-align: top;\n",
       "    }\n",
       "\n",
       "    .dataframe thead th {\n",
       "        text-align: right;\n",
       "    }\n",
       "</style>\n",
       "<table border=\"1\" class=\"dataframe\">\n",
       "  <thead>\n",
       "    <tr style=\"text-align: right;\">\n",
       "      <th></th>\n",
       "      <th>Q1</th>\n",
       "      <th>Q2</th>\n",
       "      <th>Total</th>\n",
       "    </tr>\n",
       "  </thead>\n",
       "  <tbody>\n",
       "    <tr>\n",
       "      <th>0</th>\n",
       "      <td>1</td>\n",
       "      <td>2</td>\n",
       "      <td>3</td>\n",
       "    </tr>\n",
       "    <tr>\n",
       "      <th>1</th>\n",
       "      <td>2</td>\n",
       "      <td>1</td>\n",
       "      <td>3</td>\n",
       "    </tr>\n",
       "    <tr>\n",
       "      <th>2</th>\n",
       "      <td>3</td>\n",
       "      <td>3</td>\n",
       "      <td>6</td>\n",
       "    </tr>\n",
       "    <tr>\n",
       "      <th>3</th>\n",
       "      <td>4</td>\n",
       "      <td>5</td>\n",
       "      <td>9</td>\n",
       "    </tr>\n",
       "    <tr>\n",
       "      <th>4</th>\n",
       "      <td>4</td>\n",
       "      <td>4</td>\n",
       "      <td>8</td>\n",
       "    </tr>\n",
       "    <tr>\n",
       "      <th>5</th>\n",
       "      <td>5</td>\n",
       "      <td>5</td>\n",
       "      <td>10</td>\n",
       "    </tr>\n",
       "    <tr>\n",
       "      <th>6</th>\n",
       "      <td>7</td>\n",
       "      <td>7</td>\n",
       "      <td>14</td>\n",
       "    </tr>\n",
       "    <tr>\n",
       "      <th>7</th>\n",
       "      <td>9</td>\n",
       "      <td>8</td>\n",
       "      <td>17</td>\n",
       "    </tr>\n",
       "    <tr>\n",
       "      <th>8</th>\n",
       "      <td>10</td>\n",
       "      <td>9</td>\n",
       "      <td>19</td>\n",
       "    </tr>\n",
       "    <tr>\n",
       "      <th>9</th>\n",
       "      <td>10</td>\n",
       "      <td>10</td>\n",
       "      <td>20</td>\n",
       "    </tr>\n",
       "  </tbody>\n",
       "</table>\n",
       "</div>"
      ],
      "text/plain": [
       "   Q1  Q2  Total\n",
       "0   1   2      3\n",
       "1   2   1      3\n",
       "2   3   3      6\n",
       "3   4   5      9\n",
       "4   4   4      8\n",
       "5   5   5     10\n",
       "6   7   7     14\n",
       "7   9   8     17\n",
       "8  10   9     19\n",
       "9  10  10     20"
      ]
     },
     "execution_count": 30,
     "metadata": {},
     "output_type": "execute_result"
    }
   ],
   "source": [
    "df_study"
   ]
  },
  {
   "cell_type": "code",
   "execution_count": 31,
   "metadata": {},
   "outputs": [],
   "source": [
    "from IPython.display import display\n",
    "from matplotlib.patches import Rectangle\n",
    "\n",
    "def evaluation_metrics(df, feature, target, slope, intercept):\n",
    "    \n",
    "    x = df[feature]\n",
    "    y = df[target]\n",
    "    \n",
    "    ax = plt.axes()\n",
    "    df.plot.scatter(feature, target, ax=ax)\n",
    "    \n",
    "    y_pred = slope * x + intercept\n",
    "    \n",
    "    ax.plot(x, y_pred)\n",
    "    \n",
    "    # Plot 제곱오차(MSE)\n",
    "    x_left, x_right = ax.get_xlim() # x-axis view limits\n",
    "    y_bottom, y_top = ax.get_ylim()\n",
    "    scale = (x_right - x_left) / (y_top - y_bottom)\n",
    "\n",
    "    for f, t, p in zip(x, y, y_pred):\n",
    "        xy = (f, min(t, p))\n",
    "        h = abs(t - p)\n",
    "        w_scaled = h * scale\n",
    "        ax.add_patch(Rectangle(xy=xy, width=w_scaled, height=h, alpha=0.2))\n",
    "    \n",
    "    # 회귀방정식 평가지표\n",
    "    mse = mean_squared_error(y, y_pred)\n",
    "    mae = mean_absolute_error(y, y_pred)\n",
    "    rmse = mse ** 0.5\n",
    "    r2 = r2_score(y, y_pred)\n",
    "\n",
    "    display(pd.DataFrame([['MSE', mse],['MAE', mae],['RMSE', rmse],['R2', r2]], columns=['Metric', 'Score']))"
   ]
  },
  {
   "cell_type": "code",
   "execution_count": 32,
   "metadata": {},
   "outputs": [
    {
     "data": {
      "text/html": [
       "<div>\n",
       "<style scoped>\n",
       "    .dataframe tbody tr th:only-of-type {\n",
       "        vertical-align: middle;\n",
       "    }\n",
       "\n",
       "    .dataframe tbody tr th {\n",
       "        vertical-align: top;\n",
       "    }\n",
       "\n",
       "    .dataframe thead th {\n",
       "        text-align: right;\n",
       "    }\n",
       "</style>\n",
       "<table border=\"1\" class=\"dataframe\">\n",
       "  <thead>\n",
       "    <tr style=\"text-align: right;\">\n",
       "      <th></th>\n",
       "      <th>Metric</th>\n",
       "      <th>Score</th>\n",
       "    </tr>\n",
       "  </thead>\n",
       "  <tbody>\n",
       "    <tr>\n",
       "      <th>0</th>\n",
       "      <td>MSE</td>\n",
       "      <td>35.690000</td>\n",
       "    </tr>\n",
       "    <tr>\n",
       "      <th>1</th>\n",
       "      <td>MAE</td>\n",
       "      <td>5.280000</td>\n",
       "    </tr>\n",
       "    <tr>\n",
       "      <th>2</th>\n",
       "      <td>RMSE</td>\n",
       "      <td>5.974111</td>\n",
       "    </tr>\n",
       "    <tr>\n",
       "      <th>3</th>\n",
       "      <td>R2</td>\n",
       "      <td>0.000000</td>\n",
       "    </tr>\n",
       "  </tbody>\n",
       "</table>\n",
       "</div>"
      ],
      "text/plain": [
       "  Metric      Score\n",
       "0    MSE  35.690000\n",
       "1    MAE   5.280000\n",
       "2   RMSE   5.974111\n",
       "3     R2   0.000000"
      ]
     },
     "metadata": {},
     "output_type": "display_data"
    },
    {
     "data": {
      "image/png": "[encoded data removed]",
      "text/plain": [
       "<Figure size 748.8x514.8 with 1 Axes>"
      ]
     },
     "metadata": {
      "needs_background": "light"
     },
     "output_type": "display_data"
    }
   ],
   "source": [
    "evaluation_metrics(df_study, 'Q1', 'Total', 0, df_study['Total'].mean())"
   ]
  },
  {
   "cell_type": "code",
   "execution_count": 33,
   "metadata": {},
   "outputs": [
    {
     "data": {
      "text/html": [
       "<div>\n",
       "<style scoped>\n",
       "    .dataframe tbody tr th:only-of-type {\n",
       "        vertical-align: middle;\n",
       "    }\n",
       "\n",
       "    .dataframe tbody tr th {\n",
       "        vertical-align: top;\n",
       "    }\n",
       "\n",
       "    .dataframe thead th {\n",
       "        text-align: right;\n",
       "    }\n",
       "</style>\n",
       "<table border=\"1\" class=\"dataframe\">\n",
       "  <thead>\n",
       "    <tr style=\"text-align: right;\">\n",
       "      <th></th>\n",
       "      <th>Metric</th>\n",
       "      <th>Score</th>\n",
       "    </tr>\n",
       "  </thead>\n",
       "  <tbody>\n",
       "    <tr>\n",
       "      <th>0</th>\n",
       "      <td>MSE</td>\n",
       "      <td>8.400000</td>\n",
       "    </tr>\n",
       "    <tr>\n",
       "      <th>1</th>\n",
       "      <td>MAE</td>\n",
       "      <td>2.400000</td>\n",
       "    </tr>\n",
       "    <tr>\n",
       "      <th>2</th>\n",
       "      <td>RMSE</td>\n",
       "      <td>2.898275</td>\n",
       "    </tr>\n",
       "    <tr>\n",
       "      <th>3</th>\n",
       "      <td>R2</td>\n",
       "      <td>0.764640</td>\n",
       "    </tr>\n",
       "  </tbody>\n",
       "</table>\n",
       "</div>"
      ],
      "text/plain": [
       "  Metric     Score\n",
       "0    MSE  8.400000\n",
       "1    MAE  2.400000\n",
       "2   RMSE  2.898275\n",
       "3     R2  0.764640"
      ]
     },
     "metadata": {},
     "output_type": "display_data"
    },
    {
     "data": {
      "image/png": "[encoded data removed]",
      "text/plain": [
       "<Figure size 748.8x514.8 with 1 Axes>"
      ]
     },
     "metadata": {
      "needs_background": "light"
     },
     "output_type": "display_data"
    }
   ],
   "source": [
    "evaluation_metrics(df_study, 'Q1', 'Total', 1, 5)"
   ]
  },
  {
   "cell_type": "code",
   "execution_count": 34,
   "metadata": {},
   "outputs": [
    {
     "data": {
      "text/html": [
       "<div>\n",
       "<style scoped>\n",
       "    .dataframe tbody tr th:only-of-type {\n",
       "        vertical-align: middle;\n",
       "    }\n",
       "\n",
       "    .dataframe tbody tr th {\n",
       "        vertical-align: top;\n",
       "    }\n",
       "\n",
       "    .dataframe thead th {\n",
       "        text-align: right;\n",
       "    }\n",
       "</style>\n",
       "<table border=\"1\" class=\"dataframe\">\n",
       "  <thead>\n",
       "    <tr style=\"text-align: right;\">\n",
       "      <th></th>\n",
       "      <th>Metric</th>\n",
       "      <th>Score</th>\n",
       "    </tr>\n",
       "  </thead>\n",
       "  <tbody>\n",
       "    <tr>\n",
       "      <th>0</th>\n",
       "      <td>MSE</td>\n",
       "      <td>0.500000</td>\n",
       "    </tr>\n",
       "    <tr>\n",
       "      <th>1</th>\n",
       "      <td>MAE</td>\n",
       "      <td>0.500000</td>\n",
       "    </tr>\n",
       "    <tr>\n",
       "      <th>2</th>\n",
       "      <td>RMSE</td>\n",
       "      <td>0.707107</td>\n",
       "    </tr>\n",
       "    <tr>\n",
       "      <th>3</th>\n",
       "      <td>R2</td>\n",
       "      <td>0.985990</td>\n",
       "    </tr>\n",
       "  </tbody>\n",
       "</table>\n",
       "</div>"
      ],
      "text/plain": [
       "  Metric     Score\n",
       "0    MSE  0.500000\n",
       "1    MAE  0.500000\n",
       "2   RMSE  0.707107\n",
       "3     R2  0.985990"
      ]
     },
     "metadata": {},
     "output_type": "display_data"
    },
    {
     "data": {
      "image/png": "[encoded data removed]",
      "text/plain": [
       "<Figure size 748.8x514.8 with 1 Axes>"
      ]
     },
     "metadata": {
      "needs_background": "light"
     },
     "output_type": "display_data"
    }
   ],
   "source": [
    "evaluation_metrics(df_study, 'Q1', 'Total', 2, 0)"
   ]
  },
  {
   "cell_type": "code",
   "execution_count": 35,
   "metadata": {},
   "outputs": [
    {
     "name": "stderr",
     "output_type": "stream",
     "text": [
      "c:\\Users\\jsm88\\anaconda3\\lib\\site-packages\\statsmodels\\tsa\\base\\tsa_model.py:7: FutureWarning:\n",
      "\n",
      "pandas.Int64Index is deprecated and will be removed from pandas in a future version. Use pandas.Index with the appropriate dtype instead.\n",
      "\n",
      "c:\\Users\\jsm88\\anaconda3\\lib\\site-packages\\statsmodels\\tsa\\base\\tsa_model.py:7: FutureWarning:\n",
      "\n",
      "pandas.Float64Index is deprecated and will be removed from pandas in a future version. Use pandas.Index with the appropriate dtype instead.\n",
      "\n"
     ]
    },
    {
     "data": {
      "application/vnd.plotly.v1+json": {
       "config": {
        "plotlyServerURL": "https://plot.ly"
       },
       "data": [
        {
         "hovertemplate": "Q1=%{x}<br>Total=%{y}<extra></extra>",
         "legendgroup": "",
         "marker": {
          "color": "#636efa",
          "symbol": "circle"
         },
         "mode": "markers",
         "name": "",
         "orientation": "v",
         "showlegend": false,
         "type": "scatter",
         "x": [
          1,
          2,
          3,
          4,
          4,
          5,
          7,
          9,
          10,
          10
         ],
         "xaxis": "x",
         "y": [
          3,
          3,
          6,
          9,
          8,
          10,
          14,
          17,
          19,
          20
         ],
         "yaxis": "y"
        },
        {
         "hovertemplate": "<b>OLS trendline</b><br>Total = 1.8934 * Q1 + 0.486294<br>R<sup>2</sup>=0.989407<br><br>Q1=%{x}<br>Total=%{y} <b>(trend)</b><extra></extra>",
         "legendgroup": "",
         "marker": {
          "color": "#636efa",
          "symbol": "circle"
         },
         "mode": "lines",
         "name": "",
         "showlegend": false,
         "type": "scatter",
         "x": [
          1,
          2,
          3,
          4,
          4,
          5,
          7,
          9,
          10,
          10
         ],
         "xaxis": "x",
         "y": [
          2.3796954314720784,
          4.273096446700505,
          6.166497461928931,
          8.05989847715736,
          8.05989847715736,
          9.953299492385787,
          13.74010152284264,
          17.526903553299494,
          19.42030456852792,
          19.42030456852792
         ],
         "yaxis": "y"
        }
       ],
       "layout": {
        "legend": {
         "tracegroupgap": 0
        },
        "margin": {
         "t": 60
        },
        "template": {
         "data": {
          "bar": [
           {
            "error_x": {
             "color": "#2a3f5f"
            },
            "error_y": {
             "color": "#2a3f5f"
            },
            "marker": {
             "line": {
              "color": "#E5ECF6",
              "width": 0.5
             },
             "pattern": {
              "fillmode": "overlay",
              "size": 10,
              "solidity": 0.2
             }
            },
            "type": "bar"
           }
          ],
          "barpolar": [
           {
            "marker": {
             "line": {
              "color": "#E5ECF6",
              "width": 0.5
             },
             "pattern": {
              "fillmode": "overlay",
              "size": 10,
              "solidity": 0.2
             }
            },
            "type": "barpolar"
           }
          ],
          "carpet": [
           {
            "aaxis": {
             "endlinecolor": "#2a3f5f",
             "gridcolor": "white",
             "linecolor": "white",
             "minorgridcolor": "white",
             "startlinecolor": "#2a3f5f"
            },
            "baxis": {
             "endlinecolor": "#2a3f5f",
             "gridcolor": "white",
             "linecolor": "white",
             "minorgridcolor": "white",
             "startlinecolor": "#2a3f5f"
            },
            "type": "carpet"
           }
          ],
          "choropleth": [
           {
            "colorbar": {
             "outlinewidth": 0,
             "ticks": ""
            },
            "type": "choropleth"
           }
          ],
          "contour": [
           {
            "colorbar": {
             "outlinewidth": 0,
             "ticks": ""
            },
            "colorscale": [
             [
              0,
              "#0d0887"
             ],
             [
              0.1111111111111111,
              "#46039f"
             ],
             [
              0.2222222222222222,
              "#7201a8"
             ],
             [
              0.3333333333333333,
              "#9c179e"
             ],
             [
              0.4444444444444444,
              "#bd3786"
             ],
             [
              0.5555555555555556,
              "#d8576b"
             ],
             [
              0.6666666666666666,
              "#ed7953"
             ],
             [
              0.7777777777777778,
              "#fb9f3a"
             ],
             [
              0.8888888888888888,
              "#fdca26"
             ],
             [
              1,
              "#f0f921"
             ]
            ],
            "type": "contour"
           }
          ],
          "contourcarpet": [
           {
            "colorbar": {
             "outlinewidth": 0,
             "ticks": ""
            },
            "type": "contourcarpet"
           }
          ],
          "heatmap": [
           {
            "colorbar": {
             "outlinewidth": 0,
             "ticks": ""
            },
            "colorscale": [
             [
              0,
              "#0d0887"
             ],
             [
              0.1111111111111111,
              "#46039f"
             ],
             [
              0.2222222222222222,
              "#7201a8"
             ],
             [
              0.3333333333333333,
              "#9c179e"
             ],
             [
              0.4444444444444444,
              "#bd3786"
             ],
             [
              0.5555555555555556,
              "#d8576b"
             ],
             [
              0.6666666666666666,
              "#ed7953"
             ],
             [
              0.7777777777777778,
              "#fb9f3a"
             ],
             [
              0.8888888888888888,
              "#fdca26"
             ],
             [
              1,
              "#f0f921"
             ]
            ],
            "type": "heatmap"
           }
          ],
          "heatmapgl": [
           {
            "colorbar": {
             "outlinewidth": 0,
             "ticks": ""
            },
            "colorscale": [
             [
              0,
              "#0d0887"
             ],
             [
              0.1111111111111111,
              "#46039f"
             ],
             [
              0.2222222222222222,
              "#7201a8"
             ],
             [
              0.3333333333333333,
              "#9c179e"
             ],
             [
              0.4444444444444444,
              "#bd3786"
             ],
             [
              0.5555555555555556,
              "#d8576b"
             ],
             [
              0.6666666666666666,
              "#ed7953"
             ],
             [
              0.7777777777777778,
              "#fb9f3a"
             ],
             [
              0.8888888888888888,
              "#fdca26"
             ],
             [
              1,
              "#f0f921"
             ]
            ],
            "type": "heatmapgl"
           }
          ],
          "histogram": [
           {
            "marker": {
             "pattern": {
              "fillmode": "overlay",
              "size": 10,
              "solidity": 0.2
             }
            },
            "type": "histogram"
           }
          ],
          "histogram2d": [
           {
            "colorbar": {
             "outlinewidth": 0,
             "ticks": ""
            },
            "colorscale": [
             [
              0,
              "#0d0887"
             ],
             [
              0.1111111111111111,
              "#46039f"
             ],
             [
              0.2222222222222222,
              "#7201a8"
             ],
             [
              0.3333333333333333,
              "#9c179e"
             ],
             [
              0.4444444444444444,
              "#bd3786"
             ],
             [
              0.5555555555555556,
              "#d8576b"
             ],
             [
              0.6666666666666666,
              "#ed7953"
             ],
             [
              0.7777777777777778,
              "#fb9f3a"
             ],
             [
              0.8888888888888888,
              "#fdca26"
             ],
             [
              1,
              "#f0f921"
             ]
            ],
            "type": "histogram2d"
           }
          ],
          "histogram2dcontour": [
           {
            "colorbar": {
             "outlinewidth": 0,
             "ticks": ""
            },
            "colorscale": [
             [
              0,
              "#0d0887"
             ],
             [
              0.1111111111111111,
              "#46039f"
             ],
             [
              0.2222222222222222,
              "#7201a8"
             ],
             [
              0.3333333333333333,
              "#9c179e"
             ],
             [
              0.4444444444444444,
              "#bd3786"
             ],
             [
              0.5555555555555556,
              "#d8576b"
             ],
             [
              0.6666666666666666,
              "#ed7953"
             ],
             [
              0.7777777777777778,
              "#fb9f3a"
             ],
             [
              0.8888888888888888,
              "#fdca26"
             ],
             [
              1,
              "#f0f921"
             ]
            ],
            "type": "histogram2dcontour"
           }
          ],
          "mesh3d": [
           {
            "colorbar": {
             "outlinewidth": 0,
             "ticks": ""
            },
            "type": "mesh3d"
           }
          ],
          "parcoords": [
           {
            "line": {
             "colorbar": {
              "outlinewidth": 0,
              "ticks": ""
             }
            },
            "type": "parcoords"
           }
          ],
          "pie": [
           {
            "automargin": true,
            "type": "pie"
           }
          ],
          "scatter": [
           {
            "fillpattern": {
             "fillmode": "overlay",
             "size": 10,
             "solidity": 0.2
            },
            "type": "scatter"
           }
          ],
          "scatter3d": [
           {
            "line": {
             "colorbar": {
              "outlinewidth": 0,
              "ticks": ""
             }
            },
            "marker": {
             "colorbar": {
              "outlinewidth": 0,
              "ticks": ""
             }
            },
            "type": "scatter3d"
           }
          ],
          "scattercarpet": [
           {
            "marker": {
             "colorbar": {
              "outlinewidth": 0,
              "ticks": ""
             }
            },
            "type": "scattercarpet"
           }
          ],
          "scattergeo": [
           {
            "marker": {
             "colorbar": {
              "outlinewidth": 0,
              "ticks": ""
             }
            },
            "type": "scattergeo"
           }
          ],
          "scattergl": [
           {
            "marker": {
             "colorbar": {
              "outlinewidth": 0,
              "ticks": ""
             }
            },
            "type": "scattergl"
           }
          ],
          "scattermapbox": [
           {
            "marker": {
             "colorbar": {
              "outlinewidth": 0,
              "ticks": ""
             }
            },
            "type": "scattermapbox"
           }
          ],
          "scatterpolar": [
           {
            "marker": {
             "colorbar": {
              "outlinewidth": 0,
              "ticks": ""
             }
            },
            "type": "scatterpolar"
           }
          ],
          "scatterpolargl": [
           {
            "marker": {
             "colorbar": {
              "outlinewidth": 0,
              "ticks": ""
             }
            },
            "type": "scatterpolargl"
           }
          ],
          "scatterternary": [
           {
            "marker": {
             "colorbar": {
              "outlinewidth": 0,
              "ticks": ""
             }
            },
            "type": "scatterternary"
           }
          ],
          "surface": [
           {
            "colorbar": {
             "outlinewidth": 0,
             "ticks": ""
            },
            "colorscale": [
             [
              0,
              "#0d0887"
             ],
             [
              0.1111111111111111,
              "#46039f"
             ],
             [
              0.2222222222222222,
              "#7201a8"
             ],
             [
              0.3333333333333333,
              "#9c179e"
             ],
             [
              0.4444444444444444,
              "#bd3786"
             ],
             [
              0.5555555555555556,
              "#d8576b"
             ],
             [
              0.6666666666666666,
              "#ed7953"
             ],
             [
              0.7777777777777778,
              "#fb9f3a"
             ],
             [
              0.8888888888888888,
              "#fdca26"
             ],
             [
              1,
              "#f0f921"
             ]
            ],
            "type": "surface"
           }
          ],
          "table": [
           {
            "cells": {
             "fill": {
              "color": "#EBF0F8"
             },
             "line": {
              "color": "white"
             }
            },
            "header": {
             "fill": {
              "color": "#C8D4E3"
             },
             "line": {
              "color": "white"
             }
            },
            "type": "table"
           }
          ]
         },
         "layout": {
          "annotationdefaults": {
           "arrowcolor": "#2a3f5f",
           "arrowhead": 0,
           "arrowwidth": 1
          },
          "autotypenumbers": "strict",
          "coloraxis": {
           "colorbar": {
            "outlinewidth": 0,
            "ticks": ""
           }
          },
          "colorscale": {
           "diverging": [
            [
             0,
             "#8e0152"
            ],
            [
             0.1,
             "#c51b7d"
            ],
            [
             0.2,
             "#de77ae"
            ],
            [
             0.3,
             "#f1b6da"
            ],
            [
             0.4,
             "#fde0ef"
            ],
            [
             0.5,
             "#f7f7f7"
            ],
            [
             0.6,
             "#e6f5d0"
            ],
            [
             0.7,
             "#b8e186"
            ],
            [
             0.8,
             "#7fbc41"
            ],
            [
             0.9,
             "#4d9221"
            ],
            [
             1,
             "#276419"
            ]
           ],
           "sequential": [
            [
             0,
             "#0d0887"
            ],
            [
             0.1111111111111111,
             "#46039f"
            ],
            [
             0.2222222222222222,
             "#7201a8"
            ],
            [
             0.3333333333333333,
             "#9c179e"
            ],
            [
             0.4444444444444444,
             "#bd3786"
            ],
            [
             0.5555555555555556,
             "#d8576b"
            ],
            [
             0.6666666666666666,
             "#ed7953"
            ],
            [
             0.7777777777777778,
             "#fb9f3a"
            ],
            [
             0.8888888888888888,
             "#fdca26"
            ],
            [
             1,
             "#f0f921"
            ]
           ],
           "sequentialminus": [
            [
             0,
             "#0d0887"
            ],
            [
             0.1111111111111111,
             "#46039f"
            ],
            [
             0.2222222222222222,
             "#7201a8"
            ],
            [
             0.3333333333333333,
             "#9c179e"
            ],
            [
             0.4444444444444444,
             "#bd3786"
            ],
            [
             0.5555555555555556,
             "#d8576b"
            ],
            [
             0.6666666666666666,
             "#ed7953"
            ],
            [
             0.7777777777777778,
             "#fb9f3a"
            ],
            [
             0.8888888888888888,
             "#fdca26"
            ],
            [
             1,
             "#f0f921"
            ]
           ]
          },
          "colorway": [
           "#636efa",
           "#EF553B",
           "#00cc96",
           "#ab63fa",
           "#FFA15A",
           "#19d3f3",
           "#FF6692",
           "#B6E880",
           "#FF97FF",
           "#FECB52"
          ],
          "font": {
           "color": "#2a3f5f"
          },
          "geo": {
           "bgcolor": "white",
           "lakecolor": "white",
           "landcolor": "#E5ECF6",
           "showlakes": true,
           "showland": true,
           "subunitcolor": "white"
          },
          "hoverlabel": {
           "align": "left"
          },
          "hovermode": "closest",
          "mapbox": {
           "style": "light"
          },
          "paper_bgcolor": "white",
          "plot_bgcolor": "#E5ECF6",
          "polar": {
           "angularaxis": {
            "gridcolor": "white",
            "linecolor": "white",
            "ticks": ""
           },
           "bgcolor": "#E5ECF6",
           "radialaxis": {
            "gridcolor": "white",
            "linecolor": "white",
            "ticks": ""
           }
          },
          "scene": {
           "xaxis": {
            "backgroundcolor": "#E5ECF6",
            "gridcolor": "white",
            "gridwidth": 2,
            "linecolor": "white",
            "showbackground": true,
            "ticks": "",
            "zerolinecolor": "white"
           },
           "yaxis": {
            "backgroundcolor": "#E5ECF6",
            "gridcolor": "white",
            "gridwidth": 2,
            "linecolor": "white",
            "showbackground": true,
            "ticks": "",
            "zerolinecolor": "white"
           },
           "zaxis": {
            "backgroundcolor": "#E5ECF6",
            "gridcolor": "white",
            "gridwidth": 2,
            "linecolor": "white",
            "showbackground": true,
            "ticks": "",
            "zerolinecolor": "white"
           }
          },
          "shapedefaults": {
           "line": {
            "color": "#2a3f5f"
           }
          },
          "ternary": {
           "aaxis": {
            "gridcolor": "white",
            "linecolor": "white",
            "ticks": ""
           },
           "baxis": {
            "gridcolor": "white",
            "linecolor": "white",
            "ticks": ""
           },
           "bgcolor": "#E5ECF6",
           "caxis": {
            "gridcolor": "white",
            "linecolor": "white",
            "ticks": ""
           }
          },
          "title": {
           "x": 0.05
          },
          "xaxis": {
           "automargin": true,
           "gridcolor": "white",
           "linecolor": "white",
           "ticks": "",
           "title": {
            "standoff": 15
           },
           "zerolinecolor": "white",
           "zerolinewidth": 2
          },
          "yaxis": {
           "automargin": true,
           "gridcolor": "white",
           "linecolor": "white",
           "ticks": "",
           "title": {
            "standoff": 15
           },
           "zerolinecolor": "white",
           "zerolinewidth": 2
          }
         }
        },
        "xaxis": {
         "anchor": "y",
         "domain": [
          0,
          1
         ],
         "title": {
          "text": "Q1"
         }
        },
        "yaxis": {
         "anchor": "x",
         "domain": [
          0,
          1
         ],
         "title": {
          "text": "Total"
         }
        }
       }
      }
     },
     "metadata": {},
     "output_type": "display_data"
    }
   ],
   "source": [
    "import plotly.express as px\n",
    "px.scatter(\n",
    "    df_study,\n",
    "    x='Q1',\n",
    "    y='Total',\n",
    "    trendline = 'ols'\n",
    ")"
   ]
  },
  {
   "cell_type": "code",
   "execution_count": 36,
   "metadata": {},
   "outputs": [],
   "source": [
    "rng = np.random.RandomState(1)\n",
    "data = np.dot(rng.rand(2,2), rng.randn(2,30)).T\n",
    "X = pd.DataFrame([i[0] for i in data])\n",
    "y = pd.DataFrame([i[1] for i in data])"
   ]
  },
  {
   "cell_type": "code",
   "execution_count": 37,
   "metadata": {},
   "outputs": [],
   "source": [
    "from sklearn.model_selection import train_test_split\n",
    "\n",
    "X_train, X_test, y_train, y_test = train_test_split(X,y, random_state=1)"
   ]
  },
  {
   "cell_type": "code",
   "execution_count": 38,
   "metadata": {},
   "outputs": [
    {
     "name": "stdout",
     "output_type": "stream",
     "text": [
      "[[0 1]\n",
      " [2 3]\n",
      " [4 5]]\n"
     ]
    }
   ],
   "source": [
    "from sklearn.preprocessing import PolynomialFeatures\n",
    "X1 = np.arange(6).reshape(3,2)\n",
    "print(X1)\n",
    "\n",
    "poly = PolynomialFeatures(2)\n",
    "X_poly = poly.fit_transform(X1)"
   ]
  },
  {
   "cell_type": "code",
   "execution_count": 39,
   "metadata": {},
   "outputs": [
    {
     "data": {
      "text/plain": [
       "array([[ 1.,  0.,  1.,  0.,  0.,  1.],\n",
       "       [ 1.,  2.,  3.,  4.,  6.,  9.],\n",
       "       [ 1.,  4.,  5., 16., 20., 25.]])"
      ]
     },
     "execution_count": 39,
     "metadata": {},
     "output_type": "execute_result"
    }
   ],
   "source": [
    "X_poly"
   ]
  },
  {
   "cell_type": "code",
   "execution_count": 40,
   "metadata": {},
   "outputs": [
    {
     "name": "stdout",
     "output_type": "stream",
     "text": [
      "Degree=1\n"
     ]
    },
    {
     "data": {
      "text/html": [
       "<b style=\"color: blue\">train R2 0.72</b>"
      ],
      "text/plain": [
       "<IPython.core.display.HTML object>"
      ]
     },
     "metadata": {},
     "output_type": "display_data"
    },
    {
     "data": {
      "text/html": [
       "<b style=\"color: red\">test R2 0.04</b>"
      ],
      "text/plain": [
       "<IPython.core.display.HTML object>"
      ]
     },
     "metadata": {},
     "output_type": "display_data"
    },
    {
     "data": {
      "image/png": "[encoded data removed]",
      "text/plain": [
       "<Figure size 360x360 with 1 Axes>"
      ]
     },
     "metadata": {
      "needs_background": "light"
     },
     "output_type": "display_data"
    },
    {
     "data": {
      "text/html": [
       "<hr/>"
      ],
      "text/plain": [
       "<IPython.core.display.HTML object>"
      ]
     },
     "metadata": {},
     "output_type": "display_data"
    },
    {
     "name": "stdout",
     "output_type": "stream",
     "text": [
      "Degree=3\n"
     ]
    },
    {
     "data": {
      "text/html": [
       "<b style=\"color: blue\">train R2 0.78</b>"
      ],
      "text/plain": [
       "<IPython.core.display.HTML object>"
      ]
     },
     "metadata": {},
     "output_type": "display_data"
    },
    {
     "data": {
      "text/html": [
       "<b style=\"color: red\">test R2 0.34</b>"
      ],
      "text/plain": [
       "<IPython.core.display.HTML object>"
      ]
     },
     "metadata": {},
     "output_type": "display_data"
    },
    {
     "data": {
      "image/png": "[encoded data removed]",
      "text/plain": [
       "<Figure size 360x360 with 1 Axes>"
      ]
     },
     "metadata": {
      "needs_background": "light"
     },
     "output_type": "display_data"
    },
    {
     "data": {
      "text/html": [
       "<hr/>"
      ],
      "text/plain": [
       "<IPython.core.display.HTML object>"
      ]
     },
     "metadata": {},
     "output_type": "display_data"
    },
    {
     "name": "stdout",
     "output_type": "stream",
     "text": [
      "Degree=4\n"
     ]
    },
    {
     "data": {
      "text/html": [
       "<b style=\"color: blue\">train R2 0.78</b>"
      ],
      "text/plain": [
       "<IPython.core.display.HTML object>"
      ]
     },
     "metadata": {},
     "output_type": "display_data"
    },
    {
     "data": {
      "text/html": [
       "<b style=\"color: red\">test R2 0.37</b>"
      ],
      "text/plain": [
       "<IPython.core.display.HTML object>"
      ]
     },
     "metadata": {},
     "output_type": "display_data"
    },
    {
     "data": {
      "image/png": "[encoded data removed]",
      "text/plain": [
       "<Figure size 360x360 with 1 Axes>"
      ]
     },
     "metadata": {
      "needs_background": "light"
     },
     "output_type": "display_data"
    },
    {
     "data": {
      "text/html": [
       "<hr/>"
      ],
      "text/plain": [
       "<IPython.core.display.HTML object>"
      ]
     },
     "metadata": {},
     "output_type": "display_data"
    },
    {
     "name": "stdout",
     "output_type": "stream",
     "text": [
      "Degree=6\n"
     ]
    },
    {
     "data": {
      "text/html": [
       "<b style=\"color: blue\">train R2 0.79</b>"
      ],
      "text/plain": [
       "<IPython.core.display.HTML object>"
      ]
     },
     "metadata": {},
     "output_type": "display_data"
    },
    {
     "data": {
      "text/html": [
       "<b style=\"color: red\">test R2 0.35</b>"
      ],
      "text/plain": [
       "<IPython.core.display.HTML object>"
      ]
     },
     "metadata": {},
     "output_type": "display_data"
    },
    {
     "data": {
      "image/png": "[encoded data removed]",
      "text/plain": [
       "<Figure size 360x360 with 1 Axes>"
      ]
     },
     "metadata": {
      "needs_background": "light"
     },
     "output_type": "display_data"
    },
    {
     "data": {
      "text/html": [
       "<hr/>"
      ],
      "text/plain": [
       "<IPython.core.display.HTML object>"
      ]
     },
     "metadata": {},
     "output_type": "display_data"
    },
    {
     "name": "stdout",
     "output_type": "stream",
     "text": [
      "Degree=10\n"
     ]
    },
    {
     "data": {
      "text/html": [
       "<b style=\"color: blue\">train R2 0.80</b>"
      ],
      "text/plain": [
       "<IPython.core.display.HTML object>"
      ]
     },
     "metadata": {},
     "output_type": "display_data"
    },
    {
     "data": {
      "text/html": [
       "<b style=\"color: red\">test R2 0.13</b>"
      ],
      "text/plain": [
       "<IPython.core.display.HTML object>"
      ]
     },
     "metadata": {},
     "output_type": "display_data"
    },
    {
     "data": {
      "image/png": "[encoded data removed]",
      "text/plain": [
       "<Figure size 360x360 with 1 Axes>"
      ]
     },
     "metadata": {
      "needs_background": "light"
     },
     "output_type": "display_data"
    },
    {
     "data": {
      "text/html": [
       "<hr/>"
      ],
      "text/plain": [
       "<IPython.core.display.HTML object>"
      ]
     },
     "metadata": {},
     "output_type": "display_data"
    },
    {
     "name": "stdout",
     "output_type": "stream",
     "text": [
      "Degree=20\n"
     ]
    },
    {
     "data": {
      "text/html": [
       "<b style=\"color: blue\">train R2 1.00</b>"
      ],
      "text/plain": [
       "<IPython.core.display.HTML object>"
      ]
     },
     "metadata": {},
     "output_type": "display_data"
    },
    {
     "data": {
      "text/html": [
       "<b style=\"color: red\">test R2 -809887106.08</b>"
      ],
      "text/plain": [
       "<IPython.core.display.HTML object>"
      ]
     },
     "metadata": {},
     "output_type": "display_data"
    },
    {
     "data": {
      "image/png": "[encoded data removed]",
      "text/plain": [
       "<Figure size 360x360 with 1 Axes>"
      ]
     },
     "metadata": {
      "needs_background": "light"
     },
     "output_type": "display_data"
    },
    {
     "data": {
      "text/html": [
       "<hr/>"
      ],
      "text/plain": [
       "<IPython.core.display.HTML object>"
      ]
     },
     "metadata": {},
     "output_type": "display_data"
    }
   ],
   "source": [
    "from IPython.display import display, HTML\n",
    "from sklearn.linear_model import LinearRegression\n",
    "from sklearn.metrics import r2_score\n",
    "from sklearn.pipeline import make_pipeline\n",
    "from sklearn.preprocessing import PolynomialFeatures\n",
    "import matplotlib.pyplot as plt\n",
    "\n",
    "plt.rcParams['figure.figsize'] = (5,5)\n",
    "\n",
    "def PolynomialRegression(degree=2, **kwargs):\n",
    "    return make_pipeline(PolynomialFeatures(degree),\n",
    "                         LinearRegression(**kwargs))\n",
    "    \n",
    "polynomial_degrees = [1,3,4,6,10,20]\n",
    "train_r2s = []\n",
    "test_r2s = []\n",
    "\n",
    "for degree in polynomial_degrees:\n",
    "    model = PolynomialRegression(degree)\n",
    "    print(f'Degree={degree}')\n",
    "    \n",
    "    model.fit(X_train, y_train)\n",
    "    train_r2 = model.score(X_train, y_train)\n",
    "    test_r2 = model.score(X_test, y_test)\n",
    "    display(HTML(f'<b style=\"color: blue\">train R2 {train_r2:.2f}</b>'))\n",
    "    display(HTML(f'<b style=\"color: red\">test R2 {test_r2:.2f}</b>'))\n",
    "\n",
    "    plt.scatter(X_train, y_train, color='blue', alpha=0.5)\n",
    "    plt.scatter(X_test, y_test, color='red', alpha=0.5)\n",
    "    \n",
    "\n",
    "    x_domain = np.linspace(X.min(), X.max())\n",
    "    curve = model.predict(x_domain)\n",
    "    plt.plot(x_domain, curve, color='blue')\n",
    "    plt.axis([-2., 2.0, -0.5, 0.5])\n",
    "    plt.show()\n",
    "    display(HTML('<hr/>'))\n",
    "    \n",
    "    train_r2s.append(train_r2)\n",
    "    test_r2s.append(test_r2)"
   ]
  },
  {
   "cell_type": "code",
   "execution_count": null,
   "metadata": {},
   "outputs": [],
   "source": []
  }
 ],
 "metadata": {
  "kernelspec": {
   "display_name": "Python 3.9.7 ('base')",
   "language": "python",
   "name": "python3"
  },
  "language_info": {
   "codemirror_mode": {
    "name": "ipython",
    "version": 3
   },
   "file_extension": ".py",
   "mimetype": "text/x-python",
   "name": "python",
   "nbconvert_exporter": "python",
   "pygments_lexer": "ipython3",
   "version": "3.9.7"
  },
  "orig_nbformat": 4,
  "vscode": {
   "interpreter": {
    "hash": "3cccf3c0b3c2a2050357b1b8a17562ab47367858b3436cecb27352aff36d702f"
   }
  }
 },
 "nbformat": 4,
 "nbformat_minor": 2
}
