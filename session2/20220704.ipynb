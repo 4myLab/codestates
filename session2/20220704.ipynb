{
 "cells": [
  {
   "cell_type": "code",
   "execution_count": null,
   "metadata": {},
   "outputs": [],
   "source": []
  }
 ],
 "metadata": {
  "kernelspec": {
   "display_name": "Python 3.9.7 ('base')",
   "language": "python",
   "name": "python3"
  },
  "language_info": {
   "name": "python",
   "version": "3.9.7"
  },
  "orig_nbformat": 4,
  "vscode": {
   "interpreter": {
    "hash": "3cccf3c0b3c2a2050357b1b8a17562ab47367858b3436cecb27352aff36d702f"
   }
  }
 },
 "nbformat": 4,
 "nbformat_minor": 2
}
