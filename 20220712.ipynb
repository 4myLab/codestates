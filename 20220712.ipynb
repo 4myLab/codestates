{
  "nbformat": 4,
  "nbformat_minor": 0,
  "metadata": {
    "colab": {
      "name": "20220712.ipynb",
      "provenance": [],
      "authorship_tag": "ABX9TyNeZXPICTLGD4ZXhJgLRIPM",
      "include_colab_link": true
    },
    "kernelspec": {
      "name": "python3",
      "display_name": "Python 3"
    },
    "language_info": {
      "name": "python"
    },
    "widgets": {
      "application/vnd.jupyter.widget-state+json": {
        "65595092c7bf4309b7a7b1a86accc9b4": {
          "model_module": "@jupyter-widgets/controls",
          "model_name": "VBoxModel",
          "model_module_version": "1.5.0",
          "state": {
            "_dom_classes": [
              "widget-interact"
            ],
            "_model_module": "@jupyter-widgets/controls",
            "_model_module_version": "1.5.0",
            "_model_name": "VBoxModel",
            "_view_count": null,
            "_view_module": "@jupyter-widgets/controls",
            "_view_module_version": "1.5.0",
            "_view_name": "VBoxView",
            "box_style": "",
            "children": [
              "IPY_MODEL_fe415db0a36842bd83b7451db6795e80",
              "IPY_MODEL_47b649baf4764f01bc4c3447a9afda0c"
            ],
            "layout": "IPY_MODEL_ad31fb0140794236a846d80d5895731c"
          }
        },
        "fe415db0a36842bd83b7451db6795e80": {
          "model_module": "@jupyter-widgets/controls",
          "model_name": "FloatSliderModel",
          "model_module_version": "1.5.0",
          "state": {
            "_dom_classes": [],
            "_model_module": "@jupyter-widgets/controls",
            "_model_module_version": "1.5.0",
            "_model_name": "FloatSliderModel",
            "_view_count": null,
            "_view_module": "@jupyter-widgets/controls",
            "_view_module_version": "1.5.0",
            "_view_name": "FloatSliderView",
            "continuous_update": true,
            "description": "threshold",
            "description_tooltip": null,
            "disabled": false,
            "layout": "IPY_MODEL_164d3c83f79e40c5ac6ab40a097433e2",
            "max": 1,
            "min": 0,
            "orientation": "horizontal",
            "readout": true,
            "readout_format": ".2f",
            "step": 0.01,
            "style": "IPY_MODEL_28c89e5f9fd144309cbcbfd16e5fb184",
            "value": 0.71
          }
        },
        "47b649baf4764f01bc4c3447a9afda0c": {
          "model_module": "@jupyter-widgets/output",
          "model_name": "OutputModel",
          "model_module_version": "1.0.0",
          "state": {
            "_dom_classes": [],
            "_model_module": "@jupyter-widgets/output",
            "_model_module_version": "1.0.0",
            "_model_name": "OutputModel",
            "_view_count": null,
            "_view_module": "@jupyter-widgets/output",
            "_view_module_version": "1.0.0",
            "_view_name": "OutputView",
            "layout": "IPY_MODEL_88137748a3e34fa5957499a1774483ec",
            "msg_id": "",
            "outputs": [
              {
                "output_type": "display_data",
                "data": {
                  "text/plain": "<Figure size 432x288 with 1 Axes>",
                  "image/png": "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\n"
                },
                "metadata": {
                  "needs_background": "light"
                }
              },
              {
                "output_type": "stream",
                "name": "stdout",
                "text": [
                  "              precision    recall  f1-score   support\n",
                  "\n",
                  "           0       0.66      0.93      0.77      7680\n",
                  "           1       0.82      0.42      0.56      6372\n",
                  "\n",
                  "    accuracy                           0.70     14052\n",
                  "   macro avg       0.74      0.67      0.66     14052\n",
                  "weighted avg       0.73      0.70      0.67     14052\n",
                  "\n"
                ]
              }
            ]
          }
        },
        "ad31fb0140794236a846d80d5895731c": {
          "model_module": "@jupyter-widgets/base",
          "model_name": "LayoutModel",
          "model_module_version": "1.2.0",
          "state": {
            "_model_module": "@jupyter-widgets/base",
            "_model_module_version": "1.2.0",
            "_model_name": "LayoutModel",
            "_view_count": null,
            "_view_module": "@jupyter-widgets/base",
            "_view_module_version": "1.2.0",
            "_view_name": "LayoutView",
            "align_content": null,
            "align_items": null,
            "align_self": null,
            "border": null,
            "bottom": null,
            "display": null,
            "flex": null,
            "flex_flow": null,
            "grid_area": null,
            "grid_auto_columns": null,
            "grid_auto_flow": null,
            "grid_auto_rows": null,
            "grid_column": null,
            "grid_gap": null,
            "grid_row": null,
            "grid_template_areas": null,
            "grid_template_columns": null,
            "grid_template_rows": null,
            "height": null,
            "justify_content": null,
            "justify_items": null,
            "left": null,
            "margin": null,
            "max_height": null,
            "max_width": null,
            "min_height": null,
            "min_width": null,
            "object_fit": null,
            "object_position": null,
            "order": null,
            "overflow": null,
            "overflow_x": null,
            "overflow_y": null,
            "padding": null,
            "right": null,
            "top": null,
            "visibility": null,
            "width": null
          }
        },
        "164d3c83f79e40c5ac6ab40a097433e2": {
          "model_module": "@jupyter-widgets/base",
          "model_name": "LayoutModel",
          "model_module_version": "1.2.0",
          "state": {
            "_model_module": "@jupyter-widgets/base",
            "_model_module_version": "1.2.0",
            "_model_name": "LayoutModel",
            "_view_count": null,
            "_view_module": "@jupyter-widgets/base",
            "_view_module_version": "1.2.0",
            "_view_name": "LayoutView",
            "align_content": null,
            "align_items": null,
            "align_self": null,
            "border": null,
            "bottom": null,
            "display": null,
            "flex": null,
            "flex_flow": null,
            "grid_area": null,
            "grid_auto_columns": null,
            "grid_auto_flow": null,
            "grid_auto_rows": null,
            "grid_column": null,
            "grid_gap": null,
            "grid_row": null,
            "grid_template_areas": null,
            "grid_template_columns": null,
            "grid_template_rows": null,
            "height": null,
            "justify_content": null,
            "justify_items": null,
            "left": null,
            "margin": null,
            "max_height": null,
            "max_width": null,
            "min_height": null,
            "min_width": null,
            "object_fit": null,
            "object_position": null,
            "order": null,
            "overflow": null,
            "overflow_x": null,
            "overflow_y": null,
            "padding": null,
            "right": null,
            "top": null,
            "visibility": null,
            "width": null
          }
        },
        "28c89e5f9fd144309cbcbfd16e5fb184": {
          "model_module": "@jupyter-widgets/controls",
          "model_name": "SliderStyleModel",
          "model_module_version": "1.5.0",
          "state": {
            "_model_module": "@jupyter-widgets/controls",
            "_model_module_version": "1.5.0",
            "_model_name": "SliderStyleModel",
            "_view_count": null,
            "_view_module": "@jupyter-widgets/base",
            "_view_module_version": "1.2.0",
            "_view_name": "StyleView",
            "description_width": "",
            "handle_color": null
          }
        },
        "88137748a3e34fa5957499a1774483ec": {
          "model_module": "@jupyter-widgets/base",
          "model_name": "LayoutModel",
          "model_module_version": "1.2.0",
          "state": {
            "_model_module": "@jupyter-widgets/base",
            "_model_module_version": "1.2.0",
            "_model_name": "LayoutModel",
            "_view_count": null,
            "_view_module": "@jupyter-widgets/base",
            "_view_module_version": "1.2.0",
            "_view_name": "LayoutView",
            "align_content": null,
            "align_items": null,
            "align_self": null,
            "border": null,
            "bottom": null,
            "display": null,
            "flex": null,
            "flex_flow": null,
            "grid_area": null,
            "grid_auto_columns": null,
            "grid_auto_flow": null,
            "grid_auto_rows": null,
            "grid_column": null,
            "grid_gap": null,
            "grid_row": null,
            "grid_template_areas": null,
            "grid_template_columns": null,
            "grid_template_rows": null,
            "height": null,
            "justify_content": null,
            "justify_items": null,
            "left": null,
            "margin": null,
            "max_height": null,
            "max_width": null,
            "min_height": null,
            "min_width": null,
            "object_fit": null,
            "object_position": null,
            "order": null,
            "overflow": null,
            "overflow_x": null,
            "overflow_y": null,
            "padding": null,
            "right": null,
            "top": null,
            "visibility": null,
            "width": null
          }
        }
      }
    }
  },
  "cells": [
    {
      "cell_type": "markdown",
      "metadata": {
        "id": "view-in-github",
        "colab_type": "text"
      },
      "source": [
        "<a href=\"https://colab.research.google.com/github/4myLab/codestates/blob/main/20220712.ipynb\" target=\"_parent\"><img src=\"https://colab.research.google.com/assets/colab-badge.svg\" alt=\"Open In Colab\"/></a>"
      ]
    },
    {
      "cell_type": "code",
      "source": [
        "!pip install category_encoders"
      ],
      "metadata": {
        "colab": {
          "base_uri": "https://localhost:8080/"
        },
        "id": "mlEf3nAwHjVu",
        "outputId": "04f8dd1f-2f36-4397-fa87-dcee8ecf44a2"
      },
      "execution_count": 1,
      "outputs": [
        {
          "output_type": "stream",
          "name": "stdout",
          "text": [
            "Looking in indexes: https://pypi.org/simple, https://us-python.pkg.dev/colab-wheels/public/simple/\n",
            "Requirement already satisfied: category_encoders in /usr/local/lib/python3.7/dist-packages (2.5.0)\n",
            "Requirement already satisfied: pandas>=1.0.5 in /usr/local/lib/python3.7/dist-packages (from category_encoders) (1.3.5)\n",
            "Requirement already satisfied: scipy>=1.0.0 in /usr/local/lib/python3.7/dist-packages (from category_encoders) (1.4.1)\n",
            "Requirement already satisfied: numpy>=1.14.0 in /usr/local/lib/python3.7/dist-packages (from category_encoders) (1.21.6)\n",
            "Requirement already satisfied: patsy>=0.5.1 in /usr/local/lib/python3.7/dist-packages (from category_encoders) (0.5.2)\n",
            "Requirement already satisfied: scikit-learn>=0.20.0 in /usr/local/lib/python3.7/dist-packages (from category_encoders) (1.0.2)\n",
            "Requirement already satisfied: statsmodels>=0.9.0 in /usr/local/lib/python3.7/dist-packages (from category_encoders) (0.10.2)\n",
            "Requirement already satisfied: pytz>=2017.3 in /usr/local/lib/python3.7/dist-packages (from pandas>=1.0.5->category_encoders) (2022.1)\n",
            "Requirement already satisfied: python-dateutil>=2.7.3 in /usr/local/lib/python3.7/dist-packages (from pandas>=1.0.5->category_encoders) (2.8.2)\n",
            "Requirement already satisfied: six in /usr/local/lib/python3.7/dist-packages (from patsy>=0.5.1->category_encoders) (1.15.0)\n",
            "Requirement already satisfied: threadpoolctl>=2.0.0 in /usr/local/lib/python3.7/dist-packages (from scikit-learn>=0.20.0->category_encoders) (3.1.0)\n",
            "Requirement already satisfied: joblib>=0.11 in /usr/local/lib/python3.7/dist-packages (from scikit-learn>=0.20.0->category_encoders) (1.1.0)\n"
          ]
        }
      ]
    },
    {
      "cell_type": "code",
      "execution_count": 2,
      "metadata": {
        "id": "wwQwT6H2F2fn"
      },
      "outputs": [],
      "source": [
        "import pandas as pd\n",
        "import numpy as np"
      ]
    },
    {
      "cell_type": "code",
      "source": [
        "# 이번에는 타겟으로 계절독감백신 접종여부를 사용하겠습니다.\n",
        "\n",
        "target = 'vacc_seas_f'\n",
        "train = pd.merge(pd.read_csv('https://ds-lecture-data.s3.ap-northeast-2.amazonaws.com/vacc_flu/train.csv'), \n",
        "                 pd.read_csv('https://ds-lecture-data.s3.ap-northeast-2.amazonaws.com/vacc_flu/train_labels.csv')[target], left_index=True, right_index=True)\n",
        "# 테스트 데이터 수를 n=14052 로 한정합니다.\n",
        "test = pd.read_csv('https://ds-lecture-data.s3.ap-northeast-2.amazonaws.com/vacc_flu/test.csv').iloc[:14052]\n",
        "sample_submission = pd.read_csv('https://ds-lecture-data.s3.ap-northeast-2.amazonaws.com/vacc_flu/submission.csv')"
      ],
      "metadata": {
        "id": "uSn_1GWFGN9y"
      },
      "execution_count": 3,
      "outputs": []
    },
    {
      "cell_type": "code",
      "source": [
        "from sklearn.model_selection import train_test_split\n",
        "\n",
        "train, val = train_test_split(train, test_size=len(test), stratify=train[target], random_state=2)\n",
        "\n",
        "train.shape, val.shape, test.shape"
      ],
      "metadata": {
        "colab": {
          "base_uri": "https://localhost:8080/"
        },
        "id": "kf1z1A9mGRCR",
        "outputId": "08e51bcf-dbdc-421a-bc51-28f1bd38b723"
      },
      "execution_count": 4,
      "outputs": [
        {
          "output_type": "execute_result",
          "data": {
            "text/plain": [
              "((28102, 39), (14052, 39), (14052, 38))"
            ]
          },
          "metadata": {},
          "execution_count": 4
        }
      ]
    },
    {
      "cell_type": "code",
      "source": [
        "def engineer(df):\n",
        "  behaviorals = [col for col in df.columns if 'behavioral' in col]\n",
        "  df['behaviorals'] = df[behaviorals].sum(axis=1)\n",
        "\n",
        "  dels = [col for col in df.columns if ('employment' in col or 'h1n1' in col)]\n",
        "  df.drop(columns=dels, inplace=True)\n",
        "\n",
        "  return df\n",
        "\n",
        "train = engineer(train)\n",
        "val = engineer(val)\n",
        "test = engineer(test)"
      ],
      "metadata": {
        "id": "kNlMYz5TGis9"
      },
      "execution_count": 5,
      "outputs": []
    },
    {
      "cell_type": "code",
      "source": [
        "features = train.drop(columns=[target]).columns\n",
        "\n",
        "X_train = train[features]\n",
        "y_train = train[target]\n",
        "X_val = val[features]\n",
        "y_val = val[target]\n",
        "X_test = test[features]"
      ],
      "metadata": {
        "id": "0_zPlIdKHHYo"
      },
      "execution_count": 6,
      "outputs": []
    },
    {
      "cell_type": "code",
      "source": [
        "X_train"
      ],
      "metadata": {
        "colab": {
          "base_uri": "https://localhost:8080/",
          "height": 627
        },
        "id": "ntyxmS_zPqhx",
        "outputId": "955fab13-3671-4316-b0f6-d8cf8620305a"
      },
      "execution_count": 48,
      "outputs": [
        {
          "output_type": "execute_result",
          "data": {
            "text/plain": [
              "       behavioral_antiviral_meds  behavioral_avoidance  behavioral_face_mask  \\\n",
              "16637                        0.0                   0.0                   0.0   \n",
              "28688                        NaN                   NaN                   NaN   \n",
              "38018                        0.0                   1.0                   0.0   \n",
              "4001                         NaN                   NaN                   NaN   \n",
              "26756                        NaN                   NaN                   NaN   \n",
              "...                          ...                   ...                   ...   \n",
              "1739                         0.0                   1.0                   0.0   \n",
              "6965                         0.0                   0.0                   0.0   \n",
              "7839                         0.0                   1.0                   0.0   \n",
              "7631                         0.0                   1.0                   0.0   \n",
              "5987                         0.0                   1.0                   0.0   \n",
              "\n",
              "       behavioral_wash_hands  behavioral_large_gatherings  \\\n",
              "16637                    1.0                          1.0   \n",
              "28688                    NaN                          NaN   \n",
              "38018                    1.0                          1.0   \n",
              "4001                     NaN                          NaN   \n",
              "26756                    NaN                          NaN   \n",
              "...                      ...                          ...   \n",
              "1739                     1.0                          0.0   \n",
              "6965                     1.0                          0.0   \n",
              "7839                     1.0                          1.0   \n",
              "7631                     1.0                          1.0   \n",
              "5987                     1.0                          0.0   \n",
              "\n",
              "       behavioral_outside_home  behavioral_touch_face  doctor_recc_seasonal  \\\n",
              "16637                      0.0                    1.0                   0.0   \n",
              "28688                      NaN                    NaN                   0.0   \n",
              "38018                      1.0                    1.0                   0.0   \n",
              "4001                       NaN                    NaN                   0.0   \n",
              "26756                      NaN                    NaN                   0.0   \n",
              "...                        ...                    ...                   ...   \n",
              "1739                       0.0                    0.0                   0.0   \n",
              "6965                       0.0                    1.0                   1.0   \n",
              "7839                       1.0                    1.0                   0.0   \n",
              "7631                       1.0                    1.0                   0.0   \n",
              "5987                       0.0                    1.0                   0.0   \n",
              "\n",
              "       chronic_med_condition  child_under_6_months  ...  marital  rent_own_r  \\\n",
              "16637                    0.0                   0.0  ...      2.0        99.0   \n",
              "28688                    0.0                   NaN  ...      NaN         2.0   \n",
              "38018                    0.0                   0.0  ...      2.0         1.0   \n",
              "4001                     0.0                   NaN  ...      NaN         1.0   \n",
              "26756                    0.0                   NaN  ...      NaN         1.0   \n",
              "...                      ...                   ...  ...      ...         ...   \n",
              "1739                     1.0                   0.0  ...      1.0         1.0   \n",
              "6965                     1.0                   0.0  ...      2.0         2.0   \n",
              "7839                     0.0                   0.0  ...      2.0         1.0   \n",
              "7631                     0.0                   0.0  ...      1.0         1.0   \n",
              "5987                     0.0                   0.0  ...      1.0         1.0   \n",
              "\n",
              "      census_region               census_msa n_adult_r household_children  \\\n",
              "16637             4                  Non-MSA       2.0                3.0   \n",
              "28688             2                  Non-MSA       1.0                3.0   \n",
              "38018             4  MSA, Not Principle City       1.0                0.0   \n",
              "4001              3  MSA, Not Principle City       2.0                1.0   \n",
              "26756             2                  Non-MSA       2.0                3.0   \n",
              "...             ...                      ...       ...                ...   \n",
              "1739              4                  Non-MSA       2.0                0.0   \n",
              "6965              3                  Non-MSA       1.0                0.0   \n",
              "7839              1  MSA, Not Principle City       1.0                0.0   \n",
              "7631              1      MSA, Principle City       2.0                2.0   \n",
              "5987              2                  Non-MSA       2.0                0.0   \n",
              "\n",
              "       n_people_r  hhs_region         state  behaviorals  \n",
              "16637         5.0           8          UTAH          3.0  \n",
              "28688         4.0           5          OHIO          0.0  \n",
              "38018         1.0           9       ARIZONA          5.0  \n",
              "4001          3.0           4       GEORGIA          0.0  \n",
              "26756         5.0           5      ILLINOIS          0.0  \n",
              "...           ...         ...           ...          ...  \n",
              "1739          2.0           6    NEW MEXICO          2.0  \n",
              "6965          1.0           4       ALABAMA          2.0  \n",
              "7839          1.0           3  PENNSYLVANIA          5.0  \n",
              "7631          4.0           1         MAINE          5.0  \n",
              "5987          2.0           5     WISCONSIN          3.0  \n",
              "\n",
              "[28102 rows x 30 columns]"
            ],
            "text/html": [
              "\n",
              "  <div id=\"df-203ecb83-83bc-4bb2-a275-c7a098dfda92\">\n",
              "    <div class=\"colab-df-container\">\n",
              "      <div>\n",
              "<style scoped>\n",
              "    .dataframe tbody tr th:only-of-type {\n",
              "        vertical-align: middle;\n",
              "    }\n",
              "\n",
              "    .dataframe tbody tr th {\n",
              "        vertical-align: top;\n",
              "    }\n",
              "\n",
              "    .dataframe thead th {\n",
              "        text-align: right;\n",
              "    }\n",
              "</style>\n",
              "<table border=\"1\" class=\"dataframe\">\n",
              "  <thead>\n",
              "    <tr style=\"text-align: right;\">\n",
              "      <th></th>\n",
              "      <th>behavioral_antiviral_meds</th>\n",
              "      <th>behavioral_avoidance</th>\n",
              "      <th>behavioral_face_mask</th>\n",
              "      <th>behavioral_wash_hands</th>\n",
              "      <th>behavioral_large_gatherings</th>\n",
              "      <th>behavioral_outside_home</th>\n",
              "      <th>behavioral_touch_face</th>\n",
              "      <th>doctor_recc_seasonal</th>\n",
              "      <th>chronic_med_condition</th>\n",
              "      <th>child_under_6_months</th>\n",
              "      <th>...</th>\n",
              "      <th>marital</th>\n",
              "      <th>rent_own_r</th>\n",
              "      <th>census_region</th>\n",
              "      <th>census_msa</th>\n",
              "      <th>n_adult_r</th>\n",
              "      <th>household_children</th>\n",
              "      <th>n_people_r</th>\n",
              "      <th>hhs_region</th>\n",
              "      <th>state</th>\n",
              "      <th>behaviorals</th>\n",
              "    </tr>\n",
              "  </thead>\n",
              "  <tbody>\n",
              "    <tr>\n",
              "      <th>16637</th>\n",
              "      <td>0.0</td>\n",
              "      <td>0.0</td>\n",
              "      <td>0.0</td>\n",
              "      <td>1.0</td>\n",
              "      <td>1.0</td>\n",
              "      <td>0.0</td>\n",
              "      <td>1.0</td>\n",
              "      <td>0.0</td>\n",
              "      <td>0.0</td>\n",
              "      <td>0.0</td>\n",
              "      <td>...</td>\n",
              "      <td>2.0</td>\n",
              "      <td>99.0</td>\n",
              "      <td>4</td>\n",
              "      <td>Non-MSA</td>\n",
              "      <td>2.0</td>\n",
              "      <td>3.0</td>\n",
              "      <td>5.0</td>\n",
              "      <td>8</td>\n",
              "      <td>UTAH</td>\n",
              "      <td>3.0</td>\n",
              "    </tr>\n",
              "    <tr>\n",
              "      <th>28688</th>\n",
              "      <td>NaN</td>\n",
              "      <td>NaN</td>\n",
              "      <td>NaN</td>\n",
              "      <td>NaN</td>\n",
              "      <td>NaN</td>\n",
              "      <td>NaN</td>\n",
              "      <td>NaN</td>\n",
              "      <td>0.0</td>\n",
              "      <td>0.0</td>\n",
              "      <td>NaN</td>\n",
              "      <td>...</td>\n",
              "      <td>NaN</td>\n",
              "      <td>2.0</td>\n",
              "      <td>2</td>\n",
              "      <td>Non-MSA</td>\n",
              "      <td>1.0</td>\n",
              "      <td>3.0</td>\n",
              "      <td>4.0</td>\n",
              "      <td>5</td>\n",
              "      <td>OHIO</td>\n",
              "      <td>0.0</td>\n",
              "    </tr>\n",
              "    <tr>\n",
              "      <th>38018</th>\n",
              "      <td>0.0</td>\n",
              "      <td>1.0</td>\n",
              "      <td>0.0</td>\n",
              "      <td>1.0</td>\n",
              "      <td>1.0</td>\n",
              "      <td>1.0</td>\n",
              "      <td>1.0</td>\n",
              "      <td>0.0</td>\n",
              "      <td>0.0</td>\n",
              "      <td>0.0</td>\n",
              "      <td>...</td>\n",
              "      <td>2.0</td>\n",
              "      <td>1.0</td>\n",
              "      <td>4</td>\n",
              "      <td>MSA, Not Principle City</td>\n",
              "      <td>1.0</td>\n",
              "      <td>0.0</td>\n",
              "      <td>1.0</td>\n",
              "      <td>9</td>\n",
              "      <td>ARIZONA</td>\n",
              "      <td>5.0</td>\n",
              "    </tr>\n",
              "    <tr>\n",
              "      <th>4001</th>\n",
              "      <td>NaN</td>\n",
              "      <td>NaN</td>\n",
              "      <td>NaN</td>\n",
              "      <td>NaN</td>\n",
              "      <td>NaN</td>\n",
              "      <td>NaN</td>\n",
              "      <td>NaN</td>\n",
              "      <td>0.0</td>\n",
              "      <td>0.0</td>\n",
              "      <td>NaN</td>\n",
              "      <td>...</td>\n",
              "      <td>NaN</td>\n",
              "      <td>1.0</td>\n",
              "      <td>3</td>\n",
              "      <td>MSA, Not Principle City</td>\n",
              "      <td>2.0</td>\n",
              "      <td>1.0</td>\n",
              "      <td>3.0</td>\n",
              "      <td>4</td>\n",
              "      <td>GEORGIA</td>\n",
              "      <td>0.0</td>\n",
              "    </tr>\n",
              "    <tr>\n",
              "      <th>26756</th>\n",
              "      <td>NaN</td>\n",
              "      <td>NaN</td>\n",
              "      <td>NaN</td>\n",
              "      <td>NaN</td>\n",
              "      <td>NaN</td>\n",
              "      <td>NaN</td>\n",
              "      <td>NaN</td>\n",
              "      <td>0.0</td>\n",
              "      <td>0.0</td>\n",
              "      <td>NaN</td>\n",
              "      <td>...</td>\n",
              "      <td>NaN</td>\n",
              "      <td>1.0</td>\n",
              "      <td>2</td>\n",
              "      <td>Non-MSA</td>\n",
              "      <td>2.0</td>\n",
              "      <td>3.0</td>\n",
              "      <td>5.0</td>\n",
              "      <td>5</td>\n",
              "      <td>ILLINOIS</td>\n",
              "      <td>0.0</td>\n",
              "    </tr>\n",
              "    <tr>\n",
              "      <th>...</th>\n",
              "      <td>...</td>\n",
              "      <td>...</td>\n",
              "      <td>...</td>\n",
              "      <td>...</td>\n",
              "      <td>...</td>\n",
              "      <td>...</td>\n",
              "      <td>...</td>\n",
              "      <td>...</td>\n",
              "      <td>...</td>\n",
              "      <td>...</td>\n",
              "      <td>...</td>\n",
              "      <td>...</td>\n",
              "      <td>...</td>\n",
              "      <td>...</td>\n",
              "      <td>...</td>\n",
              "      <td>...</td>\n",
              "      <td>...</td>\n",
              "      <td>...</td>\n",
              "      <td>...</td>\n",
              "      <td>...</td>\n",
              "      <td>...</td>\n",
              "    </tr>\n",
              "    <tr>\n",
              "      <th>1739</th>\n",
              "      <td>0.0</td>\n",
              "      <td>1.0</td>\n",
              "      <td>0.0</td>\n",
              "      <td>1.0</td>\n",
              "      <td>0.0</td>\n",
              "      <td>0.0</td>\n",
              "      <td>0.0</td>\n",
              "      <td>0.0</td>\n",
              "      <td>1.0</td>\n",
              "      <td>0.0</td>\n",
              "      <td>...</td>\n",
              "      <td>1.0</td>\n",
              "      <td>1.0</td>\n",
              "      <td>4</td>\n",
              "      <td>Non-MSA</td>\n",
              "      <td>2.0</td>\n",
              "      <td>0.0</td>\n",
              "      <td>2.0</td>\n",
              "      <td>6</td>\n",
              "      <td>NEW MEXICO</td>\n",
              "      <td>2.0</td>\n",
              "    </tr>\n",
              "    <tr>\n",
              "      <th>6965</th>\n",
              "      <td>0.0</td>\n",
              "      <td>0.0</td>\n",
              "      <td>0.0</td>\n",
              "      <td>1.0</td>\n",
              "      <td>0.0</td>\n",
              "      <td>0.0</td>\n",
              "      <td>1.0</td>\n",
              "      <td>1.0</td>\n",
              "      <td>1.0</td>\n",
              "      <td>0.0</td>\n",
              "      <td>...</td>\n",
              "      <td>2.0</td>\n",
              "      <td>2.0</td>\n",
              "      <td>3</td>\n",
              "      <td>Non-MSA</td>\n",
              "      <td>1.0</td>\n",
              "      <td>0.0</td>\n",
              "      <td>1.0</td>\n",
              "      <td>4</td>\n",
              "      <td>ALABAMA</td>\n",
              "      <td>2.0</td>\n",
              "    </tr>\n",
              "    <tr>\n",
              "      <th>7839</th>\n",
              "      <td>0.0</td>\n",
              "      <td>1.0</td>\n",
              "      <td>0.0</td>\n",
              "      <td>1.0</td>\n",
              "      <td>1.0</td>\n",
              "      <td>1.0</td>\n",
              "      <td>1.0</td>\n",
              "      <td>0.0</td>\n",
              "      <td>0.0</td>\n",
              "      <td>0.0</td>\n",
              "      <td>...</td>\n",
              "      <td>2.0</td>\n",
              "      <td>1.0</td>\n",
              "      <td>1</td>\n",
              "      <td>MSA, Not Principle City</td>\n",
              "      <td>1.0</td>\n",
              "      <td>0.0</td>\n",
              "      <td>1.0</td>\n",
              "      <td>3</td>\n",
              "      <td>PENNSYLVANIA</td>\n",
              "      <td>5.0</td>\n",
              "    </tr>\n",
              "    <tr>\n",
              "      <th>7631</th>\n",
              "      <td>0.0</td>\n",
              "      <td>1.0</td>\n",
              "      <td>0.0</td>\n",
              "      <td>1.0</td>\n",
              "      <td>1.0</td>\n",
              "      <td>1.0</td>\n",
              "      <td>1.0</td>\n",
              "      <td>0.0</td>\n",
              "      <td>0.0</td>\n",
              "      <td>0.0</td>\n",
              "      <td>...</td>\n",
              "      <td>1.0</td>\n",
              "      <td>1.0</td>\n",
              "      <td>1</td>\n",
              "      <td>MSA, Principle City</td>\n",
              "      <td>2.0</td>\n",
              "      <td>2.0</td>\n",
              "      <td>4.0</td>\n",
              "      <td>1</td>\n",
              "      <td>MAINE</td>\n",
              "      <td>5.0</td>\n",
              "    </tr>\n",
              "    <tr>\n",
              "      <th>5987</th>\n",
              "      <td>0.0</td>\n",
              "      <td>1.0</td>\n",
              "      <td>0.0</td>\n",
              "      <td>1.0</td>\n",
              "      <td>0.0</td>\n",
              "      <td>0.0</td>\n",
              "      <td>1.0</td>\n",
              "      <td>0.0</td>\n",
              "      <td>0.0</td>\n",
              "      <td>0.0</td>\n",
              "      <td>...</td>\n",
              "      <td>1.0</td>\n",
              "      <td>1.0</td>\n",
              "      <td>2</td>\n",
              "      <td>Non-MSA</td>\n",
              "      <td>2.0</td>\n",
              "      <td>0.0</td>\n",
              "      <td>2.0</td>\n",
              "      <td>5</td>\n",
              "      <td>WISCONSIN</td>\n",
              "      <td>3.0</td>\n",
              "    </tr>\n",
              "  </tbody>\n",
              "</table>\n",
              "<p>28102 rows × 30 columns</p>\n",
              "</div>\n",
              "      <button class=\"colab-df-convert\" onclick=\"convertToInteractive('df-203ecb83-83bc-4bb2-a275-c7a098dfda92')\"\n",
              "              title=\"Convert this dataframe to an interactive table.\"\n",
              "              style=\"display:none;\">\n",
              "        \n",
              "  <svg xmlns=\"http://www.w3.org/2000/svg\" height=\"24px\"viewBox=\"0 0 24 24\"\n",
              "       width=\"24px\">\n",
              "    <path d=\"M0 0h24v24H0V0z\" fill=\"none\"/>\n",
              "    <path d=\"M18.56 5.44l.94 2.06.94-2.06 2.06-.94-2.06-.94-.94-2.06-.94 2.06-2.06.94zm-11 1L8.5 8.5l.94-2.06 2.06-.94-2.06-.94L8.5 2.5l-.94 2.06-2.06.94zm10 10l.94 2.06.94-2.06 2.06-.94-2.06-.94-.94-2.06-.94 2.06-2.06.94z\"/><path d=\"M17.41 7.96l-1.37-1.37c-.4-.4-.92-.59-1.43-.59-.52 0-1.04.2-1.43.59L10.3 9.45l-7.72 7.72c-.78.78-.78 2.05 0 2.83L4 21.41c.39.39.9.59 1.41.59.51 0 1.02-.2 1.41-.59l7.78-7.78 2.81-2.81c.8-.78.8-2.07 0-2.86zM5.41 20L4 18.59l7.72-7.72 1.47 1.35L5.41 20z\"/>\n",
              "  </svg>\n",
              "      </button>\n",
              "      \n",
              "  <style>\n",
              "    .colab-df-container {\n",
              "      display:flex;\n",
              "      flex-wrap:wrap;\n",
              "      gap: 12px;\n",
              "    }\n",
              "\n",
              "    .colab-df-convert {\n",
              "      background-color: #E8F0FE;\n",
              "      border: none;\n",
              "      border-radius: 50%;\n",
              "      cursor: pointer;\n",
              "      display: none;\n",
              "      fill: #1967D2;\n",
              "      height: 32px;\n",
              "      padding: 0 0 0 0;\n",
              "      width: 32px;\n",
              "    }\n",
              "\n",
              "    .colab-df-convert:hover {\n",
              "      background-color: #E2EBFA;\n",
              "      box-shadow: 0px 1px 2px rgba(60, 64, 67, 0.3), 0px 1px 3px 1px rgba(60, 64, 67, 0.15);\n",
              "      fill: #174EA6;\n",
              "    }\n",
              "\n",
              "    [theme=dark] .colab-df-convert {\n",
              "      background-color: #3B4455;\n",
              "      fill: #D2E3FC;\n",
              "    }\n",
              "\n",
              "    [theme=dark] .colab-df-convert:hover {\n",
              "      background-color: #434B5C;\n",
              "      box-shadow: 0px 1px 3px 1px rgba(0, 0, 0, 0.15);\n",
              "      filter: drop-shadow(0px 1px 2px rgba(0, 0, 0, 0.3));\n",
              "      fill: #FFFFFF;\n",
              "    }\n",
              "  </style>\n",
              "\n",
              "      <script>\n",
              "        const buttonEl =\n",
              "          document.querySelector('#df-203ecb83-83bc-4bb2-a275-c7a098dfda92 button.colab-df-convert');\n",
              "        buttonEl.style.display =\n",
              "          google.colab.kernel.accessAllowed ? 'block' : 'none';\n",
              "\n",
              "        async function convertToInteractive(key) {\n",
              "          const element = document.querySelector('#df-203ecb83-83bc-4bb2-a275-c7a098dfda92');\n",
              "          const dataTable =\n",
              "            await google.colab.kernel.invokeFunction('convertToInteractive',\n",
              "                                                     [key], {});\n",
              "          if (!dataTable) return;\n",
              "\n",
              "          const docLinkHtml = 'Like what you see? Visit the ' +\n",
              "            '<a target=\"_blank\" href=https://colab.research.google.com/notebooks/data_table.ipynb>data table notebook</a>'\n",
              "            + ' to learn more about interactive tables.';\n",
              "          element.innerHTML = '';\n",
              "          dataTable['output_type'] = 'display_data';\n",
              "          await google.colab.output.renderOutput(dataTable, element);\n",
              "          const docLink = document.createElement('div');\n",
              "          docLink.innerHTML = docLinkHtml;\n",
              "          element.appendChild(docLink);\n",
              "        }\n",
              "      </script>\n",
              "    </div>\n",
              "  </div>\n",
              "  "
            ]
          },
          "metadata": {},
          "execution_count": 48
        }
      ]
    },
    {
      "cell_type": "code",
      "source": [
        "from sklearn.pipeline import make_pipeline\n",
        "from category_encoders import OrdinalEncoder\n",
        "from sklearn.impute import SimpleImputer\n",
        "from sklearn.ensemble import RandomForestClassifier\n",
        "from sklearn.metrics import accuracy_score\n",
        "\n",
        "pipe = make_pipeline(\n",
        "    OrdinalEncoder(),\n",
        "    SimpleImputer(),\n",
        "    RandomForestClassifier(n_estimators=100, random_state=2, n_jobs=-1)\n",
        ")\n",
        "\n",
        "pipe.fit(X_train, y_train)\n",
        "y_pred = pipe.predict(X_val)\n",
        "print('검증 정확도: ', accuracy_score(y_val, y_pred))"
      ],
      "metadata": {
        "colab": {
          "base_uri": "https://localhost:8080/"
        },
        "id": "3zgLjeBcHOQw",
        "outputId": "c436ad53-98c1-4c80-fbf8-dbca0d16a639"
      },
      "execution_count": 9,
      "outputs": [
        {
          "output_type": "stream",
          "name": "stdout",
          "text": [
            "검증 정확도:  0.7548391688015941\n"
          ]
        }
      ]
    },
    {
      "cell_type": "code",
      "source": [
        "from sklearn.metrics import plot_confusion_matrix\n",
        "import matplotlib.pyplot as plt\n",
        "\n",
        "fig, ax = plt.subplots()\n",
        "pcm = plot_confusion_matrix(pipe, X_val, y_val, cmap=plt.cm.Blues, ax=ax)\n",
        "plt.title(f'Confusion matrix, n={len(y_val)}', fontsize=15)\n",
        "plt.show()"
      ],
      "metadata": {
        "colab": {
          "base_uri": "https://localhost:8080/",
          "height": 354
        },
        "id": "u-MaY6TwHiAI",
        "outputId": "c9c1fa95-34a7-4c48-ed2a-78128c26cd35"
      },
      "execution_count": 11,
      "outputs": [
        {
          "output_type": "stream",
          "name": "stderr",
          "text": [
            "/usr/local/lib/python3.7/dist-packages/sklearn/utils/deprecation.py:87: FutureWarning: Function plot_confusion_matrix is deprecated; Function `plot_confusion_matrix` is deprecated in 1.0 and will be removed in 1.2. Use one of the class methods: ConfusionMatrixDisplay.from_predictions or ConfusionMatrixDisplay.from_estimator.\n",
            "  warnings.warn(msg, category=FutureWarning)\n"
          ]
        },
        {
          "output_type": "display_data",
          "data": {
            "text/plain": [
              "<Figure size 432x288 with 2 Axes>"
            ],
            "image/png": "[encoded data removed]"
          },
          "metadata": {
            "needs_background": "light"
          }
        }
      ]
    },
    {
      "cell_type": "code",
      "source": [
        "cm = pcm.confusion_matrix\n",
        "cm"
      ],
      "metadata": {
        "colab": {
          "base_uri": "https://localhost:8080/"
        },
        "id": "sk-T7fhjIwGN",
        "outputId": "49b1e21e-0f3d-4b20-c542-916c8981aace"
      },
      "execution_count": 12,
      "outputs": [
        {
          "output_type": "execute_result",
          "data": {
            "text/plain": [
              "array([[6165, 1515],\n",
              "       [1930, 4442]])"
            ]
          },
          "metadata": {},
          "execution_count": 12
        }
      ]
    },
    {
      "cell_type": "code",
      "source": [
        "cm[1][1]"
      ],
      "metadata": {
        "colab": {
          "base_uri": "https://localhost:8080/"
        },
        "id": "PxZSR8SGJFuZ",
        "outputId": "10a94312-1796-433a-a983-4955ac2d56e0"
      },
      "execution_count": 13,
      "outputs": [
        {
          "output_type": "execute_result",
          "data": {
            "text/plain": [
              "4442"
            ]
          },
          "metadata": {},
          "execution_count": 13
        }
      ]
    },
    {
      "cell_type": "code",
      "source": [
        "correct_predictions = np.diag(cm).sum()\n",
        "correct_predictions"
      ],
      "metadata": {
        "colab": {
          "base_uri": "https://localhost:8080/"
        },
        "id": "3nvHqcDZJMgH",
        "outputId": "f0cab73c-0441-4636-dcc1-4df1229e2b50"
      },
      "execution_count": 14,
      "outputs": [
        {
          "output_type": "execute_result",
          "data": {
            "text/plain": [
              "10607"
            ]
          },
          "metadata": {},
          "execution_count": 14
        }
      ]
    },
    {
      "cell_type": "code",
      "source": [
        "total_predictions = cm.sum()\n",
        "total_predictions"
      ],
      "metadata": {
        "colab": {
          "base_uri": "https://localhost:8080/"
        },
        "id": "h-LRRf7TJWa2",
        "outputId": "837f74a0-f5ed-4bd3-95a3-b8ea1b7a0d61"
      },
      "execution_count": 18,
      "outputs": [
        {
          "output_type": "execute_result",
          "data": {
            "text/plain": [
              "14052"
            ]
          },
          "metadata": {},
          "execution_count": 18
        }
      ]
    },
    {
      "cell_type": "code",
      "source": [
        "correct_predictions / total_predictions"
      ],
      "metadata": {
        "colab": {
          "base_uri": "https://localhost:8080/"
        },
        "id": "I-ShRWRsJbge",
        "outputId": "51fabb51-9760-4724-f801-add51fa6a40c"
      },
      "execution_count": 19,
      "outputs": [
        {
          "output_type": "execute_result",
          "data": {
            "text/plain": [
              "0.7548391688015941"
            ]
          },
          "metadata": {},
          "execution_count": 19
        }
      ]
    },
    {
      "cell_type": "code",
      "source": [
        "print('검증 정확도: ', accuracy_score(y_val, y_pred))\n"
      ],
      "metadata": {
        "colab": {
          "base_uri": "https://localhost:8080/"
        },
        "id": "dxgF2aZ-JfY3",
        "outputId": "7c959df1-ded1-43eb-e846-eddae764a236"
      },
      "execution_count": 20,
      "outputs": [
        {
          "output_type": "stream",
          "name": "stdout",
          "text": [
            "검증 정확도:  0.7548391688015941\n"
          ]
        }
      ]
    },
    {
      "cell_type": "code",
      "source": [
        "from sklearn.metrics import classification_report\n",
        "print(classification_report(y_val, y_pred))"
      ],
      "metadata": {
        "colab": {
          "base_uri": "https://localhost:8080/"
        },
        "id": "69plJvy1JoxG",
        "outputId": "71abcea1-fcd4-4add-85b7-6bfca1f17f61"
      },
      "execution_count": 21,
      "outputs": [
        {
          "output_type": "stream",
          "name": "stdout",
          "text": [
            "              precision    recall  f1-score   support\n",
            "\n",
            "           0       0.76      0.80      0.78      7680\n",
            "           1       0.75      0.70      0.72      6372\n",
            "\n",
            "    accuracy                           0.75     14052\n",
            "   macro avg       0.75      0.75      0.75     14052\n",
            "weighted avg       0.75      0.75      0.75     14052\n",
            "\n"
          ]
        }
      ]
    },
    {
      "cell_type": "code",
      "source": [
        "fig, ax = plt.subplots()\n",
        "pcm = plot_confusion_matrix(pipe, X_val, y_val, cmap=plt.cm.Blues, ax=ax)\n",
        "plt.title(f'Confusion matrix, x={len(y_val)}', fontsize=15)\n",
        "plt.show()"
      ],
      "metadata": {
        "colab": {
          "base_uri": "https://localhost:8080/",
          "height": 354
        },
        "id": "ONSeMgbLKHKk",
        "outputId": "afe4019a-e919-4c68-ae45-a1abd19226bd"
      },
      "execution_count": 22,
      "outputs": [
        {
          "output_type": "stream",
          "name": "stderr",
          "text": [
            "/usr/local/lib/python3.7/dist-packages/sklearn/utils/deprecation.py:87: FutureWarning: Function plot_confusion_matrix is deprecated; Function `plot_confusion_matrix` is deprecated in 1.0 and will be removed in 1.2. Use one of the class methods: ConfusionMatrixDisplay.from_predictions or ConfusionMatrixDisplay.from_estimator.\n",
            "  warnings.warn(msg, category=FutureWarning)\n"
          ]
        },
        {
          "output_type": "display_data",
          "data": {
            "text/plain": [
              "<Figure size 432x288 with 2 Axes>"
            ],
            "image/png": "[encoded data removed]"
          },
          "metadata": {
            "needs_background": "light"
          }
        }
      ]
    },
    {
      "cell_type": "code",
      "source": [
        "tp = 4442\n",
        "tn = 6165\n",
        "fp = 1515\n",
        "fn = 1930\n",
        "total = tp + tn + fp + fn"
      ],
      "metadata": {
        "id": "jsb-nJGnKaaE"
      },
      "execution_count": 23,
      "outputs": []
    },
    {
      "cell_type": "code",
      "source": [
        "tp"
      ],
      "metadata": {
        "colab": {
          "base_uri": "https://localhost:8080/"
        },
        "id": "vkqynG8pKt4P",
        "outputId": "b755762d-313a-4680-8e09-6995909a5781"
      },
      "execution_count": 24,
      "outputs": [
        {
          "output_type": "execute_result",
          "data": {
            "text/plain": [
              "4442"
            ]
          },
          "metadata": {},
          "execution_count": 24
        }
      ]
    },
    {
      "cell_type": "code",
      "source": [
        "fp"
      ],
      "metadata": {
        "colab": {
          "base_uri": "https://localhost:8080/"
        },
        "id": "esWTSLduKuTO",
        "outputId": "eff14bbb-9213-4f0e-fb1c-45ec504d92d6"
      },
      "execution_count": 25,
      "outputs": [
        {
          "output_type": "execute_result",
          "data": {
            "text/plain": [
              "1515"
            ]
          },
          "metadata": {},
          "execution_count": 25
        }
      ]
    },
    {
      "cell_type": "code",
      "source": [
        "positives = tp + fp\n",
        "tp/positives"
      ],
      "metadata": {
        "colab": {
          "base_uri": "https://localhost:8080/"
        },
        "id": "-K_0DrZDKvPJ",
        "outputId": "99390355-a59c-4249-e8f3-46a8a61b8cc8"
      },
      "execution_count": 27,
      "outputs": [
        {
          "output_type": "execute_result",
          "data": {
            "text/plain": [
              "0.7456773543730065"
            ]
          },
          "metadata": {},
          "execution_count": 27
        }
      ]
    },
    {
      "cell_type": "code",
      "source": [
        "real_positives = tp+fn\n",
        "real_positives"
      ],
      "metadata": {
        "colab": {
          "base_uri": "https://localhost:8080/"
        },
        "id": "3eN47v0SK1U8",
        "outputId": "de7f543c-33c9-4bdc-bbd4-902abecaefc3"
      },
      "execution_count": 28,
      "outputs": [
        {
          "output_type": "execute_result",
          "data": {
            "text/plain": [
              "6372"
            ]
          },
          "metadata": {},
          "execution_count": 28
        }
      ]
    },
    {
      "cell_type": "code",
      "source": [
        "tp/real_positives"
      ],
      "metadata": {
        "colab": {
          "base_uri": "https://localhost:8080/"
        },
        "id": "Fyug7dGvK6aw",
        "outputId": "f80bcd0c-1c95-4a0f-9639-cef68992553d"
      },
      "execution_count": 29,
      "outputs": [
        {
          "output_type": "execute_result",
          "data": {
            "text/plain": [
              "0.697112366603892"
            ]
          },
          "metadata": {},
          "execution_count": 29
        }
      ]
    },
    {
      "cell_type": "code",
      "source": [
        "herdImmunity = total*0.7\n",
        "herdImmunity"
      ],
      "metadata": {
        "colab": {
          "base_uri": "https://localhost:8080/"
        },
        "id": "6DqM9aTjK99l",
        "outputId": "8c9e0469-da80-414a-b306-eb79f88d26ae"
      },
      "execution_count": 30,
      "outputs": [
        {
          "output_type": "execute_result",
          "data": {
            "text/plain": [
              "9836.4"
            ]
          },
          "metadata": {},
          "execution_count": 30
        }
      ]
    },
    {
      "cell_type": "code",
      "source": [
        "herdImmunity - real_positives"
      ],
      "metadata": {
        "colab": {
          "base_uri": "https://localhost:8080/"
        },
        "id": "F5lcCNe_LGW_",
        "outputId": "50842e0f-c892-4462-e5a2-f6a59ccd9aa9"
      },
      "execution_count": 31,
      "outputs": [
        {
          "output_type": "execute_result",
          "data": {
            "text/plain": [
              "3464.3999999999996"
            ]
          },
          "metadata": {},
          "execution_count": 31
        }
      ]
    },
    {
      "cell_type": "code",
      "source": [
        "true_ratio = y_train.value_counts(normalize=True)[1]\n",
        "true_ratio"
      ],
      "metadata": {
        "colab": {
          "base_uri": "https://localhost:8080/"
        },
        "id": "_HvkH03FLJuA",
        "outputId": "150ae64e-9bcc-4ee2-865e-3673d6081258"
      },
      "execution_count": 33,
      "outputs": [
        {
          "output_type": "execute_result",
          "data": {
            "text/plain": [
              "0.4534552700875383"
            ]
          },
          "metadata": {},
          "execution_count": 33
        }
      ]
    },
    {
      "cell_type": "code",
      "source": [
        "public_vacc = 4500\n",
        "overlap = public_vacc * true_ratio\n",
        "overlap"
      ],
      "metadata": {
        "colab": {
          "base_uri": "https://localhost:8080/"
        },
        "id": "BphzgOGSLc4a",
        "outputId": "6d9e5f86-d146-48d1-fc23-ab772105fc73"
      },
      "execution_count": 34,
      "outputs": [
        {
          "output_type": "execute_result",
          "data": {
            "text/plain": [
              "2040.5487153939223"
            ]
          },
          "metadata": {},
          "execution_count": 34
        }
      ]
    },
    {
      "cell_type": "code",
      "source": [
        "lack = herdImmunity - (public_vacc + real_positives - overlap)\n",
        "lack"
      ],
      "metadata": {
        "colab": {
          "base_uri": "https://localhost:8080/"
        },
        "id": "z6X03VnmLneD",
        "outputId": "0c308112-a2d0-4ff4-8e45-a92306df8095"
      },
      "execution_count": 35,
      "outputs": [
        {
          "output_type": "execute_result",
          "data": {
            "text/plain": [
              "1004.9487153939226"
            ]
          },
          "metadata": {},
          "execution_count": 35
        }
      ]
    },
    {
      "cell_type": "code",
      "source": [
        "pipe.classes_"
      ],
      "metadata": {
        "colab": {
          "base_uri": "https://localhost:8080/"
        },
        "id": "hgNzOPRrLwwW",
        "outputId": "e28c3ef9-3bf6-4aa7-f57d-fdb2ff658e30"
      },
      "execution_count": 37,
      "outputs": [
        {
          "output_type": "execute_result",
          "data": {
            "text/plain": [
              "array([0, 1])"
            ]
          },
          "metadata": {},
          "execution_count": 37
        }
      ]
    },
    {
      "cell_type": "code",
      "source": [
        "pipe.predict(X_val)"
      ],
      "metadata": {
        "colab": {
          "base_uri": "https://localhost:8080/"
        },
        "id": "TW37EmXoL47X",
        "outputId": "07cf6fb4-4b74-4b11-c105-f122b3b6acab"
      },
      "execution_count": 38,
      "outputs": [
        {
          "output_type": "execute_result",
          "data": {
            "text/plain": [
              "array([1, 0, 0, ..., 1, 1, 0])"
            ]
          },
          "metadata": {},
          "execution_count": 38
        }
      ]
    },
    {
      "cell_type": "code",
      "source": [
        "pipe.predict_proba(X_val)"
      ],
      "metadata": {
        "colab": {
          "base_uri": "https://localhost:8080/"
        },
        "id": "VOacKsyIL_jL",
        "outputId": "9de42592-1f8f-463c-db23-247831ec3d70"
      },
      "execution_count": 39,
      "outputs": [
        {
          "output_type": "execute_result",
          "data": {
            "text/plain": [
              "array([[0.46      , 0.54      ],\n",
              "       [0.85      , 0.15      ],\n",
              "       [0.78      , 0.22      ],\n",
              "       ...,\n",
              "       [0.14      , 0.86      ],\n",
              "       [0.38459524, 0.61540476],\n",
              "       [0.92      , 0.08      ]])"
            ]
          },
          "metadata": {},
          "execution_count": 39
        }
      ]
    },
    {
      "cell_type": "code",
      "source": [
        "y_pred_proba = pipe.predict_proba(X_val)[:,1]\n",
        "y_pred_proba"
      ],
      "metadata": {
        "colab": {
          "base_uri": "https://localhost:8080/"
        },
        "id": "JocoDC84MEEP",
        "outputId": "dcc67d7e-ab84-454e-ddf8-5963a3a53bad"
      },
      "execution_count": 40,
      "outputs": [
        {
          "output_type": "execute_result",
          "data": {
            "text/plain": [
              "array([0.54      , 0.15      , 0.22      , ..., 0.86      , 0.61540476,\n",
              "       0.08      ])"
            ]
          },
          "metadata": {},
          "execution_count": 40
        }
      ]
    },
    {
      "cell_type": "code",
      "source": [
        "import seaborn as sns\n",
        "sns.displot(y_pred_proba)"
      ],
      "metadata": {
        "colab": {
          "base_uri": "https://localhost:8080/",
          "height": 387
        },
        "id": "n6rP9mdMMKcr",
        "outputId": "d0a8eba7-afe4-4ffe-c862-7aa04e9f6b2b"
      },
      "execution_count": 41,
      "outputs": [
        {
          "output_type": "execute_result",
          "data": {
            "text/plain": [
              "<seaborn.axisgrid.FacetGrid at 0x7f3f469c7990>"
            ]
          },
          "metadata": {},
          "execution_count": 41
        },
        {
          "output_type": "display_data",
          "data": {
            "text/plain": [
              "<Figure size 360x360 with 1 Axes>"
            ],
            "image/png": "[encoded data removed]"
          },
          "metadata": {
            "needs_background": "light"
          }
        }
      ]
    },
    {
      "cell_type": "code",
      "source": [
        "threshold = 0.5\n",
        "y_pred_proba = pipe.predict_proba(X_val)[:, 1]\n",
        "y_pred = y_pred_proba > threshold\n",
        "\n",
        "ax = sns.histplot(y_pred_proba)\n",
        "ax.axvline(threshold, color='red')\n",
        "\n",
        "pd.Series(y_pred).value_counts()"
      ],
      "metadata": {
        "colab": {
          "base_uri": "https://localhost:8080/",
          "height": 320
        },
        "id": "ThZXBMDxMP9E",
        "outputId": "4ee839ef-f0ca-48ff-9453-9c26bea5201f"
      },
      "execution_count": 42,
      "outputs": [
        {
          "output_type": "execute_result",
          "data": {
            "text/plain": [
              "False    8095\n",
              "True     5957\n",
              "dtype: int64"
            ]
          },
          "metadata": {},
          "execution_count": 42
        },
        {
          "output_type": "display_data",
          "data": {
            "text/plain": [
              "<Figure size 432x288 with 1 Axes>"
            ],
            "image/png": "[encoded data removed]"
          },
          "metadata": {
            "needs_background": "light"
          }
        }
      ]
    },
    {
      "cell_type": "code",
      "source": [
        "from ipywidgets import interact, fixed\n",
        "\n",
        "def explore_threshold(y_true, y_pred_proba, threshold=0.5):\n",
        "    y_pred = y_pred_proba >= threshold\n",
        "    vc = pd.Series(y_pred).value_counts()\n",
        "    ax = sns.histplot(y_pred_proba, kde=True)\n",
        "    ax.axvline(threshold, color='red')\n",
        "    ax.set_title(f'# of target, 1={vc[1]}, 0={vc[0]}')\n",
        "    plt.show()\n",
        "    print(classification_report(y_true, y_pred))\n",
        "\n",
        "    \n",
        "interact(explore_threshold, \n",
        "    y_true=fixed(y_val), \n",
        "    y_pred_proba=fixed(y_pred_proba), \n",
        "    threshold=(0, 1, 0.01))"
      ],
      "metadata": {
        "colab": {
          "base_uri": "https://localhost:8080/",
          "height": 497,
          "referenced_widgets": [
            "65595092c7bf4309b7a7b1a86accc9b4",
            "fe415db0a36842bd83b7451db6795e80",
            "47b649baf4764f01bc4c3447a9afda0c",
            "ad31fb0140794236a846d80d5895731c",
            "164d3c83f79e40c5ac6ab40a097433e2",
            "28c89e5f9fd144309cbcbfd16e5fb184",
            "88137748a3e34fa5957499a1774483ec"
          ]
        },
        "id": "hd54PxTFMtT3",
        "outputId": "0b6fc6b9-5988-46e8-8cdb-d87976e291f2"
      },
      "execution_count": 44,
      "outputs": [
        {
          "output_type": "display_data",
          "data": {
            "text/plain": [
              "interactive(children=(FloatSlider(value=0.5, description='threshold', max=1.0, step=0.01), Output()), _dom_cla…"
            ],
            "application/vnd.jupyter.widget-view+json": {
              "version_major": 2,
              "version_minor": 0,
              "model_id": "65595092c7bf4309b7a7b1a86accc9b4"
            }
          },
          "metadata": {}
        },
        {
          "output_type": "execute_result",
          "data": {
            "text/plain": [
              "<function __main__.explore_threshold>"
            ]
          },
          "metadata": {},
          "execution_count": 44
        }
      ]
    },
    {
      "cell_type": "code",
      "source": [
        "pred_proba = pd.DataFrame({\n",
        "    'y_val' : y_val,\n",
        "    'pred_proba' : y_pred_proba\n",
        "})\n",
        "pred_proba"
      ],
      "metadata": {
        "colab": {
          "base_uri": "https://localhost:8080/",
          "height": 424
        },
        "id": "N7xK7qJ8OoGk",
        "outputId": "4de51bfc-c423-48cb-9d4f-f38d664915b3"
      },
      "execution_count": 46,
      "outputs": [
        {
          "output_type": "execute_result",
          "data": {
            "text/plain": [
              "       y_val  pred_proba\n",
              "10296      0    0.540000\n",
              "3515       0    0.150000\n",
              "13103      0    0.220000\n",
              "31432      1    1.000000\n",
              "38296      1    0.060000\n",
              "...      ...         ...\n",
              "6815       0    0.180000\n",
              "34682      1    0.900000\n",
              "21444      1    0.860000\n",
              "19491      1    0.615405\n",
              "25220      0    0.080000\n",
              "\n",
              "[14052 rows x 2 columns]"
            ],
            "text/html": [
              "\n",
              "  <div id=\"df-e39e4b0a-1159-4068-85a8-74a7be300adb\">\n",
              "    <div class=\"colab-df-container\">\n",
              "      <div>\n",
              "<style scoped>\n",
              "    .dataframe tbody tr th:only-of-type {\n",
              "        vertical-align: middle;\n",
              "    }\n",
              "\n",
              "    .dataframe tbody tr th {\n",
              "        vertical-align: top;\n",
              "    }\n",
              "\n",
              "    .dataframe thead th {\n",
              "        text-align: right;\n",
              "    }\n",
              "</style>\n",
              "<table border=\"1\" class=\"dataframe\">\n",
              "  <thead>\n",
              "    <tr style=\"text-align: right;\">\n",
              "      <th></th>\n",
              "      <th>y_val</th>\n",
              "      <th>pred_proba</th>\n",
              "    </tr>\n",
              "  </thead>\n",
              "  <tbody>\n",
              "    <tr>\n",
              "      <th>10296</th>\n",
              "      <td>0</td>\n",
              "      <td>0.540000</td>\n",
              "    </tr>\n",
              "    <tr>\n",
              "      <th>3515</th>\n",
              "      <td>0</td>\n",
              "      <td>0.150000</td>\n",
              "    </tr>\n",
              "    <tr>\n",
              "      <th>13103</th>\n",
              "      <td>0</td>\n",
              "      <td>0.220000</td>\n",
              "    </tr>\n",
              "    <tr>\n",
              "      <th>31432</th>\n",
              "      <td>1</td>\n",
              "      <td>1.000000</td>\n",
              "    </tr>\n",
              "    <tr>\n",
              "      <th>38296</th>\n",
              "      <td>1</td>\n",
              "      <td>0.060000</td>\n",
              "    </tr>\n",
              "    <tr>\n",
              "      <th>...</th>\n",
              "      <td>...</td>\n",
              "      <td>...</td>\n",
              "    </tr>\n",
              "    <tr>\n",
              "      <th>6815</th>\n",
              "      <td>0</td>\n",
              "      <td>0.180000</td>\n",
              "    </tr>\n",
              "    <tr>\n",
              "      <th>34682</th>\n",
              "      <td>1</td>\n",
              "      <td>0.900000</td>\n",
              "    </tr>\n",
              "    <tr>\n",
              "      <th>21444</th>\n",
              "      <td>1</td>\n",
              "      <td>0.860000</td>\n",
              "    </tr>\n",
              "    <tr>\n",
              "      <th>19491</th>\n",
              "      <td>1</td>\n",
              "      <td>0.615405</td>\n",
              "    </tr>\n",
              "    <tr>\n",
              "      <th>25220</th>\n",
              "      <td>0</td>\n",
              "      <td>0.080000</td>\n",
              "    </tr>\n",
              "  </tbody>\n",
              "</table>\n",
              "<p>14052 rows × 2 columns</p>\n",
              "</div>\n",
              "      <button class=\"colab-df-convert\" onclick=\"convertToInteractive('df-e39e4b0a-1159-4068-85a8-74a7be300adb')\"\n",
              "              title=\"Convert this dataframe to an interactive table.\"\n",
              "              style=\"display:none;\">\n",
              "        \n",
              "  <svg xmlns=\"http://www.w3.org/2000/svg\" height=\"24px\"viewBox=\"0 0 24 24\"\n",
              "       width=\"24px\">\n",
              "    <path d=\"M0 0h24v24H0V0z\" fill=\"none\"/>\n",
              "    <path d=\"M18.56 5.44l.94 2.06.94-2.06 2.06-.94-2.06-.94-.94-2.06-.94 2.06-2.06.94zm-11 1L8.5 8.5l.94-2.06 2.06-.94-2.06-.94L8.5 2.5l-.94 2.06-2.06.94zm10 10l.94 2.06.94-2.06 2.06-.94-2.06-.94-.94-2.06-.94 2.06-2.06.94z\"/><path d=\"M17.41 7.96l-1.37-1.37c-.4-.4-.92-.59-1.43-.59-.52 0-1.04.2-1.43.59L10.3 9.45l-7.72 7.72c-.78.78-.78 2.05 0 2.83L4 21.41c.39.39.9.59 1.41.59.51 0 1.02-.2 1.41-.59l7.78-7.78 2.81-2.81c.8-.78.8-2.07 0-2.86zM5.41 20L4 18.59l7.72-7.72 1.47 1.35L5.41 20z\"/>\n",
              "  </svg>\n",
              "      </button>\n",
              "      \n",
              "  <style>\n",
              "    .colab-df-container {\n",
              "      display:flex;\n",
              "      flex-wrap:wrap;\n",
              "      gap: 12px;\n",
              "    }\n",
              "\n",
              "    .colab-df-convert {\n",
              "      background-color: #E8F0FE;\n",
              "      border: none;\n",
              "      border-radius: 50%;\n",
              "      cursor: pointer;\n",
              "      display: none;\n",
              "      fill: #1967D2;\n",
              "      height: 32px;\n",
              "      padding: 0 0 0 0;\n",
              "      width: 32px;\n",
              "    }\n",
              "\n",
              "    .colab-df-convert:hover {\n",
              "      background-color: #E2EBFA;\n",
              "      box-shadow: 0px 1px 2px rgba(60, 64, 67, 0.3), 0px 1px 3px 1px rgba(60, 64, 67, 0.15);\n",
              "      fill: #174EA6;\n",
              "    }\n",
              "\n",
              "    [theme=dark] .colab-df-convert {\n",
              "      background-color: #3B4455;\n",
              "      fill: #D2E3FC;\n",
              "    }\n",
              "\n",
              "    [theme=dark] .colab-df-convert:hover {\n",
              "      background-color: #434B5C;\n",
              "      box-shadow: 0px 1px 3px 1px rgba(0, 0, 0, 0.15);\n",
              "      filter: drop-shadow(0px 1px 2px rgba(0, 0, 0, 0.3));\n",
              "      fill: #FFFFFF;\n",
              "    }\n",
              "  </style>\n",
              "\n",
              "      <script>\n",
              "        const buttonEl =\n",
              "          document.querySelector('#df-e39e4b0a-1159-4068-85a8-74a7be300adb button.colab-df-convert');\n",
              "        buttonEl.style.display =\n",
              "          google.colab.kernel.accessAllowed ? 'block' : 'none';\n",
              "\n",
              "        async function convertToInteractive(key) {\n",
              "          const element = document.querySelector('#df-e39e4b0a-1159-4068-85a8-74a7be300adb');\n",
              "          const dataTable =\n",
              "            await google.colab.kernel.invokeFunction('convertToInteractive',\n",
              "                                                     [key], {});\n",
              "          if (!dataTable) return;\n",
              "\n",
              "          const docLinkHtml = 'Like what you see? Visit the ' +\n",
              "            '<a target=\"_blank\" href=https://colab.research.google.com/notebooks/data_table.ipynb>data table notebook</a>'\n",
              "            + ' to learn more about interactive tables.';\n",
              "          element.innerHTML = '';\n",
              "          dataTable['output_type'] = 'display_data';\n",
              "          await google.colab.output.renderOutput(dataTable, element);\n",
              "          const docLink = document.createElement('div');\n",
              "          docLink.innerHTML = docLinkHtml;\n",
              "          element.appendChild(docLink);\n",
              "        }\n",
              "      </script>\n",
              "    </div>\n",
              "  </div>\n",
              "  "
            ]
          },
          "metadata": {},
          "execution_count": 46
        }
      ]
    },
    {
      "cell_type": "code",
      "source": [
        "top = pred_proba.sort_values(by='pred_proba', ascending=True)[:4500]\n",
        "top"
      ],
      "metadata": {
        "colab": {
          "base_uri": "https://localhost:8080/",
          "height": 424
        },
        "id": "rtkDhzmVPFGi",
        "outputId": "46e14109-16c0-46f3-8117-729cafe32622"
      },
      "execution_count": 47,
      "outputs": [
        {
          "output_type": "execute_result",
          "data": {
            "text/plain": [
              "       y_val  pred_proba\n",
              "10271      0        0.00\n",
              "25027      0        0.00\n",
              "37061      0        0.00\n",
              "12209      0        0.00\n",
              "4718       0        0.00\n",
              "...      ...         ...\n",
              "32901      0        0.27\n",
              "39458      0        0.27\n",
              "28620      0        0.27\n",
              "34079      0        0.27\n",
              "18289      0        0.27\n",
              "\n",
              "[4500 rows x 2 columns]"
            ],
            "text/html": [
              "\n",
              "  <div id=\"df-0935a0c3-4812-4bcc-bdf6-10060b1f67fd\">\n",
              "    <div class=\"colab-df-container\">\n",
              "      <div>\n",
              "<style scoped>\n",
              "    .dataframe tbody tr th:only-of-type {\n",
              "        vertical-align: middle;\n",
              "    }\n",
              "\n",
              "    .dataframe tbody tr th {\n",
              "        vertical-align: top;\n",
              "    }\n",
              "\n",
              "    .dataframe thead th {\n",
              "        text-align: right;\n",
              "    }\n",
              "</style>\n",
              "<table border=\"1\" class=\"dataframe\">\n",
              "  <thead>\n",
              "    <tr style=\"text-align: right;\">\n",
              "      <th></th>\n",
              "      <th>y_val</th>\n",
              "      <th>pred_proba</th>\n",
              "    </tr>\n",
              "  </thead>\n",
              "  <tbody>\n",
              "    <tr>\n",
              "      <th>10271</th>\n",
              "      <td>0</td>\n",
              "      <td>0.00</td>\n",
              "    </tr>\n",
              "    <tr>\n",
              "      <th>25027</th>\n",
              "      <td>0</td>\n",
              "      <td>0.00</td>\n",
              "    </tr>\n",
              "    <tr>\n",
              "      <th>37061</th>\n",
              "      <td>0</td>\n",
              "      <td>0.00</td>\n",
              "    </tr>\n",
              "    <tr>\n",
              "      <th>12209</th>\n",
              "      <td>0</td>\n",
              "      <td>0.00</td>\n",
              "    </tr>\n",
              "    <tr>\n",
              "      <th>4718</th>\n",
              "      <td>0</td>\n",
              "      <td>0.00</td>\n",
              "    </tr>\n",
              "    <tr>\n",
              "      <th>...</th>\n",
              "      <td>...</td>\n",
              "      <td>...</td>\n",
              "    </tr>\n",
              "    <tr>\n",
              "      <th>32901</th>\n",
              "      <td>0</td>\n",
              "      <td>0.27</td>\n",
              "    </tr>\n",
              "    <tr>\n",
              "      <th>39458</th>\n",
              "      <td>0</td>\n",
              "      <td>0.27</td>\n",
              "    </tr>\n",
              "    <tr>\n",
              "      <th>28620</th>\n",
              "      <td>0</td>\n",
              "      <td>0.27</td>\n",
              "    </tr>\n",
              "    <tr>\n",
              "      <th>34079</th>\n",
              "      <td>0</td>\n",
              "      <td>0.27</td>\n",
              "    </tr>\n",
              "    <tr>\n",
              "      <th>18289</th>\n",
              "      <td>0</td>\n",
              "      <td>0.27</td>\n",
              "    </tr>\n",
              "  </tbody>\n",
              "</table>\n",
              "<p>4500 rows × 2 columns</p>\n",
              "</div>\n",
              "      <button class=\"colab-df-convert\" onclick=\"convertToInteractive('df-0935a0c3-4812-4bcc-bdf6-10060b1f67fd')\"\n",
              "              title=\"Convert this dataframe to an interactive table.\"\n",
              "              style=\"display:none;\">\n",
              "        \n",
              "  <svg xmlns=\"http://www.w3.org/2000/svg\" height=\"24px\"viewBox=\"0 0 24 24\"\n",
              "       width=\"24px\">\n",
              "    <path d=\"M0 0h24v24H0V0z\" fill=\"none\"/>\n",
              "    <path d=\"M18.56 5.44l.94 2.06.94-2.06 2.06-.94-2.06-.94-.94-2.06-.94 2.06-2.06.94zm-11 1L8.5 8.5l.94-2.06 2.06-.94-2.06-.94L8.5 2.5l-.94 2.06-2.06.94zm10 10l.94 2.06.94-2.06 2.06-.94-2.06-.94-.94-2.06-.94 2.06-2.06.94z\"/><path d=\"M17.41 7.96l-1.37-1.37c-.4-.4-.92-.59-1.43-.59-.52 0-1.04.2-1.43.59L10.3 9.45l-7.72 7.72c-.78.78-.78 2.05 0 2.83L4 21.41c.39.39.9.59 1.41.59.51 0 1.02-.2 1.41-.59l7.78-7.78 2.81-2.81c.8-.78.8-2.07 0-2.86zM5.41 20L4 18.59l7.72-7.72 1.47 1.35L5.41 20z\"/>\n",
              "  </svg>\n",
              "      </button>\n",
              "      \n",
              "  <style>\n",
              "    .colab-df-container {\n",
              "      display:flex;\n",
              "      flex-wrap:wrap;\n",
              "      gap: 12px;\n",
              "    }\n",
              "\n",
              "    .colab-df-convert {\n",
              "      background-color: #E8F0FE;\n",
              "      border: none;\n",
              "      border-radius: 50%;\n",
              "      cursor: pointer;\n",
              "      display: none;\n",
              "      fill: #1967D2;\n",
              "      height: 32px;\n",
              "      padding: 0 0 0 0;\n",
              "      width: 32px;\n",
              "    }\n",
              "\n",
              "    .colab-df-convert:hover {\n",
              "      background-color: #E2EBFA;\n",
              "      box-shadow: 0px 1px 2px rgba(60, 64, 67, 0.3), 0px 1px 3px 1px rgba(60, 64, 67, 0.15);\n",
              "      fill: #174EA6;\n",
              "    }\n",
              "\n",
              "    [theme=dark] .colab-df-convert {\n",
              "      background-color: #3B4455;\n",
              "      fill: #D2E3FC;\n",
              "    }\n",
              "\n",
              "    [theme=dark] .colab-df-convert:hover {\n",
              "      background-color: #434B5C;\n",
              "      box-shadow: 0px 1px 3px 1px rgba(0, 0, 0, 0.15);\n",
              "      filter: drop-shadow(0px 1px 2px rgba(0, 0, 0, 0.3));\n",
              "      fill: #FFFFFF;\n",
              "    }\n",
              "  </style>\n",
              "\n",
              "      <script>\n",
              "        const buttonEl =\n",
              "          document.querySelector('#df-0935a0c3-4812-4bcc-bdf6-10060b1f67fd button.colab-df-convert');\n",
              "        buttonEl.style.display =\n",
              "          google.colab.kernel.accessAllowed ? 'block' : 'none';\n",
              "\n",
              "        async function convertToInteractive(key) {\n",
              "          const element = document.querySelector('#df-0935a0c3-4812-4bcc-bdf6-10060b1f67fd');\n",
              "          const dataTable =\n",
              "            await google.colab.kernel.invokeFunction('convertToInteractive',\n",
              "                                                     [key], {});\n",
              "          if (!dataTable) return;\n",
              "\n",
              "          const docLinkHtml = 'Like what you see? Visit the ' +\n",
              "            '<a target=\"_blank\" href=https://colab.research.google.com/notebooks/data_table.ipynb>data table notebook</a>'\n",
              "            + ' to learn more about interactive tables.';\n",
              "          element.innerHTML = '';\n",
              "          dataTable['output_type'] = 'display_data';\n",
              "          await google.colab.output.renderOutput(dataTable, element);\n",
              "          const docLink = document.createElement('div');\n",
              "          docLink.innerHTML = docLinkHtml;\n",
              "          element.appendChild(docLink);\n",
              "        }\n",
              "      </script>\n",
              "    </div>\n",
              "  </div>\n",
              "  "
            ]
          },
          "metadata": {},
          "execution_count": 47
        }
      ]
    },
    {
      "cell_type": "code",
      "source": [
        "vc = top['y_val'].value_counts()\n",
        "vc"
      ],
      "metadata": {
        "colab": {
          "base_uri": "https://localhost:8080/"
        },
        "id": "iKENkC5iPQ_0",
        "outputId": "a5d31377-78e0-47c7-922f-4e7d55c62fb2"
      },
      "execution_count": 49,
      "outputs": [
        {
          "output_type": "execute_result",
          "data": {
            "text/plain": [
              "0    3850\n",
              "1     650\n",
              "Name: y_val, dtype: int64"
            ]
          },
          "metadata": {},
          "execution_count": 49
        }
      ]
    },
    {
      "cell_type": "code",
      "source": [
        "final = real_positives + vc[0]\n",
        "final"
      ],
      "metadata": {
        "colab": {
          "base_uri": "https://localhost:8080/"
        },
        "id": "bLoPnl_hQBHD",
        "outputId": "b4707885-febc-4396-e60a-afbffab0f614"
      },
      "execution_count": 50,
      "outputs": [
        {
          "output_type": "execute_result",
          "data": {
            "text/plain": [
              "10222"
            ]
          },
          "metadata": {},
          "execution_count": 50
        }
      ]
    },
    {
      "cell_type": "code",
      "source": [
        "herdImmunity"
      ],
      "metadata": {
        "colab": {
          "base_uri": "https://localhost:8080/"
        },
        "id": "k8cQxFxwQHHt",
        "outputId": "0b031223-bf66-4c3d-a549-5d1068619caf"
      },
      "execution_count": 51,
      "outputs": [
        {
          "output_type": "execute_result",
          "data": {
            "text/plain": [
              "9836.4"
            ]
          },
          "metadata": {},
          "execution_count": 51
        }
      ]
    },
    {
      "cell_type": "code",
      "source": [
        "final > herdImmunity"
      ],
      "metadata": {
        "colab": {
          "base_uri": "https://localhost:8080/"
        },
        "id": "veoKAXHfQI1e",
        "outputId": "718be240-14b9-4456-a6ed-9a0980175a82"
      },
      "execution_count": 52,
      "outputs": [
        {
          "output_type": "execute_result",
          "data": {
            "text/plain": [
              "True"
            ]
          },
          "metadata": {},
          "execution_count": 52
        }
      ]
    },
    {
      "cell_type": "code",
      "source": [
        "vc_rand = pred_proba[pred_proba['pred_proba']<0.5].sample(4500, random_state=2)['y_val'].value_counts()\n",
        "vc_rand"
      ],
      "metadata": {
        "colab": {
          "base_uri": "https://localhost:8080/"
        },
        "id": "-NNpGMlbQK3L",
        "outputId": "a5a473e8-01ad-41b9-a73e-9b7c3687fbc7"
      },
      "execution_count": 53,
      "outputs": [
        {
          "output_type": "execute_result",
          "data": {
            "text/plain": [
              "0    3455\n",
              "1    1045\n",
              "Name: y_val, dtype: int64"
            ]
          },
          "metadata": {},
          "execution_count": 53
        }
      ]
    },
    {
      "cell_type": "code",
      "source": [
        "final_rand = real_positives + vc_rand[0]\n",
        "final_rand"
      ],
      "metadata": {
        "colab": {
          "base_uri": "https://localhost:8080/"
        },
        "id": "9PaYYOQoQa31",
        "outputId": "deeed27e-8dac-47b3-eeb7-df8f2c5f3c64"
      },
      "execution_count": 55,
      "outputs": [
        {
          "output_type": "execute_result",
          "data": {
            "text/plain": [
              "9827"
            ]
          },
          "metadata": {},
          "execution_count": 55
        }
      ]
    },
    {
      "cell_type": "code",
      "source": [
        "final_rand > herdImmunity"
      ],
      "metadata": {
        "colab": {
          "base_uri": "https://localhost:8080/"
        },
        "id": "AtSWqWHCQh-k",
        "outputId": "ac75afc4-7b0c-46e8-87d5-94103e93bfb9"
      },
      "execution_count": 56,
      "outputs": [
        {
          "output_type": "execute_result",
          "data": {
            "text/plain": [
              "False"
            ]
          },
          "metadata": {},
          "execution_count": 56
        }
      ]
    },
    {
      "cell_type": "code",
      "source": [
        "from sklearn.metrics import roc_curve\n",
        "\n",
        "fpr, tpr, thresholds = roc_curve(y_val, y_pred_proba)\n",
        "\n",
        "roc = pd.DataFrame({\n",
        "    'FPR(Fall-out)':fpr,\n",
        "    'TPRate(Recall)':tpr,\n",
        "    'Threshold':thresholds\n",
        "})\n",
        "roc"
      ],
      "metadata": {
        "colab": {
          "base_uri": "https://localhost:8080/",
          "height": 424
        },
        "id": "2HhgZnNtQnd8",
        "outputId": "7dce4bb7-0a29-4fa1-fe03-96ce3fb631a4"
      },
      "execution_count": 57,
      "outputs": [
        {
          "output_type": "execute_result",
          "data": {
            "text/plain": [
              "     FPR(Fall-out)  TPRate(Recall)  Threshold\n",
              "0         0.000000        0.000000     2.0000\n",
              "1         0.000130        0.003766     1.0000\n",
              "2         0.000391        0.009416     0.9900\n",
              "3         0.000391        0.009730     0.9850\n",
              "4         0.001042        0.016478     0.9800\n",
              "..             ...             ...        ...\n",
              "526       0.995182        0.999215     0.0200\n",
              "527       0.995313        0.999215     0.0140\n",
              "528       0.995703        0.999215     0.0125\n",
              "529       0.999089        1.000000     0.0100\n",
              "530       1.000000        1.000000     0.0000\n",
              "\n",
              "[531 rows x 3 columns]"
            ],
            "text/html": [
              "\n",
              "  <div id=\"df-608e0bb6-ab42-46ea-bcac-110a48a63589\">\n",
              "    <div class=\"colab-df-container\">\n",
              "      <div>\n",
              "<style scoped>\n",
              "    .dataframe tbody tr th:only-of-type {\n",
              "        vertical-align: middle;\n",
              "    }\n",
              "\n",
              "    .dataframe tbody tr th {\n",
              "        vertical-align: top;\n",
              "    }\n",
              "\n",
              "    .dataframe thead th {\n",
              "        text-align: right;\n",
              "    }\n",
              "</style>\n",
              "<table border=\"1\" class=\"dataframe\">\n",
              "  <thead>\n",
              "    <tr style=\"text-align: right;\">\n",
              "      <th></th>\n",
              "      <th>FPR(Fall-out)</th>\n",
              "      <th>TPRate(Recall)</th>\n",
              "      <th>Threshold</th>\n",
              "    </tr>\n",
              "  </thead>\n",
              "  <tbody>\n",
              "    <tr>\n",
              "      <th>0</th>\n",
              "      <td>0.000000</td>\n",
              "      <td>0.000000</td>\n",
              "      <td>2.0000</td>\n",
              "    </tr>\n",
              "    <tr>\n",
              "      <th>1</th>\n",
              "      <td>0.000130</td>\n",
              "      <td>0.003766</td>\n",
              "      <td>1.0000</td>\n",
              "    </tr>\n",
              "    <tr>\n",
              "      <th>2</th>\n",
              "      <td>0.000391</td>\n",
              "      <td>0.009416</td>\n",
              "      <td>0.9900</td>\n",
              "    </tr>\n",
              "    <tr>\n",
              "      <th>3</th>\n",
              "      <td>0.000391</td>\n",
              "      <td>0.009730</td>\n",
              "      <td>0.9850</td>\n",
              "    </tr>\n",
              "    <tr>\n",
              "      <th>4</th>\n",
              "      <td>0.001042</td>\n",
              "      <td>0.016478</td>\n",
              "      <td>0.9800</td>\n",
              "    </tr>\n",
              "    <tr>\n",
              "      <th>...</th>\n",
              "      <td>...</td>\n",
              "      <td>...</td>\n",
              "      <td>...</td>\n",
              "    </tr>\n",
              "    <tr>\n",
              "      <th>526</th>\n",
              "      <td>0.995182</td>\n",
              "      <td>0.999215</td>\n",
              "      <td>0.0200</td>\n",
              "    </tr>\n",
              "    <tr>\n",
              "      <th>527</th>\n",
              "      <td>0.995313</td>\n",
              "      <td>0.999215</td>\n",
              "      <td>0.0140</td>\n",
              "    </tr>\n",
              "    <tr>\n",
              "      <th>528</th>\n",
              "      <td>0.995703</td>\n",
              "      <td>0.999215</td>\n",
              "      <td>0.0125</td>\n",
              "    </tr>\n",
              "    <tr>\n",
              "      <th>529</th>\n",
              "      <td>0.999089</td>\n",
              "      <td>1.000000</td>\n",
              "      <td>0.0100</td>\n",
              "    </tr>\n",
              "    <tr>\n",
              "      <th>530</th>\n",
              "      <td>1.000000</td>\n",
              "      <td>1.000000</td>\n",
              "      <td>0.0000</td>\n",
              "    </tr>\n",
              "  </tbody>\n",
              "</table>\n",
              "<p>531 rows × 3 columns</p>\n",
              "</div>\n",
              "      <button class=\"colab-df-convert\" onclick=\"convertToInteractive('df-608e0bb6-ab42-46ea-bcac-110a48a63589')\"\n",
              "              title=\"Convert this dataframe to an interactive table.\"\n",
              "              style=\"display:none;\">\n",
              "        \n",
              "  <svg xmlns=\"http://www.w3.org/2000/svg\" height=\"24px\"viewBox=\"0 0 24 24\"\n",
              "       width=\"24px\">\n",
              "    <path d=\"M0 0h24v24H0V0z\" fill=\"none\"/>\n",
              "    <path d=\"M18.56 5.44l.94 2.06.94-2.06 2.06-.94-2.06-.94-.94-2.06-.94 2.06-2.06.94zm-11 1L8.5 8.5l.94-2.06 2.06-.94-2.06-.94L8.5 2.5l-.94 2.06-2.06.94zm10 10l.94 2.06.94-2.06 2.06-.94-2.06-.94-.94-2.06-.94 2.06-2.06.94z\"/><path d=\"M17.41 7.96l-1.37-1.37c-.4-.4-.92-.59-1.43-.59-.52 0-1.04.2-1.43.59L10.3 9.45l-7.72 7.72c-.78.78-.78 2.05 0 2.83L4 21.41c.39.39.9.59 1.41.59.51 0 1.02-.2 1.41-.59l7.78-7.78 2.81-2.81c.8-.78.8-2.07 0-2.86zM5.41 20L4 18.59l7.72-7.72 1.47 1.35L5.41 20z\"/>\n",
              "  </svg>\n",
              "      </button>\n",
              "      \n",
              "  <style>\n",
              "    .colab-df-container {\n",
              "      display:flex;\n",
              "      flex-wrap:wrap;\n",
              "      gap: 12px;\n",
              "    }\n",
              "\n",
              "    .colab-df-convert {\n",
              "      background-color: #E8F0FE;\n",
              "      border: none;\n",
              "      border-radius: 50%;\n",
              "      cursor: pointer;\n",
              "      display: none;\n",
              "      fill: #1967D2;\n",
              "      height: 32px;\n",
              "      padding: 0 0 0 0;\n",
              "      width: 32px;\n",
              "    }\n",
              "\n",
              "    .colab-df-convert:hover {\n",
              "      background-color: #E2EBFA;\n",
              "      box-shadow: 0px 1px 2px rgba(60, 64, 67, 0.3), 0px 1px 3px 1px rgba(60, 64, 67, 0.15);\n",
              "      fill: #174EA6;\n",
              "    }\n",
              "\n",
              "    [theme=dark] .colab-df-convert {\n",
              "      background-color: #3B4455;\n",
              "      fill: #D2E3FC;\n",
              "    }\n",
              "\n",
              "    [theme=dark] .colab-df-convert:hover {\n",
              "      background-color: #434B5C;\n",
              "      box-shadow: 0px 1px 3px 1px rgba(0, 0, 0, 0.15);\n",
              "      filter: drop-shadow(0px 1px 2px rgba(0, 0, 0, 0.3));\n",
              "      fill: #FFFFFF;\n",
              "    }\n",
              "  </style>\n",
              "\n",
              "      <script>\n",
              "        const buttonEl =\n",
              "          document.querySelector('#df-608e0bb6-ab42-46ea-bcac-110a48a63589 button.colab-df-convert');\n",
              "        buttonEl.style.display =\n",
              "          google.colab.kernel.accessAllowed ? 'block' : 'none';\n",
              "\n",
              "        async function convertToInteractive(key) {\n",
              "          const element = document.querySelector('#df-608e0bb6-ab42-46ea-bcac-110a48a63589');\n",
              "          const dataTable =\n",
              "            await google.colab.kernel.invokeFunction('convertToInteractive',\n",
              "                                                     [key], {});\n",
              "          if (!dataTable) return;\n",
              "\n",
              "          const docLinkHtml = 'Like what you see? Visit the ' +\n",
              "            '<a target=\"_blank\" href=https://colab.research.google.com/notebooks/data_table.ipynb>data table notebook</a>'\n",
              "            + ' to learn more about interactive tables.';\n",
              "          element.innerHTML = '';\n",
              "          dataTable['output_type'] = 'display_data';\n",
              "          await google.colab.output.renderOutput(dataTable, element);\n",
              "          const docLink = document.createElement('div');\n",
              "          docLink.innerHTML = docLinkHtml;\n",
              "          element.appendChild(docLink);\n",
              "        }\n",
              "      </script>\n",
              "    </div>\n",
              "  </div>\n",
              "  "
            ]
          },
          "metadata": {},
          "execution_count": 57
        }
      ]
    },
    {
      "cell_type": "code",
      "source": [
        "plt.scatter(fpr,tpr)\n",
        "plt.title('ROC curve')\n",
        "plt.xlabel('FPR(Fall-out)')\n",
        "plt.ylabel('TPR(Recall)')"
      ],
      "metadata": {
        "colab": {
          "base_uri": "https://localhost:8080/",
          "height": 313
        },
        "id": "0aN5EnLfRhhT",
        "outputId": "5c2d7cb5-db94-45f2-8a3b-44ab2a404d9a"
      },
      "execution_count": 58,
      "outputs": [
        {
          "output_type": "execute_result",
          "data": {
            "text/plain": [
              "Text(0, 0.5, 'TPR(Recall)')"
            ]
          },
          "metadata": {},
          "execution_count": 58
        },
        {
          "output_type": "display_data",
          "data": {
            "text/plain": [
              "<Figure size 432x288 with 1 Axes>"
            ],
            "image/png": "[encoded data removed]"
          },
          "metadata": {
            "needs_background": "light"
          }
        }
      ]
    },
    {
      "cell_type": "code",
      "source": [
        "optimal_idx = np.argmax(tpr - fpr)\n",
        "optimal_threshold = thresholds[optimal_idx]\n",
        "\n",
        "print('idx:',optimal_idx, ', threshold:', optimal_threshold)"
      ],
      "metadata": {
        "colab": {
          "base_uri": "https://localhost:8080/"
        },
        "id": "xxROubrbRt-l",
        "outputId": "36a802d1-0d0e-4515-94a0-e465bfe73ead"
      },
      "execution_count": 59,
      "outputs": [
        {
          "output_type": "stream",
          "name": "stdout",
          "text": [
            "idx: 256 , threshold: 0.4633333333333334\n"
          ]
        }
      ]
    },
    {
      "cell_type": "code",
      "source": [
        "plt.plot(tpr-fpr);"
      ],
      "metadata": {
        "colab": {
          "base_uri": "https://localhost:8080/",
          "height": 265
        },
        "id": "ugG19Vs3SXWK",
        "outputId": "cfc8f12d-94cb-4de0-eb60-1538ee235029"
      },
      "execution_count": 60,
      "outputs": [
        {
          "output_type": "display_data",
          "data": {
            "text/plain": [
              "<Figure size 432x288 with 1 Axes>"
            ],
            "image/png": "[encoded data removed]"
          },
          "metadata": {
            "needs_background": "light"
          }
        }
      ]
    },
    {
      "cell_type": "code",
      "source": [
        "y_pred_optimal = y_pred_proba >= optimal_threshold\n",
        "print(classification_report(y_val, y_pred_optimal))"
      ],
      "metadata": {
        "colab": {
          "base_uri": "https://localhost:8080/"
        },
        "id": "65hP9h3JSjxA",
        "outputId": "309c1f6e-42a9-4016-c03b-62932b3ae335"
      },
      "execution_count": 61,
      "outputs": [
        {
          "output_type": "stream",
          "name": "stdout",
          "text": [
            "              precision    recall  f1-score   support\n",
            "\n",
            "           0       0.78      0.77      0.77      7680\n",
            "           1       0.73      0.74      0.73      6372\n",
            "\n",
            "    accuracy                           0.75     14052\n",
            "   macro avg       0.75      0.75      0.75     14052\n",
            "weighted avg       0.75      0.75      0.75     14052\n",
            "\n"
          ]
        }
      ]
    },
    {
      "cell_type": "code",
      "source": [
        "y_pred_optimal"
      ],
      "metadata": {
        "colab": {
          "base_uri": "https://localhost:8080/"
        },
        "id": "uZuULVbbSv47",
        "outputId": "90c092fa-1f03-4121-cff9-816cdd1859d0"
      },
      "execution_count": 62,
      "outputs": [
        {
          "output_type": "execute_result",
          "data": {
            "text/plain": [
              "array([ True, False, False, ...,  True,  True, False])"
            ]
          },
          "metadata": {},
          "execution_count": 62
        }
      ]
    },
    {
      "cell_type": "code",
      "source": [
        "y_pred_05 = y_pred_proba >= 0.5\n",
        "print(classification_report(y_val, y_pred_05))"
      ],
      "metadata": {
        "colab": {
          "base_uri": "https://localhost:8080/"
        },
        "id": "RwAZ5bpDSzc9",
        "outputId": "87887410-00bc-4897-ead0-d8ba6e2fec57"
      },
      "execution_count": 63,
      "outputs": [
        {
          "output_type": "stream",
          "name": "stdout",
          "text": [
            "              precision    recall  f1-score   support\n",
            "\n",
            "           0       0.77      0.80      0.78      7680\n",
            "           1       0.74      0.71      0.72      6372\n",
            "\n",
            "    accuracy                           0.76     14052\n",
            "   macro avg       0.75      0.75      0.75     14052\n",
            "weighted avg       0.75      0.76      0.75     14052\n",
            "\n"
          ]
        }
      ]
    },
    {
      "cell_type": "code",
      "source": [
        "from sklearn.metrics import roc_auc_score\n",
        "auc_score = roc_auc_score(y_val, y_pred_proba)\n",
        "auc_score"
      ],
      "metadata": {
        "colab": {
          "base_uri": "https://localhost:8080/"
        },
        "id": "EdbdZE9jS8og",
        "outputId": "c2f54317-89df-4d4b-e4d9-825b42eaffae"
      },
      "execution_count": 64,
      "outputs": [
        {
          "output_type": "execute_result",
          "data": {
            "text/plain": [
              "0.8187195322308537"
            ]
          },
          "metadata": {},
          "execution_count": 64
        }
      ]
    },
    {
      "cell_type": "code",
      "source": [
        ""
      ],
      "metadata": {
        "id": "gNaZ0Pr7TJMK"
      },
      "execution_count": null,
      "outputs": []
    }
  ]
}