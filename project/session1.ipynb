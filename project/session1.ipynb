{
 "cells": [
  {
   "cell_type": "markdown",
   "metadata": {},
   "source": [
    "**prerequisite**\n",
    "1. 지역에 따라서 선호하는 게임 장르가 다를까?\n",
    "2. 연도별 게임의 트렌드가 있을까?\n",
    "3. 출고량이 높은 게임에 대한 분석 및 시각화 프로세스\n",
    "\n",
    "**Goal**\n",
    "- 목표 : 다음 분기에 어떤 게임을 설계해야 할까?\n",
    "- 대상자 : 비데이터 직군"
   ]
  },
  {
   "cell_type": "markdown",
   "metadata": {},
   "source": [
    "**Columns**\n",
    "Name : 게임의 이름입니다.\n",
    "Platform : 게임이 지원되는 플랫폼의 이름입니다.\n",
    "Year : 게임이 출시된 연도입니다.\n",
    "Genre : 게임의 장르입니다.\n",
    "Publisher : 게임을 제작한 회사입니다.\n",
    "NA_Sales : 북미지역에서의 출고량입니다.\n",
    "EU_Sales : 유럽지역에서의 출고량입니다.\n",
    "JP_Sales : 일본지역에서의 출고량입니다.\n",
    "Other_Sales : 기타지역에서의 출고량입니다."
   ]
  },
  {
   "cell_type": "code",
   "execution_count": 75,
   "metadata": {},
   "outputs": [
    {
     "data": {
      "text/html": [
       "<div>\n",
       "<style scoped>\n",
       "    .dataframe tbody tr th:only-of-type {\n",
       "        vertical-align: middle;\n",
       "    }\n",
       "\n",
       "    .dataframe tbody tr th {\n",
       "        vertical-align: top;\n",
       "    }\n",
       "\n",
       "    .dataframe thead th {\n",
       "        text-align: right;\n",
       "    }\n",
       "</style>\n",
       "<table border=\"1\" class=\"dataframe\">\n",
       "  <thead>\n",
       "    <tr style=\"text-align: right;\">\n",
       "      <th></th>\n",
       "      <th>Name</th>\n",
       "      <th>Platform</th>\n",
       "      <th>Year</th>\n",
       "      <th>Genre</th>\n",
       "      <th>Publisher</th>\n",
       "      <th>NA_Sales</th>\n",
       "      <th>EU_Sales</th>\n",
       "      <th>JP_Sales</th>\n",
       "      <th>Other_Sales</th>\n",
       "    </tr>\n",
       "  </thead>\n",
       "  <tbody>\n",
       "    <tr>\n",
       "      <th>1</th>\n",
       "      <td>Candace Kane's Candy Factory</td>\n",
       "      <td>DS</td>\n",
       "      <td>2008</td>\n",
       "      <td>Action</td>\n",
       "      <td>Destineer</td>\n",
       "      <td>0.04</td>\n",
       "      <td>0</td>\n",
       "      <td>0</td>\n",
       "      <td>0</td>\n",
       "    </tr>\n",
       "    <tr>\n",
       "      <th>2</th>\n",
       "      <td>The Munchables</td>\n",
       "      <td>Wii</td>\n",
       "      <td>2009</td>\n",
       "      <td>Action</td>\n",
       "      <td>Namco Bandai Games</td>\n",
       "      <td>0.17</td>\n",
       "      <td>0</td>\n",
       "      <td>0</td>\n",
       "      <td>0.01</td>\n",
       "    </tr>\n",
       "    <tr>\n",
       "      <th>3</th>\n",
       "      <td>Otome wa Oanesama Boku ni Koi Shiteru Portable</td>\n",
       "      <td>PSP</td>\n",
       "      <td>2010</td>\n",
       "      <td>Adventure</td>\n",
       "      <td>Alchemist</td>\n",
       "      <td>0</td>\n",
       "      <td>0</td>\n",
       "      <td>0.02</td>\n",
       "      <td>0</td>\n",
       "    </tr>\n",
       "    <tr>\n",
       "      <th>4</th>\n",
       "      <td>Deal or No Deal: Special Edition</td>\n",
       "      <td>DS</td>\n",
       "      <td>2010</td>\n",
       "      <td>Misc</td>\n",
       "      <td>Zoo Games</td>\n",
       "      <td>0.04</td>\n",
       "      <td>0</td>\n",
       "      <td>0</td>\n",
       "      <td>0</td>\n",
       "    </tr>\n",
       "    <tr>\n",
       "      <th>5</th>\n",
       "      <td>Ben 10 Ultimate Alien: Cosmic Destruction</td>\n",
       "      <td>PS3</td>\n",
       "      <td>2010</td>\n",
       "      <td>Platform</td>\n",
       "      <td>D3Publisher</td>\n",
       "      <td>0.12</td>\n",
       "      <td>0.09</td>\n",
       "      <td>0</td>\n",
       "      <td>0.04</td>\n",
       "    </tr>\n",
       "  </tbody>\n",
       "</table>\n",
       "</div>"
      ],
      "text/plain": [
       "                                             Name Platform  Year      Genre  \\\n",
       "1                    Candace Kane's Candy Factory       DS  2008     Action   \n",
       "2                                  The Munchables      Wii  2009     Action   \n",
       "3  Otome wa Oanesama Boku ni Koi Shiteru Portable      PSP  2010  Adventure   \n",
       "4                Deal or No Deal: Special Edition       DS  2010       Misc   \n",
       "5       Ben 10 Ultimate Alien: Cosmic Destruction      PS3  2010   Platform   \n",
       "\n",
       "            Publisher NA_Sales EU_Sales JP_Sales Other_Sales  \n",
       "1           Destineer     0.04        0        0           0  \n",
       "2  Namco Bandai Games     0.17        0        0        0.01  \n",
       "3           Alchemist        0        0     0.02           0  \n",
       "4           Zoo Games     0.04        0        0           0  \n",
       "5         D3Publisher     0.12     0.09        0        0.04  "
      ]
     },
     "execution_count": 75,
     "metadata": {},
     "output_type": "execute_result"
    }
   ],
   "source": [
    "import pandas as pd\n",
    "import matplotlib.pyplot as plt\n",
    "import numpy as np\n",
    "import seaborn as sns\n",
    "from sklearn.decomposition import PCA\n",
    "from sklearn.preprocessing import StandardScaler\n",
    "from sklearn.cluster import *\n",
    "\n",
    "url = 'https://ds-lecture-data.s3.ap-northeast-2.amazonaws.com/datasets/vgames2.csv'\n",
    "df = pd.read_csv(url, parse_dates=['Year'], index_col=0)\n",
    "df.head()"
   ]
  },
  {
   "cell_type": "markdown",
   "metadata": {},
   "source": [
    "**데이터 타입 확인 및 변경**\n",
    "1. Object : Name, Platform, Genre, Publisher\n",
    "2. Date(%Y) : Year\n",
    "3. Float : NA_Sales, EU_Sales, JP_Sales, Other_Sales\n",
    "\n",
    "(Null값 존재 시, 처리 후 변경 필요)\n",
    "\n",
    "Year / Genre / Publisher Null값 존재"
   ]
  },
  {
   "cell_type": "code",
   "execution_count": 76,
   "metadata": {},
   "outputs": [
    {
     "name": "stdout",
     "output_type": "stream",
     "text": [
      "<class 'pandas.core.frame.DataFrame'>\n",
      "Int64Index: 16598 entries, 1 to 16598\n",
      "Data columns (total 9 columns):\n",
      " #   Column       Non-Null Count  Dtype \n",
      "---  ------       --------------  ----- \n",
      " 0   Name         16598 non-null  object\n",
      " 1   Platform     16598 non-null  object\n",
      " 2   Year         16327 non-null  object\n",
      " 3   Genre        16548 non-null  object\n",
      " 4   Publisher    16540 non-null  object\n",
      " 5   NA_Sales     16598 non-null  object\n",
      " 6   EU_Sales     16598 non-null  object\n",
      " 7   JP_Sales     16598 non-null  object\n",
      " 8   Other_Sales  16598 non-null  object\n",
      "dtypes: object(9)\n",
      "memory usage: 1.3+ MB\n"
     ]
    }
   ],
   "source": [
    "df.info()"
   ]
  },
  {
   "cell_type": "code",
   "execution_count": 77,
   "metadata": {},
   "outputs": [
    {
     "data": {
      "text/plain": [
       "False    15813\n",
       "True       785\n",
       "dtype: int64"
      ]
     },
     "execution_count": 77,
     "metadata": {},
     "output_type": "execute_result"
    }
   ],
   "source": [
    "# Sales Data 타입 변경\n",
    "# - Null값이 없음\n",
    "# - 문자열 존재 가능성 높음\n",
    "target_columns = df.columns[5:9]\n",
    "chr_check = pd.DataFrame()\n",
    "\n",
    "for col in target_columns:\n",
    "    chr_check[col] = df[col].str.contains('[a-zA-Z]+')\n",
    "\n",
    "chr_check.any(axis=1).value_counts()"
   ]
  },
  {
   "cell_type": "code",
   "execution_count": 78,
   "metadata": {},
   "outputs": [
    {
     "name": "stdout",
     "output_type": "stream",
     "text": [
      "[nan 'K' 'M']\n",
      "[nan 'M' 'K']\n",
      "[nan 'K' 'M']\n",
      "[nan 'M' 'K']\n"
     ]
    }
   ],
   "source": [
    "temp = pd.DataFrame()\n",
    "for col in target_columns:\n",
    "    temp[col] = df[col].str.extract(r'([a-zA-Z]+)')\n",
    "    print(temp[col].unique())"
   ]
  },
  {
   "cell_type": "code",
   "execution_count": 79,
   "metadata": {},
   "outputs": [
    {
     "name": "stdout",
     "output_type": "stream",
     "text": [
      "<class 'pandas.core.frame.DataFrame'>\n",
      "Int64Index: 16598 entries, 1 to 16598\n",
      "Data columns (total 9 columns):\n",
      " #   Column       Non-Null Count  Dtype  \n",
      "---  ------       --------------  -----  \n",
      " 0   Name         16598 non-null  object \n",
      " 1   Platform     16598 non-null  object \n",
      " 2   Year         16327 non-null  object \n",
      " 3   Genre        16548 non-null  object \n",
      " 4   Publisher    16540 non-null  object \n",
      " 5   NA_Sales     16598 non-null  float64\n",
      " 6   EU_Sales     16598 non-null  float64\n",
      " 7   JP_Sales     16598 non-null  float64\n",
      " 8   Other_Sales  16598 non-null  float64\n",
      "dtypes: float64(4), object(5)\n",
      "memory usage: 1.3+ MB\n"
     ]
    }
   ],
   "source": [
    "# 문자열 K, M만 있다는 것을 확인\n",
    "# K는 10^3으로 M은 10^6으로 변경\n",
    "for col in target_columns:\n",
    "    df[col] = df[col].replace({'K':'*1e3','M':'*1e6'}, regex=True).map(pd.eval).astype(float)\n",
    "\n",
    "df.info()"
   ]
  },
  {
   "cell_type": "markdown",
   "metadata": {},
   "source": [
    "**2. 데이터 결측치 처리**\n",
    "1. Year \n",
    "2. Publisher [프로젝트 목적에 필요 없기 때문에 처리 가능]\n",
    "3. Genre \n",
    "\n",
    "- 결측치 데이터는 나중에 활용할 가능성이 있으니 따로 저장해둠 \n",
    "- Table : missing_table\n"
   ]
  },
  {
   "cell_type": "code",
   "execution_count": 80,
   "metadata": {},
   "outputs": [
    {
     "data": {
      "text/plain": [
       "Year           271\n",
       "Publisher       58\n",
       "Genre           50\n",
       "Name             0\n",
       "Platform         0\n",
       "NA_Sales         0\n",
       "EU_Sales         0\n",
       "JP_Sales         0\n",
       "Other_Sales      0\n",
       "dtype: int64"
      ]
     },
     "execution_count": 80,
     "metadata": {},
     "output_type": "execute_result"
    }
   ],
   "source": [
    "missing = df.isnull().sum().sort_values(ascending = 0)\n",
    "missing"
   ]
  },
  {
   "cell_type": "code",
   "execution_count": 81,
   "metadata": {},
   "outputs": [],
   "source": [
    "# 결측치 데이터 따로 저장\n",
    "cond1 = df['Year'].isna() == True\n",
    "cond2 = df['Publisher'].isna() == True\n",
    "cond3 = df['Genre'].isna() == True\n",
    "missing_table = df[ cond1 | cond2 | cond3 ]"
   ]
  },
  {
   "cell_type": "code",
   "execution_count": 82,
   "metadata": {},
   "outputs": [],
   "source": [
    "# Publisher Null Data 처리\n",
    "df['Publisher'].fillna('Unknown', inplace=True)"
   ]
  },
  {
   "cell_type": "code",
   "execution_count": null,
   "metadata": {},
   "outputs": [],
   "source": [
    "# Genre Null Data 처리\n"
   ]
  },
  {
   "cell_type": "code",
   "execution_count": null,
   "metadata": {},
   "outputs": [],
   "source": [
    "# Year Null Data 처리\n"
   ]
  },
  {
   "cell_type": "code",
   "execution_count": null,
   "metadata": {},
   "outputs": [],
   "source": [
    "# Year 자리 수 처리\n"
   ]
  },
  {
   "cell_type": "code",
   "execution_count": 89,
   "metadata": {},
   "outputs": [],
   "source": [
    "# 일단 진행 하기 위해 null값 제거 하고 진행\n",
    "df.dropna(inplace=True)"
   ]
  },
  {
   "cell_type": "code",
   "execution_count": 90,
   "metadata": {},
   "outputs": [
    {
     "data": {
      "text/plain": [
       "Name           0\n",
       "Platform       0\n",
       "Year           0\n",
       "Genre          0\n",
       "Publisher      0\n",
       "NA_Sales       0\n",
       "EU_Sales       0\n",
       "JP_Sales       0\n",
       "Other_Sales    0\n",
       "dtype: int64"
      ]
     },
     "execution_count": 90,
     "metadata": {},
     "output_type": "execute_result"
    }
   ],
   "source": [
    "df.isnull().sum()"
   ]
  },
  {
   "cell_type": "markdown",
   "metadata": {},
   "source": [
    "**지역에 따라서 선호하는 게임 장르가 다를까?**\n",
    "\n",
    "H0 = 지역과 게임 장르 사이 상관관계가 없다.\n",
    "H1 = 지역과 게임 장르 사이 상관관계가 있다.\n",
    "\n",
    "- 위와 같은 가설 검증을 위해 Chisquare를 이용한다.\n",
    "- H1 채택시 국가별 장르 선호도를 확인 해본다."
   ]
  },
  {
   "cell_type": "code",
   "execution_count": 215,
   "metadata": {},
   "outputs": [
    {
     "data": {
      "text/html": [
       "<div>\n",
       "<style scoped>\n",
       "    .dataframe tbody tr th:only-of-type {\n",
       "        vertical-align: middle;\n",
       "    }\n",
       "\n",
       "    .dataframe tbody tr th {\n",
       "        vertical-align: top;\n",
       "    }\n",
       "\n",
       "    .dataframe thead th {\n",
       "        text-align: right;\n",
       "    }\n",
       "</style>\n",
       "<table border=\"1\" class=\"dataframe\">\n",
       "  <thead>\n",
       "    <tr style=\"text-align: right;\">\n",
       "      <th></th>\n",
       "      <th>NA_Sales</th>\n",
       "      <th>EU_Sales</th>\n",
       "      <th>JP_Sales</th>\n",
       "      <th>Other_Sales</th>\n",
       "    </tr>\n",
       "    <tr>\n",
       "      <th>Genre</th>\n",
       "      <th></th>\n",
       "      <th></th>\n",
       "      <th></th>\n",
       "      <th></th>\n",
       "    </tr>\n",
       "  </thead>\n",
       "  <tbody>\n",
       "    <tr>\n",
       "      <th>Action</th>\n",
       "      <td>21470837.31</td>\n",
       "      <td>7030506.61</td>\n",
       "      <td>1440155.17</td>\n",
       "      <td>1340182.65</td>\n",
       "    </tr>\n",
       "    <tr>\n",
       "      <th>Adventure</th>\n",
       "      <td>760101.16</td>\n",
       "      <td>190063.52</td>\n",
       "      <td>80051.81</td>\n",
       "      <td>280016.42</td>\n",
       "    </tr>\n",
       "    <tr>\n",
       "      <th>Fighting</th>\n",
       "      <td>1360218.99</td>\n",
       "      <td>1420098.48</td>\n",
       "      <td>1340085.80</td>\n",
       "      <td>500035.65</td>\n",
       "    </tr>\n",
       "    <tr>\n",
       "      <th>Misc</th>\n",
       "      <td>4090396.20</td>\n",
       "      <td>2820207.38</td>\n",
       "      <td>420103.76</td>\n",
       "      <td>460072.28</td>\n",
       "    </tr>\n",
       "    <tr>\n",
       "      <th>Platform</th>\n",
       "      <td>5220440.16</td>\n",
       "      <td>7620193.03</td>\n",
       "      <td>790129.74</td>\n",
       "      <td>480050.97</td>\n",
       "    </tr>\n",
       "    <tr>\n",
       "      <th>Puzzle</th>\n",
       "      <td>80121.50</td>\n",
       "      <td>410050.07</td>\n",
       "      <td>56.24</td>\n",
       "      <td>50012.39</td>\n",
       "    </tr>\n",
       "    <tr>\n",
       "      <th>Racing</th>\n",
       "      <td>11950342.75</td>\n",
       "      <td>2040232.99</td>\n",
       "      <td>280056.04</td>\n",
       "      <td>420076.09</td>\n",
       "    </tr>\n",
       "    <tr>\n",
       "      <th>Role-Playing</th>\n",
       "      <td>1600317.16</td>\n",
       "      <td>1610181.49</td>\n",
       "      <td>11780331.15</td>\n",
       "      <td>1620055.11</td>\n",
       "    </tr>\n",
       "    <tr>\n",
       "      <th>Shooter</th>\n",
       "      <td>12430562.05</td>\n",
       "      <td>6120304.11</td>\n",
       "      <td>60038.12</td>\n",
       "      <td>740101.12</td>\n",
       "    </tr>\n",
       "    <tr>\n",
       "      <th>Simulation</th>\n",
       "      <td>3240178.19</td>\n",
       "      <td>1110112.06</td>\n",
       "      <td>1280062.26</td>\n",
       "      <td>70031.25</td>\n",
       "    </tr>\n",
       "    <tr>\n",
       "      <th>Sports</th>\n",
       "      <td>11340655.92</td>\n",
       "      <td>3840367.13</td>\n",
       "      <td>1450133.31</td>\n",
       "      <td>1160131.19</td>\n",
       "    </tr>\n",
       "    <tr>\n",
       "      <th>Strategy</th>\n",
       "      <td>1050066.84</td>\n",
       "      <td>120044.80</td>\n",
       "      <td>1040048.06</td>\n",
       "      <td>310010.92</td>\n",
       "    </tr>\n",
       "  </tbody>\n",
       "</table>\n",
       "</div>"
      ],
      "text/plain": [
       "                 NA_Sales    EU_Sales     JP_Sales  Other_Sales\n",
       "Genre                                                          \n",
       "Action        21470837.31  7030506.61   1440155.17   1340182.65\n",
       "Adventure       760101.16   190063.52     80051.81    280016.42\n",
       "Fighting       1360218.99  1420098.48   1340085.80    500035.65\n",
       "Misc           4090396.20  2820207.38    420103.76    460072.28\n",
       "Platform       5220440.16  7620193.03    790129.74    480050.97\n",
       "Puzzle           80121.50   410050.07        56.24     50012.39\n",
       "Racing        11950342.75  2040232.99    280056.04    420076.09\n",
       "Role-Playing   1600317.16  1610181.49  11780331.15   1620055.11\n",
       "Shooter       12430562.05  6120304.11     60038.12    740101.12\n",
       "Simulation     3240178.19  1110112.06   1280062.26     70031.25\n",
       "Sports        11340655.92  3840367.13   1450133.31   1160131.19\n",
       "Strategy       1050066.84   120044.80   1040048.06    310010.92"
      ]
     },
     "execution_count": 215,
     "metadata": {},
     "output_type": "execute_result"
    }
   ],
   "source": [
    "p1_table = df.loc[:,['Genre','NA_Sales','EU_Sales','JP_Sales','Other_Sales']]\n",
    "\n",
    "grouped_p1 = p1_table.groupby('Genre')\n",
    "# grouped_p1.reset_index(inplace=True)\n",
    "marketsize =  grouped_p1.sum()\n",
    "marketsize"
   ]
  },
  {
   "cell_type": "code",
   "execution_count": 216,
   "metadata": {},
   "outputs": [
    {
     "name": "stdout",
     "output_type": "stream",
     "text": [
      "Test Statistic: 49258.8781647331\n",
      "p-value: 0.0\n",
      "Degree of Freedom: 33\n"
     ]
    }
   ],
   "source": [
    "from scipy.stats import chi2_contingency\n",
    "chi2, p, dof, expected = chi2_contingency(grouped_p1.mean())\n",
    "msg = 'Test Statistic: {}\\np-value: {}\\nDegree of Freedom: {}'\n",
    "print(msg.format(chi2, p, dof))"
   ]
  },
  {
   "cell_type": "code",
   "execution_count": 217,
   "metadata": {},
   "outputs": [],
   "source": [
    "col = ['NA_Sales','EU_Sales','JP_Sales','Other_Sales']\n",
    "ind = grouped_p1.indices\n",
    "\n",
    "scaler = StandardScaler()\n",
    "Z_sum = pd.DataFrame(scaler.fit_transform(grouped_p1.sum()), columns=col, index=ind)\n",
    "Z_mean = pd.DataFrame(scaler.fit_transform(grouped_p1.mean()), columns=col, index=ind)"
   ]
  },
  {
   "cell_type": "code",
   "execution_count": 218,
   "metadata": {},
   "outputs": [
    {
     "data": {
      "image/png": "[encoded data removed]",
      "text/plain": [
       "<Figure size 1656x720 with 6 Axes>"
      ]
     },
     "metadata": {
      "needs_background": "light"
     },
     "output_type": "display_data"
    }
   ],
   "source": [
    "plt.figure(figsize=(23,10))\n",
    "plt.subplot(131)\n",
    "plt.title('SUM of sales(Standardized)', fontdict={'size':15})\n",
    "sns.heatmap(Z_sum)\n",
    "plt.subplot(132)\n",
    "plt.title('MEAN of sales(Standardized)', fontdict={'size':15})\n",
    "sns.heatmap(Z_mean)\n",
    "plt.subplot(133)\n",
    "plt.title('Market size', fontdict={'size':15})\n",
    "sns.heatmap(marketsize)\n",
    "plt.show()\n"
   ]
  },
  {
   "cell_type": "code",
   "execution_count": 219,
   "metadata": {},
   "outputs": [
    {
     "data": {
      "text/plain": [
       "<AxesSubplot:title={'center':'Market size by genre'}, xlabel='variable', ylabel='value'>"
      ]
     },
     "execution_count": 219,
     "metadata": {},
     "output_type": "execute_result"
    },
    {
     "data": {
      "image/png": "[encoded data removed]",
      "text/plain": [
       "<Figure size 1080x576 with 1 Axes>"
      ]
     },
     "metadata": {
      "needs_background": "light"
     },
     "output_type": "display_data"
    }
   ],
   "source": [
    "marketsize.reset_index(inplace=True)\n",
    "melted_ = marketsize.melt(id_vars='Genre', value_vars=['NA_Sales','EU_Sales','JP_Sales','Other_Sales'])\n",
    "plt.figure(figsize=(15,8))\n",
    "plt.title('Market size by genre', fontdict={'size':20})\n",
    "sns.barplot(data=melted_, x='variable', y='value', hue='Genre')"
   ]
  },
  {
   "cell_type": "markdown",
   "metadata": {},
   "source": [
    "ANS 1. 지역과 장르와의 관계에 있어 연관성이 있음 (p-value 0.05이하)\n",
    "    2. 전반적으로 북미 시장이 타지역보다 잘 형성이 되어 있다.\n",
    "    - 북미 : 액션, 레이싱, 슈팅, 스포츠에서 매출이 많이 나왔으며, 관심도는 레이싱과 슈팅가 높다고 볼 수 있다. \n",
    "    - 유럽 : 액션, 플랫폼, 슈팅, 스포츠에서 매출이 많이 나왔으며, 플랫폼과 슈팅 게임에 대한 관심도가 높다고 볼 수 있다.\n",
    "    - 일본 : 롤플레잉 게임에 집중 되어있으며, 그 외 스포츠, 액션, 슈팅게임 정도가 활성화 되어 있다.\n",
    "    - 그 외의 국가들은 시장의 규모가 작으나, 그 중에서도 롤플레잉에 집중도가 높다고 볼 수 있다."
   ]
  },
  {
   "cell_type": "markdown",
   "metadata": {},
   "source": [
    "**연도별 게임의 트렌드가 있을까?**\n",
    "\n",
    "H0 : 연도별 게임의 트렌드가 없다.\n",
    "H1 : 연도별 게임의 트렌드가 있다."
   ]
  },
  {
   "cell_type": "code",
   "execution_count": null,
   "metadata": {},
   "outputs": [],
   "source": []
  }
 ],
 "metadata": {
  "kernelspec": {
   "display_name": "Python 3.9.7 ('base')",
   "language": "python",
   "name": "python3"
  },
  "language_info": {
   "codemirror_mode": {
    "name": "ipython",
    "version": 3
   },
   "file_extension": ".py",
   "mimetype": "text/x-python",
   "name": "python",
   "nbconvert_exporter": "python",
   "pygments_lexer": "ipython3",
   "version": "3.9.7"
  },
  "orig_nbformat": 4,
  "vscode": {
   "interpreter": {
    "hash": "3cccf3c0b3c2a2050357b1b8a17562ab47367858b3436cecb27352aff36d702f"
   }
  }
 },
 "nbformat": 4,
 "nbformat_minor": 2
}
